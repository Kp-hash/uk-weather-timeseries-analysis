{
 "cells": [
  {
   "cell_type": "markdown",
   "metadata": {},
   "source": [
    "# Abstract\n",
    "Forecasting temperature  by the use of advance statistical tools is very important \n",
    "in understanding and dealing with the effects of rising or decreasing temperatures.\n",
    "This study uses Time series analysis and predictions, a statistical methods to analyze \n",
    "and forecast temperatures, by using the average max, min and mean temperature \n",
    "for each month of different regions in the United Kingdom measured by the Met Office. \n",
    "The increase in concerns about the effects of rising or decreasing temperature on  humans, \n",
    "animals, the climate, oceans, and seasonal patterns provokes the need for accurate models \n",
    "for forecasting the temperatures of the different regions across the globe. This report presents\n",
    "the results of forecasting  temperatures using trend analysis, seasonality estimation through \n",
    "seasonal averages and seasonal harmonics, the final model were selected using the autoregressive integrated moving average models\n"
   ]
  },
  {
   "cell_type": "code",
   "execution_count": 59,
   "metadata": {},
   "outputs": [],
   "source": [
    "#install.packages(c(\"magrittr\", \"knitr\", \"tseries\",\"forecast\"))"
   ]
  },
  {
   "cell_type": "code",
   "execution_count": 60,
   "metadata": {},
   "outputs": [],
   "source": [
    "library(magrittr)\n",
    "library(knitr)\n",
    "library(tseries)\n",
    "library(forecast)\n"
   ]
  },
  {
   "cell_type": "markdown",
   "metadata": {},
   "source": [
    "# 1. DATA COLLECTION\n",
    "The data used for this study was gotten from the Met Office website where we sourced \n",
    "for the average max, min and mean temperature for each month for 10 different districts in the UK.\n",
    "This gave us 30 different time series to work with, In order to collect the data from this website without\n",
    "having to download all the individual files or read in the files individually, a function was created,\n",
    "which takes two arguments; the region(district) and the temperature(parameter), \n",
    "For each desired time series data, the function reads in the data, transform it \n",
    "using the time series function and outputs a time series data from 1884 to 2020 \n",
    "at a frequency of 12 observations per year which reperesents each individual monthly \n",
    "average in a year. The time series data was saved in a nested lists for each of the \n",
    "different parameters which made the it easy to work with the massive count of this data.\n"
   ]
  },
  {
   "cell_type": "code",
   "execution_count": 61,
   "metadata": {},
   "outputs": [],
   "source": [
    "#We created a function that takes region and district and imports the data from the Metoffice website.\n",
    "# Create a list of all regions\n",
    "districts <- c(\"Northern_Ireland\",\n",
    "\n",
    "               \"Scotland_N\",\n",
    "\n",
    "               \"Scotland_E\",\n",
    "\n",
    "               \"Scotland_W\",\n",
    "\n",
    "               \"England_E_and_NE\",\n",
    "\n",
    "               \"England_NW_and_N_Wales\",\n",
    "\n",
    "               \"Midlands\",\n",
    "\n",
    "               \"East_Anglia\",\n",
    "\n",
    "               \"England_SW_and_S_Wales\",\n",
    "\n",
    "               \"England_SE_and_Central_S\"\n",
    "\n",
    ")\n",
    "\n",
    " \n",
    "# create a list of all Parameters\n",
    "features <- c(\"Tmin\", \"Tmean\", \"Tmax\")\n",
    "\n",
    " \n",
    "# indicate template of the url\n",
    "address <-\"https://www.metoffice.gov.uk/pub/data/weather/uk/climate/datasets/\"\n",
    "\n",
    " \n",
    "# Create a function that reads in files from the website\n",
    "read.ts <- function(district, feature){\n",
    "\n",
    "  c(address, feature, \"/date/\", district, \".txt\") %>%\n",
    "\n",
    "  paste(collapse = \"\") %>%\n",
    "\n",
    "  read.table(header = TRUE, skip = 5, nrow = 137) %>%\n",
    "\n",
    "  subset(select = 2:13) %>%\n",
    "\n",
    "  t() %>%\n",
    "\n",
    "  as.vector() %>%\n",
    "\n",
    "  ts(frequency = 12, end = c(2020, 12))\n",
    "\n",
    "}\n"
   ]
  },
  {
   "cell_type": "markdown",
   "metadata": {},
   "source": [
    "\n"
   ]
  },
  {
   "cell_type": "code",
   "execution_count": 62,
   "metadata": {},
   "outputs": [],
   "source": [
    "# Function to apply the read.ts function to a list\n",
    "feature_select <- function(x) {\n",
    "  lapply(districts, read.ts, feature = x) %>%\n",
    "    set_names(districts)\n",
    "}\n"
   ]
  },
  {
   "cell_type": "markdown",
   "metadata": {},
   "source": [
    "\n"
   ]
  },
  {
   "cell_type": "code",
   "execution_count": 63,
   "metadata": {},
   "outputs": [],
   "source": [
    "# Implement the feature_select  function\n",
    "all_data <- lapply(features, feature_select) %>% set_names(features)\n",
    "Tmin <- all_data$Tmin\n",
    "Tmean <- all_data$Tmean\n",
    "Tmax <- all_data$Tmax\n"
   ]
  },
  {
   "cell_type": "markdown",
   "metadata": {},
   "source": [
    "# 2. Minimum and Maximum evaluation\n",
    "Two functions were developed to identify the district and date (year and month) of the highest and\n",
    "the lowest max, min and mean temperature. All our time series data are stored in three groups of temperature parameter,\n",
    "which is a nested list a function was created and we employed the lapply function to apply this function across the \n",
    "respective lists within each group of parameters. The output of the implementation of this function shows that for\n",
    "the average monthly minimum temperature;\n",
    "\n",
    "* The region with the highest temperature is England_SE_and_Central_S , and the date is Aug , 1997\n",
    "* The region with the lowest temperature is Scotland_E , and the date is Jan , 1895\"\n",
    "\n",
    "The region with the lowest and highest temperature measurement for the  average monthly maximum temperature is;\n",
    "\n",
    "* The region with the highest temperature is East_Anglia , and the date is Jul , 2006\n",
    "* The region with the lowest temperature is Midlands , and the date is Feb , 1947\n",
    "\n",
    "Finally, the region with the lowest and highest temperature measurement for the  average monthly mean temperature is;\n",
    "\n",
    "* The region with the highest temperature is East_Anglia , and the date is Jul , 2006\n",
    "* The region with the lowest temperature is Scotland_E , and the date is Jan , 1895\n"
   ]
  },
  {
   "cell_type": "code",
   "execution_count": 64,
   "metadata": {},
   "outputs": [],
   "source": [
    "# Function to return the maximum value in nested list\n",
    "max_eval <- function(x) {\n",
    "  names(x)[which.max(unlist(lapply(x, FUN = max)))] -> region\n",
    "  month.abb[(time(x[[region]])[which.max(x[[region]])] %% 1) * 12 + 1] -> month\n",
    "  floor(time(x[[region]])[which.max(x[[region]])]) -> year\n",
    "  paste(\n",
    "    \"The region with the highest temperature for\",\n",
    "    deparse(substitute(x)),\n",
    "    \"is\",\n",
    "    region,\n",
    "    \",\",\n",
    "    \"and the date is\",\n",
    "    month,\n",
    "    \",\",\n",
    "    year\n",
    "  )\n",
    "}\n"
   ]
  },
  {
   "cell_type": "markdown",
   "metadata": {},
   "source": [
    "\n",
    "\n"
   ]
  },
  {
   "cell_type": "code",
   "execution_count": 65,
   "metadata": {},
   "outputs": [],
   "source": [
    "# Function to return the minimum value in nested list\n",
    "min_eval <- function(x) {\n",
    "  names(x)[which.min(unlist(lapply(x, FUN = min)))] -> region\n",
    "  month.abb[(time(x[[region]])[which.min(x[[region]])] %% 1) * 12 + 1] -> month\n",
    "  floor(time(x[[region]])[which.min(x[[region]])]) -> year\n",
    "  paste(\n",
    "    \"The region with the lowest temperature for\",\n",
    "    deparse(substitute(x)),\n",
    "    \"is\",\n",
    "    region,\n",
    "    \",\",\n",
    "    \"and the date is\",\n",
    "    month,\n",
    "    \",\",\n",
    "    year\n",
    "  )\n",
    "}\n"
   ]
  },
  {
   "cell_type": "markdown",
   "metadata": {},
   "source": [
    "\n"
   ]
  },
  {
   "cell_type": "code",
   "execution_count": 66,
   "metadata": {},
   "outputs": [
    {
     "data": {
      "text/html": [
       "'The region with the highest temperature for Tmin is England_SE_and_Central_S , and the date is Aug , 1997'"
      ],
      "text/latex": [
       "'The region with the highest temperature for Tmin is England\\_SE\\_and\\_Central\\_S , and the date is Aug , 1997'"
      ],
      "text/markdown": [
       "'The region with the highest temperature for Tmin is England_SE_and_Central_S , and the date is Aug , 1997'"
      ],
      "text/plain": [
       "[1] \"The region with the highest temperature for Tmin is England_SE_and_Central_S , and the date is Aug , 1997\""
      ]
     },
     "metadata": {},
     "output_type": "display_data"
    },
    {
     "data": {
      "text/html": [
       "'The region with the lowest temperature for Tmin is Scotland_E , and the date is Jan , 1895'"
      ],
      "text/latex": [
       "'The region with the lowest temperature for Tmin is Scotland\\_E , and the date is Jan , 1895'"
      ],
      "text/markdown": [
       "'The region with the lowest temperature for Tmin is Scotland_E , and the date is Jan , 1895'"
      ],
      "text/plain": [
       "[1] \"The region with the lowest temperature for Tmin is Scotland_E , and the date is Jan , 1895\""
      ]
     },
     "metadata": {},
     "output_type": "display_data"
    },
    {
     "data": {
      "text/html": [
       "'The region with the highest temperature for Tmax is East_Anglia , and the date is Jul , 2006'"
      ],
      "text/latex": [
       "'The region with the highest temperature for Tmax is East\\_Anglia , and the date is Jul , 2006'"
      ],
      "text/markdown": [
       "'The region with the highest temperature for Tmax is East_Anglia , and the date is Jul , 2006'"
      ],
      "text/plain": [
       "[1] \"The region with the highest temperature for Tmax is East_Anglia , and the date is Jul , 2006\""
      ]
     },
     "metadata": {},
     "output_type": "display_data"
    },
    {
     "data": {
      "text/html": [
       "'The region with the lowest temperature for Tmax is Midlands , and the date is Feb , 1947'"
      ],
      "text/latex": [
       "'The region with the lowest temperature for Tmax is Midlands , and the date is Feb , 1947'"
      ],
      "text/markdown": [
       "'The region with the lowest temperature for Tmax is Midlands , and the date is Feb , 1947'"
      ],
      "text/plain": [
       "[1] \"The region with the lowest temperature for Tmax is Midlands , and the date is Feb , 1947\""
      ]
     },
     "metadata": {},
     "output_type": "display_data"
    },
    {
     "data": {
      "text/html": [
       "'The region with the highest temperature for Tmean is East_Anglia , and the date is Jul , 2006'"
      ],
      "text/latex": [
       "'The region with the highest temperature for Tmean is East\\_Anglia , and the date is Jul , 2006'"
      ],
      "text/markdown": [
       "'The region with the highest temperature for Tmean is East_Anglia , and the date is Jul , 2006'"
      ],
      "text/plain": [
       "[1] \"The region with the highest temperature for Tmean is East_Anglia , and the date is Jul , 2006\""
      ]
     },
     "metadata": {},
     "output_type": "display_data"
    },
    {
     "data": {
      "text/html": [
       "'The region with the lowest temperature for Tmean is Scotland_E , and the date is Jan , 1895'"
      ],
      "text/latex": [
       "'The region with the lowest temperature for Tmean is Scotland\\_E , and the date is Jan , 1895'"
      ],
      "text/markdown": [
       "'The region with the lowest temperature for Tmean is Scotland_E , and the date is Jan , 1895'"
      ],
      "text/plain": [
       "[1] \"The region with the lowest temperature for Tmean is Scotland_E , and the date is Jan , 1895\""
      ]
     },
     "metadata": {},
     "output_type": "display_data"
    }
   ],
   "source": [
    "# Call min-max evaluating function\n",
    "max_eval(Tmin)\n",
    "min_eval(Tmin)\n",
    "max_eval(Tmax)\n",
    "min_eval(Tmax)\n",
    "max_eval(Tmean)\n",
    "min_eval(Tmean)\n"
   ]
  },
  {
   "cell_type": "markdown",
   "metadata": {},
   "source": [
    "# 3 – Exploratory Data Analysis\n",
    "We performed some exploratory analysis on the time series data and explores some questions about the time series data as seen below.\n",
    "\n",
    "### Which district is the coldest/warmest?\n",
    "We will be estimating the coldest and warmest region using the following criteria. We have the time series data for the mean daily maximum air temperature, the mean daily minimum and the mean of air for the regions. We will find the coldest region by finding the region with the highest/lowest temperature across these three groups of time series data measured. We observed that the output using this criteria varies among the three different groups of time seris. This can be seen in the output below.\n",
    "\n",
    "* The region with the highest average monthly mean temperature is England_SE_and_Central_S , \n",
    "While the region with the lowest temperature is Scotland_N\n",
    "* The region with the highest average monthly minimum temperature is England_SW_and_S_Wales, \n",
    "While the region with the lowest temperature is Scotland_E\n",
    "* The region with the highest average monthly maximum temperature is England_SE_and_Central_S,\n",
    "While the region with the lowest temperature is Scotland_N\n"
   ]
  },
  {
   "cell_type": "code",
   "execution_count": 67,
   "metadata": {},
   "outputs": [],
   "source": [
    "#creating a function to check average values for any time series parameter given\n",
    "avg_temp <- function(x) {\n",
    "  lapply(x, mean) -> tmp_val\n",
    "  names(tmp_val)[which.max(unlist(lapply(tmp_val, FUN = max)))] -> warmest\n",
    "  names(tmp_val)[which.min(unlist(lapply(tmp_val, FUN = min)))] -> coldest\n",
    "  result <-\n",
    "    paste(\n",
    "      \"The region with the highest temperature average for\",\n",
    "      deparse(substitute(x)),\n",
    "      \"is\",\n",
    "      warmest,\n",
    "      \", While the region with the lowest temperature is\",\n",
    "      coldest\n",
    "    )\n",
    "  return(result)\n",
    "}\n"
   ]
  },
  {
   "cell_type": "markdown",
   "metadata": {},
   "source": [
    "\n"
   ]
  },
  {
   "cell_type": "code",
   "execution_count": 68,
   "metadata": {},
   "outputs": [
    {
     "data": {
      "text/html": [
       "'The region with the highest temperature average for Tmean is England_SE_and_Central_S , While the region with the lowest temperature is Scotland_N'"
      ],
      "text/latex": [
       "'The region with the highest temperature average for Tmean is England\\_SE\\_and\\_Central\\_S , While the region with the lowest temperature is Scotland\\_N'"
      ],
      "text/markdown": [
       "'The region with the highest temperature average for Tmean is England_SE_and_Central_S , While the region with the lowest temperature is Scotland_N'"
      ],
      "text/plain": [
       "[1] \"The region with the highest temperature average for Tmean is England_SE_and_Central_S , While the region with the lowest temperature is Scotland_N\""
      ]
     },
     "metadata": {},
     "output_type": "display_data"
    },
    {
     "data": {
      "text/html": [
       "'The region with the highest temperature average for Tmin is England_SW_and_S_Wales , While the region with the lowest temperature is Scotland_E'"
      ],
      "text/latex": [
       "'The region with the highest temperature average for Tmin is England\\_SW\\_and\\_S\\_Wales , While the region with the lowest temperature is Scotland\\_E'"
      ],
      "text/markdown": [
       "'The region with the highest temperature average for Tmin is England_SW_and_S_Wales , While the region with the lowest temperature is Scotland_E'"
      ],
      "text/plain": [
       "[1] \"The region with the highest temperature average for Tmin is England_SW_and_S_Wales , While the region with the lowest temperature is Scotland_E\""
      ]
     },
     "metadata": {},
     "output_type": "display_data"
    },
    {
     "data": {
      "text/html": [
       "'The region with the highest temperature average for Tmax is England_SE_and_Central_S , While the region with the lowest temperature is Scotland_N'"
      ],
      "text/latex": [
       "'The region with the highest temperature average for Tmax is England\\_SE\\_and\\_Central\\_S , While the region with the lowest temperature is Scotland\\_N'"
      ],
      "text/markdown": [
       "'The region with the highest temperature average for Tmax is England_SE_and_Central_S , While the region with the lowest temperature is Scotland_N'"
      ],
      "text/plain": [
       "[1] \"The region with the highest temperature average for Tmax is England_SE_and_Central_S , While the region with the lowest temperature is Scotland_N\""
      ]
     },
     "metadata": {},
     "output_type": "display_data"
    }
   ],
   "source": [
    "avg_temp(Tmean)\n",
    "avg_temp(Tmin)\n",
    "avg_temp(Tmax)\n"
   ]
  },
  {
   "cell_type": "markdown",
   "metadata": {},
   "source": [
    "### Which district has the widest temperature range?\n",
    "We created a function that takes returns the highest range for a list of  time series data. This was applied to three groups of time series data and we observed that for average monthly mean temperature  and average monthly minimum temperature  East_Anglia and England_SE_and_Central_S had the widest range but for the average monthly maximum temperature we observed that East Anglia had the widest range of temperatures.\n"
   ]
  },
  {
   "cell_type": "code",
   "execution_count": 69,
   "metadata": {},
   "outputs": [],
   "source": [
    "widest_range <- function(takes_list) {\n",
    "  lapply(takes_list, min) %>% as.data.frame() - lapply(takes_list, max) %>% as.data.frame() -> range_diff\n",
    "  range_diff[which(range_diff %in% apply(range_diff, 1, min))] -> widest_range\n",
    "  return(widest_range)\n",
    "}\n"
   ]
  },
  {
   "cell_type": "markdown",
   "metadata": {},
   "source": [
    "\n"
   ]
  },
  {
   "cell_type": "code",
   "execution_count": 70,
   "metadata": {},
   "outputs": [
    {
     "data": {
      "text/html": [
       "<table>\n",
       "<thead><tr><th scope=col>East_Anglia</th><th scope=col>England_SE_and_Central_S</th></tr></thead>\n",
       "<tbody>\n",
       "\t<tr><td>-22.9</td><td>-22.9</td></tr>\n",
       "</tbody>\n",
       "</table>\n"
      ],
      "text/latex": [
       "\\begin{tabular}{r|ll}\n",
       " East\\_Anglia & England\\_SE\\_and\\_Central\\_S\\\\\n",
       "\\hline\n",
       "\t -22.9 & -22.9\\\\\n",
       "\\end{tabular}\n"
      ],
      "text/markdown": [
       "\n",
       "| East_Anglia | England_SE_and_Central_S |\n",
       "|---|---|\n",
       "| -22.9 | -22.9 |\n",
       "\n"
      ],
      "text/plain": [
       "  East_Anglia England_SE_and_Central_S\n",
       "1 -22.9       -22.9                   "
      ]
     },
     "metadata": {},
     "output_type": "display_data"
    },
    {
     "data": {
      "text/html": [
       "<table>\n",
       "<thead><tr><th scope=col>East_Anglia</th><th scope=col>England_SE_and_Central_S</th></tr></thead>\n",
       "<tbody>\n",
       "\t<tr><td>-20.5</td><td>-20.5</td></tr>\n",
       "</tbody>\n",
       "</table>\n"
      ],
      "text/latex": [
       "\\begin{tabular}{r|ll}\n",
       " East\\_Anglia & England\\_SE\\_and\\_Central\\_S\\\\\n",
       "\\hline\n",
       "\t -20.5 & -20.5\\\\\n",
       "\\end{tabular}\n"
      ],
      "text/markdown": [
       "\n",
       "| East_Anglia | England_SE_and_Central_S |\n",
       "|---|---|\n",
       "| -20.5 | -20.5 |\n",
       "\n"
      ],
      "text/plain": [
       "  East_Anglia England_SE_and_Central_S\n",
       "1 -20.5       -20.5                   "
      ]
     },
     "metadata": {},
     "output_type": "display_data"
    },
    {
     "data": {
      "text/html": [
       "<table>\n",
       "<thead><tr><th scope=col>East_Anglia</th></tr></thead>\n",
       "<tbody>\n",
       "\t<tr><td>-26.9</td></tr>\n",
       "</tbody>\n",
       "</table>\n"
      ],
      "text/latex": [
       "\\begin{tabular}{r|l}\n",
       " East\\_Anglia\\\\\n",
       "\\hline\n",
       "\t -26.9\\\\\n",
       "\\end{tabular}\n"
      ],
      "text/markdown": [
       "\n",
       "| East_Anglia |\n",
       "|---|\n",
       "| -26.9 |\n",
       "\n"
      ],
      "text/plain": [
       "  East_Anglia\n",
       "1 -26.9      "
      ]
     },
     "metadata": {},
     "output_type": "display_data"
    }
   ],
   "source": [
    "widest_range(Tmean)\n",
    "widest_range(Tmin)\n",
    "widest_range(Tmax)\n"
   ]
  },
  {
   "cell_type": "markdown",
   "metadata": {},
   "source": [
    "### Are winters/summers getting colder/hotter?\n",
    "We employed data wrangling techniques to group our time series data into two different \n",
    "seasons (winter and summer). We created a  function to convert all time series object \n",
    "to data frame of each season(winter and summer). Each row in the dataframe represents \n",
    "a year and the months for a specific season. This function was applied to the average \n",
    "monthly mean temperature, this gives a summary of the occurence for each months in a\n",
    "particular season. A function was then developed to merge all the seasonal dataframe \n",
    "from each region into a single group for a specific season and this was converted to \n",
    "a time series object using the function ts(). The new time series data was then visualized \n",
    "on a time series plot and we observed that the mean temperature for winter months has an\n",
    "upward trend while that of summer months has a downward trend, this means winters are \n",
    "getting hotter while summers are getting colder.\n"
   ]
  },
  {
   "cell_type": "code",
   "execution_count": 71,
   "metadata": {},
   "outputs": [],
   "source": [
    "winter <- c(\"Dec\", \"Jan\", \"Feb\", \"Year\")\n",
    "summer <- c(\"Jun\", \"Jul\", \"Aug\", \"Year\")\n",
    "\n",
    "get_season <- function(Tparameter, seas_param) {\n",
    "  #convert to dataframe\n",
    "  dmn <- list(month.abb, unique(floor(time(Tparameter))))\n",
    "  as.data.frame(t(matrix(Tparameter , 12, dimnames = dmn))) -> ts_df\n",
    "  #add year to dataframe\n",
    "  ts_df$Year <- seq(1884, 2020)\n",
    "  #subset data into seasons\n",
    "  season <- seas_param\n",
    "  #add to new variable\n",
    "  ts_df[season] -> season\n",
    "  return(season)\n",
    "}\n"
   ]
  },
  {
   "cell_type": "markdown",
   "metadata": {},
   "source": [
    "\n"
   ]
  },
  {
   "cell_type": "code",
   "execution_count": 72,
   "metadata": {},
   "outputs": [],
   "source": [
    "lapply(Tmean, get_season,seas_param=summer)->sum_mons\n",
    "lapply(Tmean, get_season,seas_param=winter)->win_mons\n"
   ]
  },
  {
   "cell_type": "markdown",
   "metadata": {},
   "source": [
    "\n",
    "\n"
   ]
  },
  {
   "cell_type": "code",
   "execution_count": 73,
   "metadata": {},
   "outputs": [],
   "source": [
    "merge_avg_all <- function(season_mons) {\n",
    "  my_merge <- function(df1, df2) {\n",
    "    merge(df1, df2, by = 'Year')\n",
    "  }\n",
    "  \n",
    "  #merge all dataframe inside Parameter list to one\n",
    "  Reduce(my_merge, season_mons) -> regions_tmp_seas\n",
    "  \n",
    "  \n",
    "  #getting yearly average for all regions\n",
    "  regions_tmp_seas$testMean <- rowMeans(regions_tmp_seas[, -1])\n",
    "  \n",
    "  \n",
    "  #selecting year and average of all regions\n",
    "  regions_mean <- regions_tmp_seas[c('Year', 'testMean')]\n",
    "  \n",
    "  \n",
    "  #convert back to TS\n",
    "  regions_mean  %>% subset(select = 2) %>% t() %>% as.vector() %>% ts(frequency = 1, end = c(2020, 1)) -> final_Temp\n",
    "  \n",
    "  return(final_Temp)\n",
    "  \n",
    "  \n",
    "}\n"
   ]
  },
  {
   "cell_type": "markdown",
   "metadata": {},
   "source": [
    "\n"
   ]
  },
  {
   "cell_type": "code",
   "execution_count": 74,
   "metadata": {},
   "outputs": [
    {
     "name": "stderr",
     "output_type": "stream",
     "text": [
      "Warning message in merge.data.frame(df1, df2, by = \"Year\"):\n",
      "“column names ‘Dec.x’, ‘Jan.x’, ‘Feb.x’, ‘Dec.y’, ‘Jan.y’, ‘Feb.y’ are duplicated in the result”Warning message in merge.data.frame(df1, df2, by = \"Year\"):\n",
      "“column names ‘Dec.x’, ‘Jan.x’, ‘Feb.x’, ‘Dec.y’, ‘Jan.y’, ‘Feb.y’ are duplicated in the result”Warning message in merge.data.frame(df1, df2, by = \"Year\"):\n",
      "“column names ‘Dec.x’, ‘Jan.x’, ‘Feb.x’, ‘Dec.y’, ‘Jan.y’, ‘Feb.y’, ‘Dec.x’, ‘Jan.x’, ‘Feb.x’, ‘Dec.y’, ‘Jan.y’, ‘Feb.y’ are duplicated in the result”Warning message in merge.data.frame(df1, df2, by = \"Year\"):\n",
      "“column names ‘Dec.x’, ‘Jan.x’, ‘Feb.x’, ‘Dec.y’, ‘Jan.y’, ‘Feb.y’, ‘Dec.x’, ‘Jan.x’, ‘Feb.x’, ‘Dec.y’, ‘Jan.y’, ‘Feb.y’ are duplicated in the result”Warning message in merge.data.frame(df1, df2, by = \"Year\"):\n",
      "“column names ‘Dec.x’, ‘Jan.x’, ‘Feb.x’, ‘Dec.y’, ‘Jan.y’, ‘Feb.y’, ‘Dec.x’, ‘Jan.x’, ‘Feb.x’, ‘Dec.y’, ‘Jan.y’, ‘Feb.y’, ‘Dec.x’, ‘Jan.x’, ‘Feb.x’, ‘Dec.y’, ‘Jan.y’, ‘Feb.y’ are duplicated in the result”Warning message in merge.data.frame(df1, df2, by = \"Year\"):\n",
      "“column names ‘Dec.x’, ‘Jan.x’, ‘Feb.x’, ‘Dec.y’, ‘Jan.y’, ‘Feb.y’, ‘Dec.x’, ‘Jan.x’, ‘Feb.x’, ‘Dec.y’, ‘Jan.y’, ‘Feb.y’, ‘Dec.x’, ‘Jan.x’, ‘Feb.x’, ‘Dec.y’, ‘Jan.y’, ‘Feb.y’ are duplicated in the result”Warning message in merge.data.frame(df1, df2, by = \"Year\"):\n",
      "“column names ‘Dec.x’, ‘Jan.x’, ‘Feb.x’, ‘Dec.y’, ‘Jan.y’, ‘Feb.y’, ‘Dec.x’, ‘Jan.x’, ‘Feb.x’, ‘Dec.y’, ‘Jan.y’, ‘Feb.y’, ‘Dec.x’, ‘Jan.x’, ‘Feb.x’, ‘Dec.y’, ‘Jan.y’, ‘Feb.y’, ‘Dec.x’, ‘Jan.x’, ‘Feb.x’, ‘Dec.y’, ‘Jan.y’, ‘Feb.y’ are duplicated in the result”Warning message in merge.data.frame(df1, df2, by = \"Year\"):\n",
      "“column names ‘Jun.x’, ‘Jul.x’, ‘Aug.x’, ‘Jun.y’, ‘Jul.y’, ‘Aug.y’ are duplicated in the result”Warning message in merge.data.frame(df1, df2, by = \"Year\"):\n",
      "“column names ‘Jun.x’, ‘Jul.x’, ‘Aug.x’, ‘Jun.y’, ‘Jul.y’, ‘Aug.y’ are duplicated in the result”Warning message in merge.data.frame(df1, df2, by = \"Year\"):\n",
      "“column names ‘Jun.x’, ‘Jul.x’, ‘Aug.x’, ‘Jun.y’, ‘Jul.y’, ‘Aug.y’, ‘Jun.x’, ‘Jul.x’, ‘Aug.x’, ‘Jun.y’, ‘Jul.y’, ‘Aug.y’ are duplicated in the result”Warning message in merge.data.frame(df1, df2, by = \"Year\"):\n",
      "“column names ‘Jun.x’, ‘Jul.x’, ‘Aug.x’, ‘Jun.y’, ‘Jul.y’, ‘Aug.y’, ‘Jun.x’, ‘Jul.x’, ‘Aug.x’, ‘Jun.y’, ‘Jul.y’, ‘Aug.y’ are duplicated in the result”Warning message in merge.data.frame(df1, df2, by = \"Year\"):\n",
      "“column names ‘Jun.x’, ‘Jul.x’, ‘Aug.x’, ‘Jun.y’, ‘Jul.y’, ‘Aug.y’, ‘Jun.x’, ‘Jul.x’, ‘Aug.x’, ‘Jun.y’, ‘Jul.y’, ‘Aug.y’, ‘Jun.x’, ‘Jul.x’, ‘Aug.x’, ‘Jun.y’, ‘Jul.y’, ‘Aug.y’ are duplicated in the result”Warning message in merge.data.frame(df1, df2, by = \"Year\"):\n",
      "“column names ‘Jun.x’, ‘Jul.x’, ‘Aug.x’, ‘Jun.y’, ‘Jul.y’, ‘Aug.y’, ‘Jun.x’, ‘Jul.x’, ‘Aug.x’, ‘Jun.y’, ‘Jul.y’, ‘Aug.y’, ‘Jun.x’, ‘Jul.x’, ‘Aug.x’, ‘Jun.y’, ‘Jul.y’, ‘Aug.y’ are duplicated in the result”Warning message in merge.data.frame(df1, df2, by = \"Year\"):\n",
      "“column names ‘Jun.x’, ‘Jul.x’, ‘Aug.x’, ‘Jun.y’, ‘Jul.y’, ‘Aug.y’, ‘Jun.x’, ‘Jul.x’, ‘Aug.x’, ‘Jun.y’, ‘Jul.y’, ‘Aug.y’, ‘Jun.x’, ‘Jul.x’, ‘Aug.x’, ‘Jun.y’, ‘Jul.y’, ‘Aug.y’, ‘Jun.x’, ‘Jul.x’, ‘Aug.x’, ‘Jun.y’, ‘Jul.y’, ‘Aug.y’ are duplicated in the result”"
     ]
    },
    {
     "data": {
      "image/png": "[encoded data removed]",
      "text/plain": [
       "Plot with title “Average Winter Temperature Trend”"
      ]
     },
     "metadata": {},
     "output_type": "display_data"
    },
    {
     "data": {
      "image/png": "[encoded data removed]",
      "text/plain": [
       "Plot with title “Average Summer Temperature Trend”"
      ]
     },
     "metadata": {},
     "output_type": "display_data"
    }
   ],
   "source": [
    "plot(merge_avg_all(win_mons),main=\"Average Winter Temperature Trend\",xlab=\"Year\",ylab=\"Mean Temperature\")\n",
    "plot(merge_avg_all(sum_mons),main=\"Average Summer Temperature Trend\",xlab=\"Year\",ylab=\"Mean Temperature\")\n"
   ]
  },
  {
   "cell_type": "markdown",
   "metadata": {},
   "source": [
    "### 4 – Trend and Seasonality Estimation\n",
    "\n",
    "We created a function to subset the time series data For each district, and considering\n",
    "the 3 time series: max temp, min temp and mean temp, from 1884  until December 2019.\n",
    "This was implemented using the ts() function which takes start of the series, frequency \n",
    "of the series, and end of the series. We created a function that subsets our time series\n",
    "from 1884 - 2019  called \"subset_2019\" which was then applied to the entire 30 time series \n",
    "data set. The Lapply function is one used to apply a function to every element in \n",
    "a list, since our 3 groups of time series are stored as a nested list the lapply function was used to\n",
    "apply our subset_2019 function on the 3 different groups of our time series data Tmin, Tmax, Tmean\n",
    "to subset the 30 time series data from 1884-2019. We manually created a time vector for our time\n",
    "series \"time.all\" which will be used extensively in this analysis.\n"
   ]
  },
  {
   "cell_type": "code",
   "execution_count": 75,
   "metadata": {},
   "outputs": [],
   "source": [
    "#function to Subset each of the 30 time series until December 2019\n",
    "subset_2019 <- function(x) {\n",
    "  x %>% head(-12)\n",
    "}\n"
   ]
  },
  {
   "cell_type": "markdown",
   "metadata": {},
   "source": [
    "\n",
    "\n"
   ]
  },
  {
   "cell_type": "code",
   "execution_count": 76,
   "metadata": {},
   "outputs": [],
   "source": [
    "#subset all groups of time series data to december 2019 using subset_2019 function\n",
    "lapply(Tmin, subset_2019) -> Tmin_2019\n",
    "lapply(Tmean, subset_2019) -> Tmean_2019\n",
    "lapply(Tmax, subset_2019) -> Tmax_2019\n"
   ]
  },
  {
   "cell_type": "markdown",
   "metadata": {},
   "source": [
    "\n",
    "\n"
   ]
  },
  {
   "cell_type": "code",
   "execution_count": 77,
   "metadata": {},
   "outputs": [],
   "source": [
    "# manually create time range\n",
    "time.all <- seq(\n",
    "  from = start(Tmax_2019$Northern_Ireland)[1],\n",
    "  by = 1 / frequency(Tmax_2019$Northern_Ireland),\n",
    "  length.out = length(Tmax_2019$Northern_Ireland)\n",
    ")\n"
   ]
  },
  {
   "cell_type": "markdown",
   "metadata": {},
   "source": [
    "Compare your results and use appropriate plots and/or tables to confirm your\n",
    "observations.\n",
    "\n",
    "### 4.1 Estimating trend \n",
    "We estimated the trend of each time series using linear, quadratic and cubic regression. A function was developed to apply the 3 different order of polynomial models(linear, quadratic and cubic). The function \"run_model\" takes a time series data and its time vector and returns its linear, quadratic and cubic models. A function \"plot_model\" was created which returns a plot of the  time series data, linear, quadratic and cubic models all together on a single plot. Finally, We created a function \"model_design\" which returns the Akaike criterion (AIC) for each model that was passed into its arguments.We are working with data nested into a list and as such we will create a function that can apply the model_design function to a list of time series, this new function was called \"apply_model_design\". This function \"apply_model_design\" will return a list of AIC values for the linear, quadratic and cubic models. We then used the apply_model_design on the three groups of time series data we have. The application of this function gives us the AIC value of each region for the different parameters(TMIN,TMEAN and TMAX).\n"
   ]
  },
  {
   "cell_type": "code",
   "execution_count": 78,
   "metadata": {},
   "outputs": [],
   "source": [
    "#Function to return models\n",
    "run_model <- function(data, time) {\n",
    "  l_model <- lm(data ~ poly(time, degree = 1, raw = TRUE))\n",
    "  q_model <- lm(data ~ poly(time, degree = 2, raw = TRUE))\n",
    "  c_model <- lm(data ~ poly(time, degree = 3, raw = TRUE))\n",
    "  \n",
    "  return(list(\n",
    "    l_model = l_model,\n",
    "    q_model = q_model,\n",
    "    c_model = c_model\n",
    "  ))\n",
    "}\n"
   ]
  },
  {
   "cell_type": "markdown",
   "metadata": {},
   "source": [
    "\n",
    "\n"
   ]
  },
  {
   "cell_type": "code",
   "execution_count": 79,
   "metadata": {},
   "outputs": [],
   "source": [
    "#Function to return a plot\n",
    "plot_model <- function(data, time,main) {\n",
    "  l_var_name <- lm(data ~ poly(time, degree = 1, raw = TRUE))\n",
    "  q_var_name <- lm(data ~ poly(time, degree = 2, raw = TRUE))\n",
    "  c_var_name <- lm(data ~ poly(time, degree = 3, raw = TRUE))\n",
    "  \n",
    "  \n",
    "  xlab <- \"Year\"\n",
    "  ylab <- \"Temperature\"\n",
    "  \n",
    "  \n",
    "  \n",
    "\n",
    "  plot(\n",
    "    data,\n",
    "    main = main,\n",
    "    ylab = ylab,\n",
    "    xlab = xlab,\n",
    "    xlim = c(1880, 2025),\n",
    "    lwd = 1,\n",
    "    type = \"l\"\n",
    "  )\n",
    "  lines(\n",
    "    time,\n",
    "    fitted(l_var_name),\n",
    "    lwd = 5,\n",
    "    col = 'red',\n",
    "    lty = \"dotdash\"\n",
    "  )\n",
    "  lines(\n",
    "    time,\n",
    "    fitted(q_var_name),\n",
    "    lwd = 5,\n",
    "    col = 'green',\n",
    "    lty = \"dotdash\"\n",
    "  )\n",
    "  lines(\n",
    "    time,\n",
    "    fitted(c_var_name),\n",
    "    lwd = 5,\n",
    "    col = 'yellow',\n",
    "    lty = \"dotdash\"\n",
    "  )\n",
    "}\n"
   ]
  },
  {
   "cell_type": "markdown",
   "metadata": {},
   "source": [
    "\n",
    "\n"
   ]
  },
  {
   "cell_type": "code",
   "execution_count": 80,
   "metadata": {},
   "outputs": [],
   "source": [
    "#Function to return a list of AIC of different models used for each group of time series\n",
    "model_design <- function(data, time, var_name, poly_degree) {\n",
    "  var_name <- lm(data ~ poly(time, degree = poly_degree, raw = TRUE))\n",
    "  Var_AIC <- AIC(var_name)\n",
    "  \n",
    "  main <- \"Average Temperature from 1879\"\n",
    "  xlab <- \"Year\"\n",
    "  ylab <- \"Temp\"\n",
    "  \n",
    "  \n",
    "  \n",
    "  \n",
    "  \n",
    "  return(list(Var_AIC = Var_AIC))\n",
    "}\n"
   ]
  },
  {
   "cell_type": "markdown",
   "metadata": {},
   "source": [
    "\n",
    "\n"
   ]
  },
  {
   "cell_type": "code",
   "execution_count": 81,
   "metadata": {},
   "outputs": [],
   "source": [
    "#Function that applies the model_design function to a list and returns list of list\n",
    "apply_model_design <- function(my_list) {\n",
    "  lapply(\n",
    "    my_list,\n",
    "    model_design,\n",
    "    var_name = 'linear',\n",
    "    poly_degree = 1,\n",
    "    time = time.all\n",
    "  ) -> linear.models\n",
    "  lapply(\n",
    "    my_list,\n",
    "    model_design,\n",
    "    var_name = 'quadratic',\n",
    "    poly_degree = 2,\n",
    "    time = time.all\n",
    "  )  -> quadratic.models\n",
    "  lapply(\n",
    "    my_list,\n",
    "    model_design,\n",
    "    var_name = 'cubic',\n",
    "    poly_degree = 3,\n",
    "    time = time.all\n",
    "  ) -> cubic.models\n",
    "  \n",
    "  all_list <-\n",
    "    list(\n",
    "      linear.models = linear.models,\n",
    "      quadratic.models = quadratic.models,\n",
    "      cubic.models = cubic.models\n",
    "    )\n",
    "  \n",
    "  return(all_list)\n",
    "  \n",
    "}\n"
   ]
  },
  {
   "cell_type": "markdown",
   "metadata": {},
   "source": [
    "\n",
    "\n"
   ]
  },
  {
   "cell_type": "code",
   "execution_count": 82,
   "metadata": {},
   "outputs": [],
   "source": [
    "#apply the apply_model_design function on different groups of Time series\n",
    "apply_model_design(Tmin_2019)-> Tmin_models\n",
    "apply_model_design(Tmax_2019)-> Tmax_models\n",
    "apply_model_design(Tmean_2019)-> Tmean_models\n"
   ]
  },
  {
   "cell_type": "markdown",
   "metadata": {},
   "source": [
    "Select a trend model for each time series using an appropriate criteria. Are the models\n",
    "selected all the same? If not is there a pattern depending on the region and/or the\n",
    "group (max, min and mean)?\n",
    "\n",
    "\n",
    "### 4.2 Trend Selection\n",
    "We created a function \"which_model\" which helps select the best model for a time series, we have the linear, quadratic and cubic AIC values for each region, we will use this function to find the model with the least Akaike criterion(AIC) values which signifies the best model for the time series data. The which_model() function when applied to a list of different time series data returns a dataframe which has a column \"Best.Model\" which shows the row-wise minimum for each region since each row represents a region and its linear, quadratic and cubic models for a specific parameter. It was observed that all the regions had their best model as the linear model except for two regions(England_E_and_NE and East_Anglia) in the average monthly maximum temperature (Tmax) parameter. The table for best models for each region for a specific parameter can be found below.\n"
   ]
  },
  {
   "cell_type": "code",
   "execution_count": 83,
   "metadata": {},
   "outputs": [],
   "source": [
    "# Function to return the best model\n",
    "which_model <- function(Model_parameter) {\n",
    "  Model_parameter$linear.models %>% as.data.frame() -> l\n",
    "  names(l) <- c(names(Model_parameter$linear.models))\n",
    "  \n",
    "  Model_parameter$quadratic.models %>% as.data.frame() -> q\n",
    "  names(q) <- c(names(Model_parameter$quadratic.models))\n",
    "  \n",
    "  Model_parameter$cubic.models %>% as.data.frame() -> c\n",
    "  names(c) <- c(names(Model_parameter$cubic.models))\n",
    "  \n",
    "  ModelAIC <- c(\"Linear\", \"Quadratic\", \"Cubic\")\n",
    "  \n",
    "  cbind(ModelAIC, rbind(l, q, c)) -> tminbind\n",
    "  \n",
    "  tminbind %>% as.vector() %>% t() %>% as.data.frame() -> new\n",
    "  \n",
    "  names(new) <- as.matrix(new[1,])\n",
    "  new <- new[-1,]\n",
    "  new[] <- lapply(new, function(x)\n",
    "    type.convert(as.character(x)))\n",
    "  \n",
    "  new$Best.Model <- colnames(new)[apply(new, 1, FUN = which.min)]\n",
    "  return(new)\n",
    "}\n"
   ]
  },
  {
   "cell_type": "markdown",
   "metadata": {},
   "source": [
    "\n",
    "###### Best Model by region for Average monthly minimum temperature \n"
   ]
  },
  {
   "cell_type": "code",
   "execution_count": 84,
   "metadata": {},
   "outputs": [
    {
     "data": {
      "text/html": [
       "<table>\n",
       "<thead><tr><th></th><th scope=col>Linear</th><th scope=col>Quadratic</th><th scope=col>Cubic</th><th scope=col>Best.Model</th></tr></thead>\n",
       "<tbody>\n",
       "\t<tr><th scope=row>Northern_Ireland</th><td>8750.087</td><td>8751.713</td><td>8753.274</td><td>Linear  </td></tr>\n",
       "\t<tr><th scope=row>Scotland_N</th><td>8810.026</td><td>8811.996</td><td>8810.161</td><td>Linear  </td></tr>\n",
       "\t<tr><th scope=row>Scotland_E</th><td>8965.673</td><td>8967.253</td><td>8968.291</td><td>Linear  </td></tr>\n",
       "\t<tr><th scope=row>Scotland_W</th><td>8846.061</td><td>8846.819</td><td>8847.798</td><td>Linear  </td></tr>\n",
       "\t<tr><th scope=row>England_E_and_NE</th><td>9087.359</td><td>9088.741</td><td>9088.965</td><td>Linear  </td></tr>\n",
       "\t<tr><th scope=row>England_NW_and_N_Wales</th><td>9036.052</td><td>9037.944</td><td>9037.740</td><td>Linear  </td></tr>\n",
       "\t<tr><th scope=row>Midlands</th><td>9155.343</td><td>9156.756</td><td>9157.614</td><td>Linear  </td></tr>\n",
       "\t<tr><th scope=row>East_Anglia</th><td>9285.600</td><td>9287.398</td><td>9287.210</td><td>Linear  </td></tr>\n",
       "\t<tr><th scope=row>England_SW_and_S_Wales</th><td>8960.401</td><td>8962.169</td><td>8960.601</td><td>Linear  </td></tr>\n",
       "\t<tr><th scope=row>England_SE_and_Central_S</th><td>9221.155</td><td>9222.648</td><td>9223.064</td><td>Linear  </td></tr>\n",
       "</tbody>\n",
       "</table>\n"
      ],
      "text/latex": [
       "\\begin{tabular}{r|llll}\n",
       "  & Linear & Quadratic & Cubic & Best.Model\\\\\n",
       "\\hline\n",
       "\tNorthern\\_Ireland & 8750.087 & 8751.713 & 8753.274 & Linear  \\\\\n",
       "\tScotland\\_N & 8810.026 & 8811.996 & 8810.161 & Linear  \\\\\n",
       "\tScotland\\_E & 8965.673 & 8967.253 & 8968.291 & Linear  \\\\\n",
       "\tScotland\\_W & 8846.061 & 8846.819 & 8847.798 & Linear  \\\\\n",
       "\tEngland\\_E\\_and\\_NE & 9087.359 & 9088.741 & 9088.965 & Linear  \\\\\n",
       "\tEngland\\_NW\\_and\\_N\\_Wales & 9036.052 & 9037.944 & 9037.740 & Linear  \\\\\n",
       "\tMidlands & 9155.343 & 9156.756 & 9157.614 & Linear  \\\\\n",
       "\tEast\\_Anglia & 9285.600 & 9287.398 & 9287.210 & Linear  \\\\\n",
       "\tEngland\\_SW\\_and\\_S\\_Wales & 8960.401 & 8962.169 & 8960.601 & Linear  \\\\\n",
       "\tEngland\\_SE\\_and\\_Central\\_S & 9221.155 & 9222.648 & 9223.064 & Linear  \\\\\n",
       "\\end{tabular}\n"
      ],
      "text/markdown": [
       "\n",
       "| <!--/--> | Linear | Quadratic | Cubic | Best.Model |\n",
       "|---|---|---|---|---|\n",
       "| Northern_Ireland | 8750.087 | 8751.713 | 8753.274 | Linear   |\n",
       "| Scotland_N | 8810.026 | 8811.996 | 8810.161 | Linear   |\n",
       "| Scotland_E | 8965.673 | 8967.253 | 8968.291 | Linear   |\n",
       "| Scotland_W | 8846.061 | 8846.819 | 8847.798 | Linear   |\n",
       "| England_E_and_NE | 9087.359 | 9088.741 | 9088.965 | Linear   |\n",
       "| England_NW_and_N_Wales | 9036.052 | 9037.944 | 9037.740 | Linear   |\n",
       "| Midlands | 9155.343 | 9156.756 | 9157.614 | Linear   |\n",
       "| East_Anglia | 9285.600 | 9287.398 | 9287.210 | Linear   |\n",
       "| England_SW_and_S_Wales | 8960.401 | 8962.169 | 8960.601 | Linear   |\n",
       "| England_SE_and_Central_S | 9221.155 | 9222.648 | 9223.064 | Linear   |\n",
       "\n"
      ],
      "text/plain": [
       "                         Linear   Quadratic Cubic    Best.Model\n",
       "Northern_Ireland         8750.087 8751.713  8753.274 Linear    \n",
       "Scotland_N               8810.026 8811.996  8810.161 Linear    \n",
       "Scotland_E               8965.673 8967.253  8968.291 Linear    \n",
       "Scotland_W               8846.061 8846.819  8847.798 Linear    \n",
       "England_E_and_NE         9087.359 9088.741  9088.965 Linear    \n",
       "England_NW_and_N_Wales   9036.052 9037.944  9037.740 Linear    \n",
       "Midlands                 9155.343 9156.756  9157.614 Linear    \n",
       "East_Anglia              9285.600 9287.398  9287.210 Linear    \n",
       "England_SW_and_S_Wales   8960.401 8962.169  8960.601 Linear    \n",
       "England_SE_and_Central_S 9221.155 9222.648  9223.064 Linear    "
      ]
     },
     "metadata": {},
     "output_type": "display_data"
    }
   ],
   "source": [
    "which_model(Tmin_models) \n",
    "\n"
   ]
  },
  {
   "cell_type": "markdown",
   "metadata": {},
   "source": [
    "\n",
    "###### Best Model by region for Average monthly mean temperature \n"
   ]
  },
  {
   "cell_type": "code",
   "execution_count": 85,
   "metadata": {},
   "outputs": [
    {
     "data": {
      "text/html": [
       "<table>\n",
       "<thead><tr><th></th><th scope=col>Linear</th><th scope=col>Quadratic</th><th scope=col>Cubic</th><th scope=col>Best.Model</th></tr></thead>\n",
       "<tbody>\n",
       "\t<tr><th scope=row>Northern_Ireland</th><td>9053.483</td><td>9054.372</td><td>9055.868</td><td>Linear  </td></tr>\n",
       "\t<tr><th scope=row>Scotland_N</th><td>9062.529</td><td>9064.295</td><td>9063.763</td><td>Linear  </td></tr>\n",
       "\t<tr><th scope=row>Scotland_E</th><td>9366.860</td><td>9368.120</td><td>9369.033</td><td>Linear  </td></tr>\n",
       "\t<tr><th scope=row>Scotland_W</th><td>9174.985</td><td>9176.598</td><td>9176.479</td><td>Linear  </td></tr>\n",
       "\t<tr><th scope=row>England_E_and_NE</th><td>9567.980</td><td>9569.231</td><td>9568.649</td><td>Linear  </td></tr>\n",
       "\t<tr><th scope=row>England_NW_and_N_Wales</th><td>9402.510</td><td>9404.186</td><td>9403.742</td><td>Linear  </td></tr>\n",
       "\t<tr><th scope=row>Midlands</th><td>9673.228</td><td>9673.928</td><td>9674.296</td><td>Linear  </td></tr>\n",
       "\t<tr><th scope=row>East_Anglia</th><td>9827.049</td><td>9828.216</td><td>9827.594</td><td>Linear  </td></tr>\n",
       "\t<tr><th scope=row>England_SW_and_S_Wales</th><td>9346.467</td><td>9347.589</td><td>9347.012</td><td>Linear  </td></tr>\n",
       "\t<tr><th scope=row>England_SE_and_Central_S</th><td>9727.621</td><td>9728.571</td><td>9728.571</td><td>Linear  </td></tr>\n",
       "</tbody>\n",
       "</table>\n"
      ],
      "text/latex": [
       "\\begin{tabular}{r|llll}\n",
       "  & Linear & Quadratic & Cubic & Best.Model\\\\\n",
       "\\hline\n",
       "\tNorthern\\_Ireland & 9053.483 & 9054.372 & 9055.868 & Linear  \\\\\n",
       "\tScotland\\_N & 9062.529 & 9064.295 & 9063.763 & Linear  \\\\\n",
       "\tScotland\\_E & 9366.860 & 9368.120 & 9369.033 & Linear  \\\\\n",
       "\tScotland\\_W & 9174.985 & 9176.598 & 9176.479 & Linear  \\\\\n",
       "\tEngland\\_E\\_and\\_NE & 9567.980 & 9569.231 & 9568.649 & Linear  \\\\\n",
       "\tEngland\\_NW\\_and\\_N\\_Wales & 9402.510 & 9404.186 & 9403.742 & Linear  \\\\\n",
       "\tMidlands & 9673.228 & 9673.928 & 9674.296 & Linear  \\\\\n",
       "\tEast\\_Anglia & 9827.049 & 9828.216 & 9827.594 & Linear  \\\\\n",
       "\tEngland\\_SW\\_and\\_S\\_Wales & 9346.467 & 9347.589 & 9347.012 & Linear  \\\\\n",
       "\tEngland\\_SE\\_and\\_Central\\_S & 9727.621 & 9728.571 & 9728.571 & Linear  \\\\\n",
       "\\end{tabular}\n"
      ],
      "text/markdown": [
       "\n",
       "| <!--/--> | Linear | Quadratic | Cubic | Best.Model |\n",
       "|---|---|---|---|---|\n",
       "| Northern_Ireland | 9053.483 | 9054.372 | 9055.868 | Linear   |\n",
       "| Scotland_N | 9062.529 | 9064.295 | 9063.763 | Linear   |\n",
       "| Scotland_E | 9366.860 | 9368.120 | 9369.033 | Linear   |\n",
       "| Scotland_W | 9174.985 | 9176.598 | 9176.479 | Linear   |\n",
       "| England_E_and_NE | 9567.980 | 9569.231 | 9568.649 | Linear   |\n",
       "| England_NW_and_N_Wales | 9402.510 | 9404.186 | 9403.742 | Linear   |\n",
       "| Midlands | 9673.228 | 9673.928 | 9674.296 | Linear   |\n",
       "| East_Anglia | 9827.049 | 9828.216 | 9827.594 | Linear   |\n",
       "| England_SW_and_S_Wales | 9346.467 | 9347.589 | 9347.012 | Linear   |\n",
       "| England_SE_and_Central_S | 9727.621 | 9728.571 | 9728.571 | Linear   |\n",
       "\n"
      ],
      "text/plain": [
       "                         Linear   Quadratic Cubic    Best.Model\n",
       "Northern_Ireland         9053.483 9054.372  9055.868 Linear    \n",
       "Scotland_N               9062.529 9064.295  9063.763 Linear    \n",
       "Scotland_E               9366.860 9368.120  9369.033 Linear    \n",
       "Scotland_W               9174.985 9176.598  9176.479 Linear    \n",
       "England_E_and_NE         9567.980 9569.231  9568.649 Linear    \n",
       "England_NW_and_N_Wales   9402.510 9404.186  9403.742 Linear    \n",
       "Midlands                 9673.228 9673.928  9674.296 Linear    \n",
       "East_Anglia              9827.049 9828.216  9827.594 Linear    \n",
       "England_SW_and_S_Wales   9346.467 9347.589  9347.012 Linear    \n",
       "England_SE_and_Central_S 9727.621 9728.571  9728.571 Linear    "
      ]
     },
     "metadata": {},
     "output_type": "display_data"
    }
   ],
   "source": [
    "which_model(Tmean_models)\n",
    "\n"
   ]
  },
  {
   "cell_type": "markdown",
   "metadata": {},
   "source": [
    "###### Best Model by region for Average monthly maximum temperature \n"
   ]
  },
  {
   "cell_type": "code",
   "execution_count": 86,
   "metadata": {},
   "outputs": [
    {
     "data": {
      "text/html": [
       "<table>\n",
       "<thead><tr><th></th><th scope=col>Linear</th><th scope=col>Quadratic</th><th scope=col>Cubic</th><th scope=col>Best.Model</th></tr></thead>\n",
       "<tbody>\n",
       "\t<tr><th scope=row>Northern_Ireland</th><td> 9401.193</td><td> 9401.260</td><td> 9402.651</td><td>Linear   </td></tr>\n",
       "\t<tr><th scope=row>Scotland_N</th><td> 9365.285</td><td> 9366.435</td><td> 9367.163</td><td>Linear   </td></tr>\n",
       "\t<tr><th scope=row>Scotland_E</th><td> 9785.950</td><td> 9786.641</td><td> 9787.584</td><td>Linear   </td></tr>\n",
       "\t<tr><th scope=row>Scotland_W</th><td> 9559.447</td><td> 9561.343</td><td> 9560.563</td><td>Linear   </td></tr>\n",
       "\t<tr><th scope=row>England_E_and_NE</th><td>10024.990</td><td>10026.200</td><td>10024.660</td><td>Cubic    </td></tr>\n",
       "\t<tr><th scope=row>England_NW_and_N_Wales</th><td> 9794.951</td><td> 9796.380</td><td> 9796.016</td><td>Linear   </td></tr>\n",
       "\t<tr><th scope=row>Midlands</th><td>10170.880</td><td>10170.950</td><td>10170.920</td><td>Linear   </td></tr>\n",
       "\t<tr><th scope=row>East_Anglia</th><td>10329.940</td><td>10330.470</td><td>10329.730</td><td>Cubic    </td></tr>\n",
       "\t<tr><th scope=row>England_SW_and_S_Wales</th><td> 9741.100</td><td> 9741.309</td><td> 9741.594</td><td>Linear   </td></tr>\n",
       "\t<tr><th scope=row>England_SE_and_Central_S</th><td>10203.640</td><td>10204.130</td><td>10203.800</td><td>Linear   </td></tr>\n",
       "</tbody>\n",
       "</table>\n"
      ],
      "text/latex": [
       "\\begin{tabular}{r|llll}\n",
       "  & Linear & Quadratic & Cubic & Best.Model\\\\\n",
       "\\hline\n",
       "\tNorthern\\_Ireland &  9401.193 &  9401.260 &  9402.651 & Linear   \\\\\n",
       "\tScotland\\_N &  9365.285 &  9366.435 &  9367.163 & Linear   \\\\\n",
       "\tScotland\\_E &  9785.950 &  9786.641 &  9787.584 & Linear   \\\\\n",
       "\tScotland\\_W &  9559.447 &  9561.343 &  9560.563 & Linear   \\\\\n",
       "\tEngland\\_E\\_and\\_NE & 10024.990 & 10026.200 & 10024.660 & Cubic    \\\\\n",
       "\tEngland\\_NW\\_and\\_N\\_Wales &  9794.951 &  9796.380 &  9796.016 & Linear   \\\\\n",
       "\tMidlands & 10170.880 & 10170.950 & 10170.920 & Linear   \\\\\n",
       "\tEast\\_Anglia & 10329.940 & 10330.470 & 10329.730 & Cubic    \\\\\n",
       "\tEngland\\_SW\\_and\\_S\\_Wales &  9741.100 &  9741.309 &  9741.594 & Linear   \\\\\n",
       "\tEngland\\_SE\\_and\\_Central\\_S & 10203.640 & 10204.130 & 10203.800 & Linear   \\\\\n",
       "\\end{tabular}\n"
      ],
      "text/markdown": [
       "\n",
       "| <!--/--> | Linear | Quadratic | Cubic | Best.Model |\n",
       "|---|---|---|---|---|\n",
       "| Northern_Ireland |  9401.193 |  9401.260 |  9402.651 | Linear    |\n",
       "| Scotland_N |  9365.285 |  9366.435 |  9367.163 | Linear    |\n",
       "| Scotland_E |  9785.950 |  9786.641 |  9787.584 | Linear    |\n",
       "| Scotland_W |  9559.447 |  9561.343 |  9560.563 | Linear    |\n",
       "| England_E_and_NE | 10024.990 | 10026.200 | 10024.660 | Cubic     |\n",
       "| England_NW_and_N_Wales |  9794.951 |  9796.380 |  9796.016 | Linear    |\n",
       "| Midlands | 10170.880 | 10170.950 | 10170.920 | Linear    |\n",
       "| East_Anglia | 10329.940 | 10330.470 | 10329.730 | Cubic     |\n",
       "| England_SW_and_S_Wales |  9741.100 |  9741.309 |  9741.594 | Linear    |\n",
       "| England_SE_and_Central_S | 10203.640 | 10204.130 | 10203.800 | Linear    |\n",
       "\n"
      ],
      "text/plain": [
       "                         Linear    Quadratic Cubic     Best.Model\n",
       "Northern_Ireland          9401.193  9401.260  9402.651 Linear    \n",
       "Scotland_N                9365.285  9366.435  9367.163 Linear    \n",
       "Scotland_E                9785.950  9786.641  9787.584 Linear    \n",
       "Scotland_W                9559.447  9561.343  9560.563 Linear    \n",
       "England_E_and_NE         10024.990 10026.200 10024.660 Cubic     \n",
       "England_NW_and_N_Wales    9794.951  9796.380  9796.016 Linear    \n",
       "Midlands                 10170.880 10170.950 10170.920 Linear    \n",
       "East_Anglia              10329.940 10330.470 10329.730 Cubic     \n",
       "England_SW_and_S_Wales    9741.100  9741.309  9741.594 Linear    \n",
       "England_SE_and_Central_S 10203.640 10204.130 10203.800 Linear    "
      ]
     },
     "metadata": {},
     "output_type": "display_data"
    }
   ],
   "source": [
    "which_model(Tmax_models)\n",
    "\n"
   ]
  },
  {
   "cell_type": "markdown",
   "metadata": {},
   "source": [
    "As stated above we observed that all our model choice for all regions are uniform except England_E_and_NE and East_Anglia for the Tmax parameter, it would be interesting to see a plot of the linear model vs plot of the cubic model. We used the function \"plot_model\" created above to implement these plots and we observe that there is a difference in the plots for the different regions, while Northern Ireland has a more stable trend, we can see that England_E_and_NE and East_Anglia do have some cubic trend.\n",
    "\n"
   ]
  },
  {
   "cell_type": "code",
   "execution_count": 87,
   "metadata": {},
   "outputs": [
    {
     "data": {
      "image/png": "[encoded data removed]",
      "text/plain": [
       "Plot with title “Trend of Average monthly maximum temperature England_E_and_NE”"
      ]
     },
     "metadata": {},
     "output_type": "display_data"
    }
   ],
   "source": [
    "plot_model(Tmax_2019$England_E_and_NE,time.all,\"Trend of Average monthly maximum temperature England_E_and_NE\")\n",
    "\n"
   ]
  },
  {
   "cell_type": "markdown",
   "metadata": {},
   "source": [
    "\n",
    "\n"
   ]
  },
  {
   "cell_type": "code",
   "execution_count": 88,
   "metadata": {},
   "outputs": [
    {
     "data": {
      "image/png": "[encoded data removed]",
      "text/plain": [
       "Plot with title “Trend of Average monthly maximum temperature East_Anglia”"
      ]
     },
     "metadata": {},
     "output_type": "display_data"
    }
   ],
   "source": [
    "plot_model(Tmax_2019$East_Anglia,time.all,\"Trend of Average monthly maximum temperature East_Anglia\")\n",
    "\n"
   ]
  },
  {
   "cell_type": "markdown",
   "metadata": {},
   "source": [
    "\n",
    "\n"
   ]
  },
  {
   "cell_type": "code",
   "execution_count": 89,
   "metadata": {},
   "outputs": [
    {
     "data": {
      "image/png": "[encoded data removed]",
      "text/plain": [
       "Plot with title “Trend of Average monthly maximum temperature Northern_Ireland”"
      ]
     },
     "metadata": {},
     "output_type": "display_data"
    }
   ],
   "source": [
    "plot_model(Tmax_2019$Northern_Ireland,time.all,\"Trend of Average monthly maximum temperature Northern_Ireland\")\n",
    "\n"
   ]
  },
  {
   "cell_type": "markdown",
   "metadata": {},
   "source": [
    "### 4.3 Estimating seasonality using seasonal means and harmonic models\n",
    "\n",
    "###### 4.3.1 removing Trend using averaging\n",
    "We will create a function that removes the trend component and returns its monthly average. The function takes two arguments which are the time series data and the polynomial model that bests fit it according to the Akaike Criterion. All models except  England_E_and_NE and East_Anglia for the Tmax parameter have a linear model as their best model. We will split the Tmax time series data into two groups the linear and the cubic groups, this would make it easier to apply functions which are specific to the best model for each region. We will then use the return_month_avg to return the seasonal means of each of the different regions based on their best trend model.\n"
   ]
  },
  {
   "cell_type": "code",
   "execution_count": 90,
   "metadata": {},
   "outputs": [],
   "source": [
    "return_month_avg <- function(takes_data, model_type) {\n",
    "  run_model(takes_data, time.all) -> model.result\n",
    "  \n",
    "  data.notrend <- takes_data - fitted(model.result[[model_type]])\n",
    "  \n",
    "  tapply(data.notrend, cycle(takes_data), mean)  %>% as.data.frame() -> fin_month_avg\n",
    "  colnames(fin_month_avg) <- c('Season_Mean')\n",
    "  mymonths <- c(\"Jan\",\n",
    "                \"Feb\",\n",
    "                \"Mar\",\n",
    "                \"Apr\",\n",
    "                \"May\",\n",
    "                \"Jun\",\n",
    "                \"Jul\",\n",
    "                \"Aug\",\n",
    "                \"Sep\",\n",
    "                \"Oct\",\n",
    "                \"Nov\",\n",
    "                \"Dec\")\n",
    "  #add abbreviated month name\n",
    "  fin_month_avg$Month <- mymonths\n",
    "  return(fin_month_avg)\n",
    "  \n",
    "  \n",
    "}\n"
   ]
  },
  {
   "cell_type": "markdown",
   "metadata": {},
   "source": [
    "\n",
    "\n"
   ]
  },
  {
   "cell_type": "code",
   "execution_count": 91,
   "metadata": {},
   "outputs": [],
   "source": [
    "# Subsetting cubic and linear model for TMAX\n",
    "Tmax_2019[-c(5,8)] -> Tmax_2019_ln\n",
    "\n",
    "Tmax_2019[c(5,8)]-> Tmax_2019_cubic\n"
   ]
  },
  {
   "cell_type": "markdown",
   "metadata": {},
   "source": [
    "\n",
    "\n"
   ]
  },
  {
   "cell_type": "code",
   "execution_count": 92,
   "metadata": {},
   "outputs": [],
   "source": [
    "#----Estimate seasonal average for All linear model\n",
    "lapply(Tmin_2019, return_month_avg, model_type = \"l_model\") %>% set_names(names(Tmin_2019)) -> Tmin_monthly_avg\n",
    "lapply(Tmean_2019, return_month_avg, model_type = \"l_model\") %>% set_names(names(Tmin_2019)) -> Tmean_monthly_avg\n",
    "lapply(Tmax_2019_ln, return_month_avg, model_type = \"l_model\") %>% set_names(names(Tmax_2019_ln)) -> Tmax_monthly_avg_ln\n",
    "\n",
    "#----Estimate seasonal average for All cubic model\n",
    "lapply(Tmax_2019_cubic, return_month_avg, model_type = \"c_model\") %>% set_names(names(Tmax_2019_cubic)) -> Tmean_monthly_avg_cubic\n"
   ]
  },
  {
   "cell_type": "markdown",
   "metadata": {},
   "source": [
    "\n",
    "###### Sample monthly average for Northern Ireland\n"
   ]
  },
  {
   "cell_type": "code",
   "execution_count": 93,
   "metadata": {},
   "outputs": [
    {
     "data": {
      "text/html": [
       "<table>\n",
       "<thead><tr><th scope=col>Season_Mean</th><th scope=col>Month</th></tr></thead>\n",
       "<tbody>\n",
       "\t<tr><td>-3.8808442</td><td>Jan       </td></tr>\n",
       "\t<tr><td>-4.0071769</td><td>Feb       </td></tr>\n",
       "\t<tr><td>-3.2077743</td><td>Mar       </td></tr>\n",
       "\t<tr><td>-1.8319011</td><td>Apr       </td></tr>\n",
       "\t<tr><td> 0.5866191</td><td>May       </td></tr>\n",
       "\t<tr><td> 3.3823453</td><td>Jun       </td></tr>\n",
       "\t<tr><td> 5.1493949</td><td>Jul       </td></tr>\n",
       "\t<tr><td> 4.9635034</td><td>Aug       </td></tr>\n",
       "\t<tr><td> 3.2577590</td><td>Sep       </td></tr>\n",
       "\t<tr><td> 0.7674557</td><td>Oct       </td></tr>\n",
       "\t<tr><td>-1.9132888</td><td>Nov       </td></tr>\n",
       "\t<tr><td>-3.2660920</td><td>Dec       </td></tr>\n",
       "</tbody>\n",
       "</table>\n"
      ],
      "text/latex": [
       "\\begin{tabular}{r|ll}\n",
       " Season\\_Mean & Month\\\\\n",
       "\\hline\n",
       "\t -3.8808442 & Jan       \\\\\n",
       "\t -4.0071769 & Feb       \\\\\n",
       "\t -3.2077743 & Mar       \\\\\n",
       "\t -1.8319011 & Apr       \\\\\n",
       "\t  0.5866191 & May       \\\\\n",
       "\t  3.3823453 & Jun       \\\\\n",
       "\t  5.1493949 & Jul       \\\\\n",
       "\t  4.9635034 & Aug       \\\\\n",
       "\t  3.2577590 & Sep       \\\\\n",
       "\t  0.7674557 & Oct       \\\\\n",
       "\t -1.9132888 & Nov       \\\\\n",
       "\t -3.2660920 & Dec       \\\\\n",
       "\\end{tabular}\n"
      ],
      "text/markdown": [
       "\n",
       "| Season_Mean | Month |\n",
       "|---|---|\n",
       "| -3.8808442 | Jan        |\n",
       "| -4.0071769 | Feb        |\n",
       "| -3.2077743 | Mar        |\n",
       "| -1.8319011 | Apr        |\n",
       "|  0.5866191 | May        |\n",
       "|  3.3823453 | Jun        |\n",
       "|  5.1493949 | Jul        |\n",
       "|  4.9635034 | Aug        |\n",
       "|  3.2577590 | Sep        |\n",
       "|  0.7674557 | Oct        |\n",
       "| -1.9132888 | Nov        |\n",
       "| -3.2660920 | Dec        |\n",
       "\n"
      ],
      "text/plain": [
       "   Season_Mean Month\n",
       "1  -3.8808442  Jan  \n",
       "2  -4.0071769  Feb  \n",
       "3  -3.2077743  Mar  \n",
       "4  -1.8319011  Apr  \n",
       "5   0.5866191  May  \n",
       "6   3.3823453  Jun  \n",
       "7   5.1493949  Jul  \n",
       "8   4.9635034  Aug  \n",
       "9   3.2577590  Sep  \n",
       "10  0.7674557  Oct  \n",
       "11 -1.9132888  Nov  \n",
       "12 -3.2660920  Dec  "
      ]
     },
     "metadata": {},
     "output_type": "display_data"
    }
   ],
   "source": [
    "Tmin_monthly_avg$Northern_Ireland\n",
    "\n"
   ]
  },
  {
   "cell_type": "markdown",
   "metadata": {},
   "source": [
    "###### 4.3.2 Estimate seasonality with seasonal average\n",
    "The seasonality was estimated using the seasonal means method. We created a function return_seas_avg which takes the time series data and model type. The function models the inputs and returns the seasonal means for each of the time series provided to it. We used lapply to apply the return_seas_avg to the list of time series for the different parameters Tmin, Tmax, Tmean.\n"
   ]
  },
  {
   "cell_type": "code",
   "execution_count": 94,
   "metadata": {},
   "outputs": [],
   "source": [
    "return_seas_avg <- function(data, model_type) {\n",
    "  #one region since all months are the same\n",
    "  months <- as.factor(cycle(Tmin_2019$Northern_Ireland))\n",
    "  # Apply the run_model function to the data to get the specified model\n",
    "  run_model(data, time.all) -> model.result\n",
    "  # Get the residuals from the data which does not have the trend\n",
    "  data.notrend <- data - fitted(model.result[[model_type]])\n",
    "  seas.means <- lm(data.notrend ~ months - 1)\n",
    "  \n",
    "  \n",
    "  \n",
    "  return(seas.means)\n",
    "}\n"
   ]
  },
  {
   "cell_type": "markdown",
   "metadata": {},
   "source": [
    "\n"
   ]
  },
  {
   "cell_type": "code",
   "execution_count": 95,
   "metadata": {},
   "outputs": [],
   "source": [
    "lapply(Tmin_2019, return_seas_avg, model_type = \"l_model\") %>% set_names(names(Tmin_2019)) -> Tmin_seas_est\n",
    "lapply(Tmean_2019, return_seas_avg, model_type = \"l_model\") %>% set_names(names(Tmin_2019)) -> Tmean_seas_est\n",
    "lapply(Tmax_2019_ln, return_seas_avg, model_type = \"l_model\") %>% set_names(names(Tmax_2019_ln)) -> Tmax_seas_est_ln\n",
    "\n",
    "#All cubic model\n",
    "lapply(Tmax_2019_cubic, return_seas_avg, model_type = \"c_model\") %>% set_names(names(Tmax_2019_cubic)) -> Tmax_seas_est_cubic\n",
    "#joined max\n",
    "do.call(c, list(Tmax_seas_est_ln, Tmax_seas_est_cubic)) -> Tmax_ln_nd_cub_seas\n"
   ]
  },
  {
   "cell_type": "markdown",
   "metadata": {},
   "source": [
    "\n"
   ]
  },
  {
   "cell_type": "code",
   "execution_count": 96,
   "metadata": {},
   "outputs": [
    {
     "data": {
      "text/html": [
       "10"
      ],
      "text/latex": [
       "10"
      ],
      "text/markdown": [
       "10"
      ],
      "text/plain": [
       "[1] 10"
      ]
     },
     "metadata": {},
     "output_type": "display_data"
    },
    {
     "data": {
      "text/html": [
       "10"
      ],
      "text/latex": [
       "10"
      ],
      "text/markdown": [
       "10"
      ],
      "text/plain": [
       "[1] 10"
      ]
     },
     "metadata": {},
     "output_type": "display_data"
    },
    {
     "data": {
      "text/html": [
       "10"
      ],
      "text/latex": [
       "10"
      ],
      "text/markdown": [
       "10"
      ],
      "text/plain": [
       "[1] 10"
      ]
     },
     "metadata": {},
     "output_type": "display_data"
    }
   ],
   "source": [
    "# seasonal means validation check\n",
    "length(names(Tmin_seas_est))\n",
    "length(names(Tmean_seas_est))\n",
    "length(names(Tmax_ln_nd_cub_seas))\n"
   ]
  },
  {
   "cell_type": "markdown",
   "metadata": {},
   "source": [
    "#### 4.3.2 Estimating seasonality using harmonic mean\n",
    "We created a function to give the harmonic mean of a time series data. We performed a trend check on the time series and remove the specified trend type(l_model,c_model and q_model). The residuals were derived by subtracting the data from the fitted data. In our dataset since all our best models are linear except for England_E_and_NE and East_Anglia for the average monthly maximum temperature, this means all our models will be linear except  these two which will be cubic. In this step we applied the return_harmonic function to all our time series data, a check will be done for models that are significant at a p-value of 0.05.\n"
   ]
  },
  {
   "cell_type": "code",
   "execution_count": 97,
   "metadata": {},
   "outputs": [],
   "source": [
    "# Function to return the harmonic mean of a time series data\n",
    "return_harmonic <- function(takes_data, trend_type) {\n",
    "  # Apply the run_model function to the data to get the specified model\n",
    "  run_model(takes_data, time.all) -> model.result\n",
    "  \n",
    "  # Get the residuals from the data which does not have the trend\n",
    "  data.notrend <- takes_data - fitted(model.result[[trend_type]])\n",
    "  \n",
    "  # Create a matrix of SINE and COSINE values\n",
    "  SIN <- COS <- matrix(nrow = length(time.all), ncol = 6)\n",
    "  for (i in 1:6) {\n",
    "    SIN[, i] <- sin(2 * pi * i * time.all)\n",
    "    COS[, i] <- cos(2 * pi * i * time.all)\n",
    "  }\n",
    "  \n",
    "  # Function to return harmonic of specified order\n",
    "  seasonal.har <- function(order) {\n",
    "    assign(paste(c(\"seasonal.har\", order), collapse = \"\"),\n",
    "           lm(data.notrend ~ . - 1,\n",
    "              data.frame(SIN = SIN[, 1:order], COS = COS[, 1:order])))\n",
    "    \n",
    "    \n",
    "    return(get(paste(c(\n",
    "      \"seasonal.har\", order\n",
    "    ), collapse = \"\")))\n",
    "    \n",
    "  }\n",
    "  \n",
    "  \n",
    "  \n",
    "  # order 1\n",
    "  seas.har1 <- seasonal.har(1)\n",
    "  \n",
    "  # order 2\n",
    "  seas.har2 <- seasonal.har(2)\n",
    "  \n",
    "  # order 3\n",
    "  seas.har3 <- seasonal.har(3) # SIN.3 not significant\n",
    "  \n",
    "  # order 4\n",
    "  seas.har4 <- seasonal.har(4) # SIN.3 COS.4 not significant\n",
    "  \n",
    "  \n",
    "  # order 5\n",
    "  seas.har5 <-\n",
    "    seasonal.har(5) # SIN.3 SIN5 COS.4 COS.5 not significant\n",
    "  \n",
    "  \n",
    "  \n",
    "  # order 6\n",
    "  seas.har6 <-\n",
    "    seasonal.har(6) # SIN.3 SIN5 SIN.6 COS.4 COS.5 COS.6 not significant\n",
    "  \n",
    "  \n",
    "  return(\n",
    "    list(\n",
    "      seas.har1 = seas.har1,\n",
    "      seas.har2 = seas.har2,\n",
    "      seas.har3 = seas.har3,\n",
    "      seas.har4 = seas.har4,\n",
    "      seas.har5 = seas.har5,\n",
    "      seas.har6 = seas.har6\n",
    "    )\n",
    "  )\n",
    "}\n"
   ]
  },
  {
   "cell_type": "markdown",
   "metadata": {},
   "source": [
    "\n",
    "\n"
   ]
  },
  {
   "cell_type": "code",
   "execution_count": 98,
   "metadata": {},
   "outputs": [],
   "source": [
    "# Apply the return_harmonic function to all time series\n",
    "lapply(Tmin_2019, return_harmonic, trend_type = \"l_model\") %>% set_names(names(Tmin_2019)) -> Tmin_harmonic\n",
    "lapply(Tmean_2019, return_harmonic, trend_type = \"l_model\") %>% set_names(names(Tmean_2019)) -> Tmean_harmonic\n",
    "lapply(Tmax_2019_ln, return_harmonic, trend_type = \"l_model\") %>% set_names(names(Tmax_2019_ln)) -> Tmax_harmonic_ln\n",
    "#remove the cubic trend from England_E_and_NE and East_Anglia for the Tmax parameter\n",
    "lapply(Tmax_2019_cubic, return_harmonic, trend_type = \"c_model\") %>% set_names(names(Tmax_2019_cubic)) -> Tmax_harmonic_cubic\n"
   ]
  },
  {
   "cell_type": "markdown",
   "metadata": {},
   "source": [
    "##### significant models\n",
    "We created a function to return the significant models for a specific region and harmonic. We need models with a p-value lower than that of the null hypothesis. We create region_harmonics() function to take a list and apply all the function singular_harmonic using lapply() to all the elements in the list provided in the argument. We developed a function grouped_harmonica() that applies the region_harmonics function to a nested list. This would return only the models that has passed the null hypothesis test, hence containing only significant models.\n",
    "\n",
    "The Null hypothesis and alternative hypothesis are as follows:\n",
    "\n",
    "* Null hypothesis: The model is not significant \n",
    "* Alternative hypothesis: The model is  significant \n"
   ]
  },
  {
   "cell_type": "code",
   "execution_count": 99,
   "metadata": {},
   "outputs": [],
   "source": [
    "# p-value lesser than 0.05 shows significant that null is false\n",
    "singular_harmonic <- function(x) {\n",
    "  summary(x) -> temp\n",
    "  temp$coefficients %>% as.data.frame() -> temp2\n",
    "  temp2 <- temp2[temp2$`Pr(>|t|)` < 0.05,]\n",
    "  temp2$Harmonic.Model <- row.names(temp2)\n",
    "  #return(temp2)\n",
    "  \n",
    "  \n",
    "}\n"
   ]
  },
  {
   "cell_type": "markdown",
   "metadata": {},
   "source": [
    "\n"
   ]
  },
  {
   "cell_type": "code",
   "execution_count": 100,
   "metadata": {},
   "outputs": [],
   "source": [
    "region_harmonics <- function(takes_list) {\n",
    "  lapply(takes_list, singular_harmonic) %>%  set_names(names(takes_list)) -> significant_mods\n",
    "  return(significant_mods)\n",
    "}\n"
   ]
  },
  {
   "cell_type": "markdown",
   "metadata": {},
   "source": [
    "\n",
    "\n"
   ]
  },
  {
   "cell_type": "code",
   "execution_count": 101,
   "metadata": {},
   "outputs": [],
   "source": [
    "grouped_harmonica <- function(x) {\n",
    "  lapply(x, region_harmonics) %>% set_names(names(x)) -> Tmin_best_harmonics\n",
    "  return(Tmin_best_harmonics)\n",
    "}\n",
    "\n",
    "grouped_harmonica(Tmin_harmonic) -> Tmin_indexed_harmonics\n",
    "grouped_harmonica(Tmean_harmonic) -> Tmean_indexed_harmonics\n",
    "grouped_harmonica(Tmax_harmonic_ln) -> Tmax.ln_indexed_harmonics\n",
    "grouped_harmonica(Tmax_harmonic_cubic) -> Tmax.cub_indexed_harmonics\n"
   ]
  },
  {
   "cell_type": "markdown",
   "metadata": {},
   "source": [
    "#### Unique models across all time series\n",
    "We created a function that checks the unique models for each element in a list. This unique model would be used to then recreate the harmonic models. We retrieved the best harmonic for each region i.e all harmonics with P-value lesser than the null hypothesis p-value of 0.05. We applied the unique function to all our best model to retrieve only unique models. We observed 5 different unique configurations for our models, this would be used to create 5 different functions, each function will be specific to the unique model configurations found in the implementation below.\n"
   ]
  },
  {
   "cell_type": "code",
   "execution_count": 102,
   "metadata": {},
   "outputs": [],
   "source": [
    "best_harm <- function(takes_list) {\n",
    "  lapply(takes_list, unique) %>% set_names(names(takes_list)) -> significant_harmonics\n",
    "  return(significant_harmonics)\n",
    "}\n"
   ]
  },
  {
   "cell_type": "markdown",
   "metadata": {},
   "source": [
    "\n",
    "\n"
   ]
  },
  {
   "cell_type": "code",
   "execution_count": 103,
   "metadata": {},
   "outputs": [],
   "source": [
    "Tmin_best_harmonics <- best_harm(Tmin_indexed_harmonics)\n",
    "Tmean_best_harmonics <- best_harm(Tmean_indexed_harmonics)\n",
    "Tmax.ln_best_harmonics <- best_harm(Tmax.ln_indexed_harmonics)\n",
    "Tmax.cub_best_harmonics <- best_harm(Tmax.cub_indexed_harmonics)\n"
   ]
  },
  {
   "cell_type": "markdown",
   "metadata": {},
   "source": [
    "\n",
    "\n"
   ]
  },
  {
   "cell_type": "code",
   "execution_count": 104,
   "metadata": {},
   "outputs": [],
   "source": [
    "#unique(Tmin_best_harmonics)\n",
    "best_model_list <-\n",
    "  c(\n",
    "    Tmin_best_harmonics,\n",
    "    Tmean_best_harmonics,\n",
    "    Tmax.ln_best_harmonics,\n",
    "    Tmax.cub_best_harmonics\n",
    "  )\n",
    "lapply(best_model_list, unique) %>%  set_names(names(best_model_list)) -> all_unique_best\n"
   ]
  },
  {
   "cell_type": "markdown",
   "metadata": {},
   "source": [
    "\n",
    "\n"
   ]
  },
  {
   "cell_type": "code",
   "execution_count": 105,
   "metadata": {},
   "outputs": [
    {
     "data": {
      "text/html": [
       "5"
      ],
      "text/latex": [
       "5"
      ],
      "text/markdown": [
       "5"
      ],
      "text/plain": [
       "[1] 5"
      ]
     },
     "metadata": {},
     "output_type": "display_data"
    }
   ],
   "source": [
    "length(unique(all_unique_best) )\n",
    "\n"
   ]
  },
  {
   "cell_type": "markdown",
   "metadata": {},
   "source": [
    "\n",
    "\n"
   ]
  },
  {
   "cell_type": "code",
   "execution_count": 106,
   "metadata": {},
   "outputs": [
    {
     "data": {
      "text/html": [
       "<ol>\n",
       "\t<li><ol>\n",
       "\t<li><ol class=list-inline>\n",
       "\t<li>'SIN'</li>\n",
       "\t<li>'COS'</li>\n",
       "</ol>\n",
       "</li>\n",
       "\t<li><ol class=list-inline>\n",
       "\t<li>'SIN.1'</li>\n",
       "\t<li>'SIN.2'</li>\n",
       "\t<li>'COS.1'</li>\n",
       "\t<li>'COS.2'</li>\n",
       "</ol>\n",
       "</li>\n",
       "</ol>\n",
       "</li>\n",
       "\t<li><ol>\n",
       "\t<li><ol class=list-inline>\n",
       "\t<li>'SIN'</li>\n",
       "\t<li>'COS'</li>\n",
       "</ol>\n",
       "</li>\n",
       "\t<li><ol class=list-inline>\n",
       "\t<li>'SIN.1'</li>\n",
       "\t<li>'SIN.2'</li>\n",
       "\t<li>'COS.1'</li>\n",
       "\t<li>'COS.2'</li>\n",
       "</ol>\n",
       "</li>\n",
       "\t<li><ol class=list-inline>\n",
       "\t<li>'SIN.1'</li>\n",
       "\t<li>'SIN.2'</li>\n",
       "\t<li>'COS.1'</li>\n",
       "\t<li>'COS.2'</li>\n",
       "\t<li>'COS.4'</li>\n",
       "</ol>\n",
       "</li>\n",
       "</ol>\n",
       "</li>\n",
       "\t<li><ol>\n",
       "\t<li><ol class=list-inline>\n",
       "\t<li>'SIN'</li>\n",
       "\t<li>'COS'</li>\n",
       "</ol>\n",
       "</li>\n",
       "\t<li><ol class=list-inline>\n",
       "\t<li>'SIN.1'</li>\n",
       "\t<li>'SIN.2'</li>\n",
       "\t<li>'COS.1'</li>\n",
       "\t<li>'COS.2'</li>\n",
       "</ol>\n",
       "</li>\n",
       "\t<li><ol class=list-inline>\n",
       "\t<li>'SIN.1'</li>\n",
       "\t<li>'SIN.2'</li>\n",
       "\t<li>'SIN.5'</li>\n",
       "\t<li>'COS.1'</li>\n",
       "\t<li>'COS.2'</li>\n",
       "</ol>\n",
       "</li>\n",
       "</ol>\n",
       "</li>\n",
       "\t<li><ol>\n",
       "\t<li><ol class=list-inline>\n",
       "\t<li>'SIN'</li>\n",
       "\t<li>'COS'</li>\n",
       "</ol>\n",
       "</li>\n",
       "\t<li><ol class=list-inline>\n",
       "\t<li>'SIN.1'</li>\n",
       "\t<li>'SIN.2'</li>\n",
       "\t<li>'COS.1'</li>\n",
       "\t<li>'COS.2'</li>\n",
       "</ol>\n",
       "</li>\n",
       "\t<li><ol class=list-inline>\n",
       "\t<li>'SIN.1'</li>\n",
       "\t<li>'SIN.2'</li>\n",
       "\t<li>'COS.1'</li>\n",
       "\t<li>'COS.2'</li>\n",
       "\t<li>'COS.3'</li>\n",
       "</ol>\n",
       "</li>\n",
       "</ol>\n",
       "</li>\n",
       "\t<li><ol>\n",
       "\t<li><ol class=list-inline>\n",
       "\t<li>'SIN'</li>\n",
       "\t<li>'COS'</li>\n",
       "</ol>\n",
       "</li>\n",
       "\t<li><ol class=list-inline>\n",
       "\t<li>'SIN.1'</li>\n",
       "\t<li>'SIN.2'</li>\n",
       "\t<li>'COS.1'</li>\n",
       "\t<li>'COS.2'</li>\n",
       "</ol>\n",
       "</li>\n",
       "\t<li><ol class=list-inline>\n",
       "\t<li>'SIN.1'</li>\n",
       "\t<li>'SIN.2'</li>\n",
       "\t<li>'COS.1'</li>\n",
       "\t<li>'COS.2'</li>\n",
       "\t<li>'COS.3'</li>\n",
       "</ol>\n",
       "</li>\n",
       "\t<li><ol class=list-inline>\n",
       "\t<li>'SIN.1'</li>\n",
       "\t<li>'SIN.2'</li>\n",
       "\t<li>'SIN.4'</li>\n",
       "\t<li>'COS.1'</li>\n",
       "\t<li>'COS.2'</li>\n",
       "\t<li>'COS.3'</li>\n",
       "</ol>\n",
       "</li>\n",
       "</ol>\n",
       "</li>\n",
       "</ol>\n"
      ],
      "text/latex": [
       "\\begin{enumerate}\n",
       "\\item \\begin{enumerate}\n",
       "\\item \\begin{enumerate*}\n",
       "\\item 'SIN'\n",
       "\\item 'COS'\n",
       "\\end{enumerate*}\n",
       "\n",
       "\\item \\begin{enumerate*}\n",
       "\\item 'SIN.1'\n",
       "\\item 'SIN.2'\n",
       "\\item 'COS.1'\n",
       "\\item 'COS.2'\n",
       "\\end{enumerate*}\n",
       "\n",
       "\\end{enumerate}\n",
       "\n",
       "\\item \\begin{enumerate}\n",
       "\\item \\begin{enumerate*}\n",
       "\\item 'SIN'\n",
       "\\item 'COS'\n",
       "\\end{enumerate*}\n",
       "\n",
       "\\item \\begin{enumerate*}\n",
       "\\item 'SIN.1'\n",
       "\\item 'SIN.2'\n",
       "\\item 'COS.1'\n",
       "\\item 'COS.2'\n",
       "\\end{enumerate*}\n",
       "\n",
       "\\item \\begin{enumerate*}\n",
       "\\item 'SIN.1'\n",
       "\\item 'SIN.2'\n",
       "\\item 'COS.1'\n",
       "\\item 'COS.2'\n",
       "\\item 'COS.4'\n",
       "\\end{enumerate*}\n",
       "\n",
       "\\end{enumerate}\n",
       "\n",
       "\\item \\begin{enumerate}\n",
       "\\item \\begin{enumerate*}\n",
       "\\item 'SIN'\n",
       "\\item 'COS'\n",
       "\\end{enumerate*}\n",
       "\n",
       "\\item \\begin{enumerate*}\n",
       "\\item 'SIN.1'\n",
       "\\item 'SIN.2'\n",
       "\\item 'COS.1'\n",
       "\\item 'COS.2'\n",
       "\\end{enumerate*}\n",
       "\n",
       "\\item \\begin{enumerate*}\n",
       "\\item 'SIN.1'\n",
       "\\item 'SIN.2'\n",
       "\\item 'SIN.5'\n",
       "\\item 'COS.1'\n",
       "\\item 'COS.2'\n",
       "\\end{enumerate*}\n",
       "\n",
       "\\end{enumerate}\n",
       "\n",
       "\\item \\begin{enumerate}\n",
       "\\item \\begin{enumerate*}\n",
       "\\item 'SIN'\n",
       "\\item 'COS'\n",
       "\\end{enumerate*}\n",
       "\n",
       "\\item \\begin{enumerate*}\n",
       "\\item 'SIN.1'\n",
       "\\item 'SIN.2'\n",
       "\\item 'COS.1'\n",
       "\\item 'COS.2'\n",
       "\\end{enumerate*}\n",
       "\n",
       "\\item \\begin{enumerate*}\n",
       "\\item 'SIN.1'\n",
       "\\item 'SIN.2'\n",
       "\\item 'COS.1'\n",
       "\\item 'COS.2'\n",
       "\\item 'COS.3'\n",
       "\\end{enumerate*}\n",
       "\n",
       "\\end{enumerate}\n",
       "\n",
       "\\item \\begin{enumerate}\n",
       "\\item \\begin{enumerate*}\n",
       "\\item 'SIN'\n",
       "\\item 'COS'\n",
       "\\end{enumerate*}\n",
       "\n",
       "\\item \\begin{enumerate*}\n",
       "\\item 'SIN.1'\n",
       "\\item 'SIN.2'\n",
       "\\item 'COS.1'\n",
       "\\item 'COS.2'\n",
       "\\end{enumerate*}\n",
       "\n",
       "\\item \\begin{enumerate*}\n",
       "\\item 'SIN.1'\n",
       "\\item 'SIN.2'\n",
       "\\item 'COS.1'\n",
       "\\item 'COS.2'\n",
       "\\item 'COS.3'\n",
       "\\end{enumerate*}\n",
       "\n",
       "\\item \\begin{enumerate*}\n",
       "\\item 'SIN.1'\n",
       "\\item 'SIN.2'\n",
       "\\item 'SIN.4'\n",
       "\\item 'COS.1'\n",
       "\\item 'COS.2'\n",
       "\\item 'COS.3'\n",
       "\\end{enumerate*}\n",
       "\n",
       "\\end{enumerate}\n",
       "\n",
       "\\end{enumerate}\n"
      ],
      "text/markdown": [
       "1. 1. 1. 'SIN'\n",
       "2. 'COS'\n",
       "\n",
       "\n",
       "\n",
       "2. 1. 'SIN.1'\n",
       "2. 'SIN.2'\n",
       "3. 'COS.1'\n",
       "4. 'COS.2'\n",
       "\n",
       "\n",
       "\n",
       "\n",
       "\n",
       "\n",
       "2. 1. 1. 'SIN'\n",
       "2. 'COS'\n",
       "\n",
       "\n",
       "\n",
       "2. 1. 'SIN.1'\n",
       "2. 'SIN.2'\n",
       "3. 'COS.1'\n",
       "4. 'COS.2'\n",
       "\n",
       "\n",
       "\n",
       "3. 1. 'SIN.1'\n",
       "2. 'SIN.2'\n",
       "3. 'COS.1'\n",
       "4. 'COS.2'\n",
       "5. 'COS.4'\n",
       "\n",
       "\n",
       "\n",
       "\n",
       "\n",
       "\n",
       "3. 1. 1. 'SIN'\n",
       "2. 'COS'\n",
       "\n",
       "\n",
       "\n",
       "2. 1. 'SIN.1'\n",
       "2. 'SIN.2'\n",
       "3. 'COS.1'\n",
       "4. 'COS.2'\n",
       "\n",
       "\n",
       "\n",
       "3. 1. 'SIN.1'\n",
       "2. 'SIN.2'\n",
       "3. 'SIN.5'\n",
       "4. 'COS.1'\n",
       "5. 'COS.2'\n",
       "\n",
       "\n",
       "\n",
       "\n",
       "\n",
       "\n",
       "4. 1. 1. 'SIN'\n",
       "2. 'COS'\n",
       "\n",
       "\n",
       "\n",
       "2. 1. 'SIN.1'\n",
       "2. 'SIN.2'\n",
       "3. 'COS.1'\n",
       "4. 'COS.2'\n",
       "\n",
       "\n",
       "\n",
       "3. 1. 'SIN.1'\n",
       "2. 'SIN.2'\n",
       "3. 'COS.1'\n",
       "4. 'COS.2'\n",
       "5. 'COS.3'\n",
       "\n",
       "\n",
       "\n",
       "\n",
       "\n",
       "\n",
       "5. 1. 1. 'SIN'\n",
       "2. 'COS'\n",
       "\n",
       "\n",
       "\n",
       "2. 1. 'SIN.1'\n",
       "2. 'SIN.2'\n",
       "3. 'COS.1'\n",
       "4. 'COS.2'\n",
       "\n",
       "\n",
       "\n",
       "3. 1. 'SIN.1'\n",
       "2. 'SIN.2'\n",
       "3. 'COS.1'\n",
       "4. 'COS.2'\n",
       "5. 'COS.3'\n",
       "\n",
       "\n",
       "\n",
       "4. 1. 'SIN.1'\n",
       "2. 'SIN.2'\n",
       "3. 'SIN.4'\n",
       "4. 'COS.1'\n",
       "5. 'COS.2'\n",
       "6. 'COS.3'\n",
       "\n",
       "\n",
       "\n",
       "\n",
       "\n",
       "\n",
       "\n",
       "\n"
      ],
      "text/plain": [
       "[[1]]\n",
       "[[1]][[1]]\n",
       "[1] \"SIN\" \"COS\"\n",
       "\n",
       "[[1]][[2]]\n",
       "[1] \"SIN.1\" \"SIN.2\" \"COS.1\" \"COS.2\"\n",
       "\n",
       "\n",
       "[[2]]\n",
       "[[2]][[1]]\n",
       "[1] \"SIN\" \"COS\"\n",
       "\n",
       "[[2]][[2]]\n",
       "[1] \"SIN.1\" \"SIN.2\" \"COS.1\" \"COS.2\"\n",
       "\n",
       "[[2]][[3]]\n",
       "[1] \"SIN.1\" \"SIN.2\" \"COS.1\" \"COS.2\" \"COS.4\"\n",
       "\n",
       "\n",
       "[[3]]\n",
       "[[3]][[1]]\n",
       "[1] \"SIN\" \"COS\"\n",
       "\n",
       "[[3]][[2]]\n",
       "[1] \"SIN.1\" \"SIN.2\" \"COS.1\" \"COS.2\"\n",
       "\n",
       "[[3]][[3]]\n",
       "[1] \"SIN.1\" \"SIN.2\" \"SIN.5\" \"COS.1\" \"COS.2\"\n",
       "\n",
       "\n",
       "[[4]]\n",
       "[[4]][[1]]\n",
       "[1] \"SIN\" \"COS\"\n",
       "\n",
       "[[4]][[2]]\n",
       "[1] \"SIN.1\" \"SIN.2\" \"COS.1\" \"COS.2\"\n",
       "\n",
       "[[4]][[3]]\n",
       "[1] \"SIN.1\" \"SIN.2\" \"COS.1\" \"COS.2\" \"COS.3\"\n",
       "\n",
       "\n",
       "[[5]]\n",
       "[[5]][[1]]\n",
       "[1] \"SIN\" \"COS\"\n",
       "\n",
       "[[5]][[2]]\n",
       "[1] \"SIN.1\" \"SIN.2\" \"COS.1\" \"COS.2\"\n",
       "\n",
       "[[5]][[3]]\n",
       "[1] \"SIN.1\" \"SIN.2\" \"COS.1\" \"COS.2\" \"COS.3\"\n",
       "\n",
       "[[5]][[4]]\n",
       "[1] \"SIN.1\" \"SIN.2\" \"SIN.4\" \"COS.1\" \"COS.2\" \"COS.3\"\n",
       "\n"
      ]
     },
     "metadata": {},
     "output_type": "display_data"
    }
   ],
   "source": [
    "# View unique model config\n",
    "unique(all_unique_best)\n"
   ]
  },
  {
   "cell_type": "markdown",
   "metadata": {},
   "source": [
    "###### create functions to map models\n",
    "Five different functions were developed inline with the 5 different significant harmonic models we had during the null hypothesis test. The functions are:\n",
    "\n",
    "* rerun_harmonic1 - [\"SIN\" \"COS\" ] and [\"SIN.1\" \"SIN.2\" \"COS.1\" \"COS.2\"]\n",
    "\n",
    "******\n",
    "* rerun_harmonic2 - [\"SIN\" \"COS\"], [\"SIN.1\" \"SIN.2\" \"COS.1\" \"COS.2\"] and \n",
    "[\"SIN.1\" \"SIN.2\" \"COS.1\" \"COS.2\" \"COS.4\"]\n",
    "\n",
    "******\n",
    "* rerun_harmonic3 - [\"SIN\" \"COS\"], [\"SIN.1\" \"SIN.2\" \"COS.1\" \"COS.2\"] and \n",
    "[\"SIN.1\" \"SIN.2\" \"SIN.5\" \"COS.1\" \"COS.2\"]\n",
    "\n",
    "******\n",
    "* rerun_harmonic4 - [\"SIN\" \"COS\"], [\"SIN.1\" \"SIN.2\" \"COS.1\" \"COS.2\"] and \n",
    "[\"SIN.1\" \"SIN.2\" \"COS.1\" \"COS.2\" \"COS.3\"]\n",
    "\n",
    "******\n",
    "\n",
    "* rerun_harmonic5 - [\"SIN\" \"COS\"], [\"SIN.1\" \"SIN.2\" \"COS.1\" \"COS.2\"], \n",
    "[\"SIN.1\" \"SIN.2\" \"COS.1\" \"COS.2\" \"COS.3\"] and [\"SIN.1\" \"SIN.2\" \"SIN.4\" \"COS.1\" \"COS.2\" \"COS.3\"]\n",
    "\n",
    "We observe that all significant models include the first and second harmonics with little variations among the other models. The functions takes the time series data and the best trend model for it l_model, q_model or c_model and returns the harmonic with the lowest Akaike criterion among all the harmonic models implemented within the specific function. Implementing this function gives us the best harmonic model for each of the 30 time series data we are working with.\n"
   ]
  },
  {
   "cell_type": "code",
   "execution_count": 107,
   "metadata": {},
   "outputs": [],
   "source": [
    "# Function \"SIN.1\" \"SIN.2\" \"COS.1\" \"COS.2\" and  \"SIN\" \"COS\"\n",
    "rerun_harmonic1 <- function(takes_data, trend_type) {\n",
    "  # Apply the run_model function to the data to get the specified model\n",
    "  run_model(takes_data, time.all) -> model.result\n",
    "  \n",
    "  # Get the residuals from the data which does not have the trend\n",
    "  data.notrend <- takes_data - fitted(model.result[[trend_type]])\n",
    "  \n",
    "  # Create a matrix of SINE and COSINE values\n",
    "  SIN <- COS <- matrix(nrow = length(time.all), ncol = 6)\n",
    "  for (i in 1:6) {\n",
    "    SIN[, i] <- sin(2 * pi * i * time.all)\n",
    "    COS[, i] <- cos(2 * pi * i * time.all)\n",
    "  }\n",
    "  \n",
    "  seas.har1 <-  lm(data.notrend ~ . - 1,\n",
    "                   data.frame(SIN = SIN[, 1:1], COS = COS[, 1:1]))\n",
    "  \n",
    "  \n",
    "  seas.har2 <-  lm(data.notrend ~ . - 1,\n",
    "                   data.frame(SIN = SIN[, c(1, 2)], COS = COS[, c(1, 2)]))\n",
    "  \n",
    "  \n",
    "  \n",
    "  \n",
    "  list(seas.har1 = seas.har1, seas.har2 = seas.har2) -> myl\n",
    "  \n",
    "  lapply(myl, AIC)  -> mlk\n",
    "  \n",
    "  \n",
    "  names(mlk)[which.min(unlist(lapply(mlk, FUN = min)))] -> res\n",
    "  \n",
    "  return(mlk)\n",
    "  \n",
    "  \n",
    "}\n"
   ]
  },
  {
   "cell_type": "markdown",
   "metadata": {},
   "source": [
    "\n",
    "\n"
   ]
  },
  {
   "cell_type": "code",
   "execution_count": 108,
   "metadata": {},
   "outputs": [],
   "source": [
    "rerun_harmonic2 <- function(takes_data, trend_type) {\n",
    "  # Apply the run_model function to the data to get the specified model\n",
    "  run_model(takes_data, time.all) -> model.result\n",
    "  \n",
    "  # Get the residuals from the data which does not have the trend\n",
    "  data.notrend <- takes_data - fitted(model.result[[trend_type]])\n",
    "  \n",
    "  # Create a matrix of SINE and COSINE values\n",
    "  SIN <- COS <- matrix(nrow = length(time.all), ncol = 6)\n",
    "  for (i in 1:6) {\n",
    "    SIN[, i] <- sin(2 * pi * i * time.all)\n",
    "    COS[, i] <- cos(2 * pi * i * time.all)\n",
    "  }\n",
    "  \n",
    "  seas.har1 <-  lm(data.notrend ~ . - 1,\n",
    "                   data.frame(SIN = SIN[, 1:1], COS = COS[, 1:1]))\n",
    "  \n",
    "  \n",
    "  seas.har2 <-  lm(data.notrend ~ . - 1,\n",
    "                   data.frame(SIN = SIN[, c(1, 2)], COS = COS[, c(1, 2)]))\n",
    "  \n",
    "  \n",
    "  seas.har3_B <-  lm(data.notrend ~ . - 1,\n",
    "                     data.frame(SIN = SIN[, c(1, 2)], COS = COS[, c(1, 2, 4)]))\n",
    "  \n",
    "  \n",
    "  \n",
    "  list(seas.har1 = seas.har1,\n",
    "       seas.har2 = seas.har2,\n",
    "       seas.har3_B = seas.har3_B) -> myl\n",
    "  \n",
    "  lapply(myl, AIC)  -> mlk\n",
    "  \n",
    "  \n",
    "  names(mlk)[which.min(unlist(lapply(mlk, FUN = min)))] -> res\n",
    "  \n",
    "  return(mlk)\n",
    "  \n",
    "  \n",
    "}\n"
   ]
  },
  {
   "cell_type": "markdown",
   "metadata": {},
   "source": [
    "\n",
    "\n"
   ]
  },
  {
   "cell_type": "code",
   "execution_count": 109,
   "metadata": {},
   "outputs": [],
   "source": [
    "rerun_harmonic3 <- function(takes_data, trend_type) {\n",
    "  # Apply the run_model function to the data to get the specified model\n",
    "  run_model(takes_data, time.all) -> model.result\n",
    "  \n",
    "  # Get the residuals from the data which does not have the trend\n",
    "  data.notrend <- takes_data - fitted(model.result[[trend_type]])\n",
    "  \n",
    "  # Create a matrix of SINE and COSINE values\n",
    "  SIN <- COS <- matrix(nrow = length(time.all), ncol = 6)\n",
    "  for (i in 1:6) {\n",
    "    SIN[, i] <- sin(2 * pi * i * time.all)\n",
    "    COS[, i] <- cos(2 * pi * i * time.all)\n",
    "  }\n",
    "  \n",
    "  seas.har1 <-  lm(data.notrend ~ . - 1,\n",
    "                   data.frame(SIN = SIN[, 1:1], COS = COS[, 1:1]))\n",
    "  \n",
    "  \n",
    "  seas.har2 <-  lm(data.notrend ~ . - 1,\n",
    "                   data.frame(SIN = SIN[, c(1, 2)], COS = COS[, c(1, 2)]))\n",
    "  \n",
    "  \n",
    "  seas.har3_C <-  lm(data.notrend ~ . - 1,\n",
    "                     data.frame(SIN = SIN[, c(1, 2, 5)], COS = COS[, c(1, 2)]))\n",
    "  \n",
    "  \n",
    "  list(seas.har1 = seas.har1,\n",
    "       seas.har2 = seas.har2,\n",
    "       seas.har3_C = seas.har3_C) -> myl\n",
    "  \n",
    "  lapply(myl, AIC)  -> mlk\n",
    "  \n",
    "  \n",
    "  names(mlk)[which.min(unlist(lapply(mlk, FUN = min)))] -> res\n",
    "  \n",
    "  return(mlk)\n",
    "  \n",
    "}\n"
   ]
  },
  {
   "cell_type": "markdown",
   "metadata": {},
   "source": [
    "\n",
    "\n"
   ]
  },
  {
   "cell_type": "code",
   "execution_count": 110,
   "metadata": {},
   "outputs": [],
   "source": [
    "rerun_harmonic4 <- function(takes_data, trend_type) {\n",
    "  # Apply the run_model function to the data to get the specified model\n",
    "  run_model(takes_data, time.all) -> model.result\n",
    "  \n",
    "  # Get the residuals from the data which does not have the trend\n",
    "  data.notrend <- takes_data - fitted(model.result[[trend_type]])\n",
    "  \n",
    "  # Create a matrix of SINE and COSINE values\n",
    "  SIN <- COS <- matrix(nrow = length(time.all), ncol = 6)\n",
    "  for (i in 1:6) {\n",
    "    SIN[, i] <- sin(2 * pi * i * time.all)\n",
    "    COS[, i] <- cos(2 * pi * i * time.all)\n",
    "  }\n",
    "  \n",
    "  seas.har1 <-  lm(data.notrend ~ . - 1,\n",
    "                   data.frame(SIN = SIN[, 1:1], COS = COS[, 1:1]))\n",
    "  \n",
    "  \n",
    "  seas.har2 <-  lm(data.notrend ~ . - 1,\n",
    "                   data.frame(SIN = SIN[, c(1, 2)], COS = COS[, c(1, 2)]))\n",
    "  \n",
    "  \n",
    "  seas.har3_A <-  lm(data.notrend ~ . - 1,\n",
    "                     data.frame(SIN = SIN[, c(1, 2)], COS = COS[, c(1, 2, 3)]))\n",
    "  \n",
    "  \n",
    "  list(seas.har1 = seas.har1,\n",
    "       seas.har2 = seas.har2,\n",
    "       seas.har3_A = seas.har3_A) -> myl\n",
    "  \n",
    "  lapply(myl, AIC)  -> mlk\n",
    "  \n",
    "  \n",
    "  names(mlk)[which.min(unlist(lapply(mlk, FUN = min)))] -> res\n",
    "  \n",
    "  return(mlk)\n",
    "  \n",
    "}\n"
   ]
  },
  {
   "cell_type": "markdown",
   "metadata": {},
   "source": [
    "\n",
    "\n"
   ]
  },
  {
   "cell_type": "code",
   "execution_count": 111,
   "metadata": {},
   "outputs": [],
   "source": [
    "rerun_harmonic5 <- function(takes_data, trend_type) {\n",
    "  # Apply the run_model function to the data to get the specified model\n",
    "  run_model(takes_data, time.all) -> model.result\n",
    "  \n",
    "  # Get the residuals from the data which does not have the trend\n",
    "  data.notrend <- takes_data - fitted(model.result[[trend_type]])\n",
    "  \n",
    "  # Create a matrix of SINE and COSINE values\n",
    "  SIN <- COS <- matrix(nrow = length(time.all), ncol = 6)\n",
    "  for (i in 1:6) {\n",
    "    SIN[, i] <- sin(2 * pi * i * time.all)\n",
    "    COS[, i] <- cos(2 * pi * i * time.all)\n",
    "  }\n",
    "  \n",
    "  seas.har1 <-  lm(data.notrend ~ . - 1,\n",
    "                   data.frame(SIN = SIN[, 1:1], COS = COS[, 1:1]))\n",
    "  \n",
    "  \n",
    "  seas.har2 <-  lm(data.notrend ~ . - 1,\n",
    "                   data.frame(SIN = SIN[, c(1, 2)], COS = COS[, c(1, 2)]))\n",
    "  \n",
    "  \n",
    "  seas.har3 <-  lm(data.notrend ~ . - 1,\n",
    "                   data.frame(SIN = SIN[, c(1, 2)], COS = COS[, c(1, 2, 3)]))\n",
    "  \n",
    "  seas.har4 <-  lm(data.notrend ~ . - 1,\n",
    "                   data.frame(SIN = SIN[, c(1, 2, 4)], COS = COS[, c(1, 2, 3)]))\n",
    "  \n",
    "  \n",
    "  \n",
    "  list(\n",
    "    seas.har1 = seas.har1,\n",
    "    seas.har2 = seas.har2,\n",
    "    seas.har3 = seas.har3,\n",
    "    seas.har4 = seas.har4\n",
    "  ) -> myl\n",
    "  \n",
    "  lapply(myl, AIC)  -> mlk\n",
    "  \n",
    "  \n",
    "  which.min(unlist(lapply(mlk, FUN = min))) -> res\n",
    "  \n",
    "  return(mlk)\n",
    "  \n",
    "  \n",
    "  \n",
    "}\n"
   ]
  },
  {
   "cell_type": "markdown",
   "metadata": {},
   "source": [
    "##### Subset all the time series into groups of significant harmonic model\n",
    "We have 5 different configurations of significant harmonnic models, we will group each of our time series parameter (Tmin,Tmean and Tmax) to the significant harmonic model group they belong to among these 5 configurations after which their respective function is then applied on each subset. Based on initial analysis we observed that for our average monthly maximum temperature we have two regions with a cubic trend model as their best trend model, we will create a different subset for this group to make the implementation of these functions on the time series data seamless.\n"
   ]
  },
  {
   "cell_type": "code",
   "execution_count": 112,
   "metadata": {},
   "outputs": [],
   "source": [
    "#Subset  Tmin_best_harmonics into significant harmonic groups\n",
    "Tmin_best_dual <-\n",
    "  Tmin_2019[-c(3, 9)] #function rerun_harmonic1 would work for this\n",
    "lapply(Tmin_best_dual, rerun_harmonic1, trend_type = \"l_model\") %>% set_names(names(Tmin_best_dual)) -> significant_Tmin_dual\n",
    "############################################################################################\n",
    "\n",
    "Tmin_best_trio1 <-\n",
    "  Tmin_2019[c(3)] # function rerun_harmonic2 would work for this\n",
    "lapply(Tmin_best_trio1, rerun_harmonic2, trend_type = \"l_model\") %>% set_names(names(Tmin_best_trio1)) -> significant_Tmin_trio1\n",
    "############################################################################################\n",
    "\n",
    "Tmin_best_trio2 <-\n",
    "  Tmin_2019[c(9)] # rerun_harmonic3 would work on this\n",
    "lapply(Tmin_best_trio2, rerun_harmonic3, trend_type = \"l_model\") %>% set_names(names(Tmin_best_trio2)) -> significant_Tmin_trio2\n",
    "############################################################################################\n"
   ]
  },
  {
   "cell_type": "markdown",
   "metadata": {},
   "source": [
    "\n",
    "\n"
   ]
  },
  {
   "cell_type": "code",
   "execution_count": 113,
   "metadata": {},
   "outputs": [],
   "source": [
    "# Subset  Tmean_best_harmonics into significant harmonic groups\n",
    "Tmean_best_dual <-\n",
    "  Tmean_2019[-c(4, 10)] #rerun_harmonic1 will work for this\n",
    "lapply(Tmean_best_dual, rerun_harmonic1, trend_type = \"l_model\") %>% set_names(names(Tmean_best_dual)) -> significant_Tmean_dual\n",
    "############################################################################################\n",
    "\n",
    "\n",
    "Tmean_best_trio1 <-\n",
    "  Tmean_2019[c(4)] # rerun_harmonic4 will work for this\n",
    "lapply(Tmean_best_trio1, rerun_harmonic4, trend_type = \"l_model\") %>% set_names(names(Tmean_best_trio1)) -> significant_Tmean_trio1\n",
    "############################################################################################\n",
    "\n",
    "Tmean_best_trio2 <-\n",
    "  Tmean_2019[c(10)] #rerun_harmonic3 this function works for this\n",
    "lapply(Tmean_best_trio2, rerun_harmonic1, trend_type = \"l_model\") %>% set_names(names(Tmean_best_trio2)) -> significant_Tmean_trio2\n",
    "############################################################################################\n"
   ]
  },
  {
   "cell_type": "markdown",
   "metadata": {},
   "source": [
    "\n",
    "\n"
   ]
  },
  {
   "cell_type": "code",
   "execution_count": 114,
   "metadata": {},
   "outputs": [],
   "source": [
    "#Subset  Tmax.ln_best_harmonics into significant harmonic groups\n",
    "Tmax.ln_best_dual <-\n",
    "  Tmax_2019_ln[c(6, 8)] #rerun_harmonic1 will work for this\n",
    "lapply(Tmax.ln_best_dual, rerun_harmonic1, trend_type = \"l_model\") %>% set_names(names(Tmax.ln_best_dual)) -> significant_Tmax.ln_dual\n",
    "############################################################################################\n",
    "\n",
    "Tmax.ln_best_trio1 <-\n",
    "  Tmax_2019_ln[-c(6, 7, 8)] # rerun_harmonic4 this will work for this\n",
    "lapply(Tmax.ln_best_trio1, rerun_harmonic4, trend_type = \"l_model\") %>% set_names(names(Tmax.ln_best_trio1)) -> significant_Tmax.ln_trio1\n",
    "############################################################################################\n",
    "\n",
    "Tmax.ln_best_trio2 <-\n",
    "  Tmax_2019_ln[c(7)] # rerun_harmonic5 should work for this\n",
    "lapply(Tmax.ln_best_trio2, rerun_harmonic5, trend_type = \"l_model\") %>% set_names(names(Tmax.ln_best_trio2)) -> significant_Tmax.ln_trio2\n",
    "############################################################################################\n"
   ]
  },
  {
   "cell_type": "markdown",
   "metadata": {},
   "source": [
    "\n",
    "\n"
   ]
  },
  {
   "cell_type": "code",
   "execution_count": 115,
   "metadata": {},
   "outputs": [],
   "source": [
    "#Subset Tmax.cub_best_harmonics harmonic into significant harmonic groups\n",
    "#Tmax.cub_best_harmonics[c(1,2)]\n",
    "Tmax.cubic_best_dual <-\n",
    "  Tmax_2019_cubic[c(1, 2)] #rerun_harmonic1 this functipn will work for this\n",
    "lapply(Tmax.cubic_best_dual, rerun_harmonic1, trend_type = \"c_model\") %>% set_names(names(Tmax.cubic_best_dual)) -> significant_Tmax.cub_trio2\n",
    "############################################################################################\n"
   ]
  },
  {
   "cell_type": "markdown",
   "metadata": {},
   "source": [
    "# 4.4 Seasonal model selection Seasonal average or harmonic models?\n",
    "• Select a seasonal model for each time series using an appropriate criteria. Are the\n",
    "models selected all the same? If not is there a pattern depending on the region and/or\n",
    "the group (max, min and mean)?\n",
    "We now have the different significant harmonic models and the seasonal means of all our time series, we will use the Akaike Criterion to determine the best model for each time series data, as stated above the model with the least AIC will be the best model for the specific time series data.\n",
    "\n",
    "\n",
    "##### create a function that selects best model for all different parameters\n",
    "We created a function get_min_AIC that takes 3 arguments the district/region, the best harmonic model, and the seasonal average and returns the model with the lowest Akaike criterion. In this function we combine the AIC of the seasonal average model of the time series and the AIC of the harmonic model and then return the model with the lowest AIC.\n"
   ]
  },
  {
   "cell_type": "code",
   "execution_count": 116,
   "metadata": {},
   "outputs": [],
   "source": [
    "get_min_AIC <- function(x, y, z) {\n",
    "  AIC(z[[x]]) -> seas.avg\n",
    "  y [[x]]  -> temp1\n",
    "  temp1 <- c(temp1, seas.avg = seas.avg)\n",
    "  \n",
    "  names(temp1)[which.min(unlist(lapply(temp1, FUN = min)))] -> res\n",
    "  \n",
    "  \n",
    "  return(res)\n",
    "}\n"
   ]
  },
  {
   "cell_type": "markdown",
   "metadata": {},
   "source": [
    "##### ALl TMIN\n",
    "We used the do.call function to re-combine our different configurations for TMIN parameter into one list for each parameter. The get_min_AIC method was then applied on each time series to return the model with the lowest AIC and we observe that seasonal average was not the best for any of the time series in this group.\n"
   ]
  },
  {
   "cell_type": "code",
   "execution_count": 117,
   "metadata": {},
   "outputs": [
    {
     "data": {
      "text/html": [
       "<table>\n",
       "<thead><tr><th></th><th scope=col>Best Model Tmin</th></tr></thead>\n",
       "<tbody>\n",
       "\t<tr><th scope=row>Northern_Ireland</th><td>seas.har2  </td></tr>\n",
       "\t<tr><th scope=row>Scotland_N</th><td>seas.har2  </td></tr>\n",
       "\t<tr><th scope=row>Scotland_E</th><td>seas.har3_B</td></tr>\n",
       "\t<tr><th scope=row>Scotland_W</th><td>seas.har2  </td></tr>\n",
       "\t<tr><th scope=row>England_E_and_NE</th><td>seas.har2  </td></tr>\n",
       "\t<tr><th scope=row>England_NW_and_N_Wales</th><td>seas.har2  </td></tr>\n",
       "\t<tr><th scope=row>Midlands</th><td>seas.har2  </td></tr>\n",
       "\t<tr><th scope=row>East_Anglia</th><td>seas.har2  </td></tr>\n",
       "\t<tr><th scope=row>England_SW_and_S_Wales</th><td>seas.har3_C</td></tr>\n",
       "\t<tr><th scope=row>England_SE_and_Central_S</th><td>seas.har2  </td></tr>\n",
       "</tbody>\n",
       "</table>\n"
      ],
      "text/latex": [
       "\\begin{tabular}{r|l}\n",
       "  & Best Model Tmin\\\\\n",
       "\\hline\n",
       "\tNorthern\\_Ireland & seas.har2  \\\\\n",
       "\tScotland\\_N & seas.har2  \\\\\n",
       "\tScotland\\_E & seas.har3\\_B\\\\\n",
       "\tScotland\\_W & seas.har2  \\\\\n",
       "\tEngland\\_E\\_and\\_NE & seas.har2  \\\\\n",
       "\tEngland\\_NW\\_and\\_N\\_Wales & seas.har2  \\\\\n",
       "\tMidlands & seas.har2  \\\\\n",
       "\tEast\\_Anglia & seas.har2  \\\\\n",
       "\tEngland\\_SW\\_and\\_S\\_Wales & seas.har3\\_C\\\\\n",
       "\tEngland\\_SE\\_and\\_Central\\_S & seas.har2  \\\\\n",
       "\\end{tabular}\n"
      ],
      "text/markdown": [
       "\n",
       "| <!--/--> | Best Model Tmin |\n",
       "|---|---|\n",
       "| Northern_Ireland | seas.har2   |\n",
       "| Scotland_N | seas.har2   |\n",
       "| Scotland_E | seas.har3_B |\n",
       "| Scotland_W | seas.har2   |\n",
       "| England_E_and_NE | seas.har2   |\n",
       "| England_NW_and_N_Wales | seas.har2   |\n",
       "| Midlands | seas.har2   |\n",
       "| East_Anglia | seas.har2   |\n",
       "| England_SW_and_S_Wales | seas.har3_C |\n",
       "| England_SE_and_Central_S | seas.har2   |\n",
       "\n"
      ],
      "text/plain": [
       "                         Best Model Tmin\n",
       "Northern_Ireland         seas.har2      \n",
       "Scotland_N               seas.har2      \n",
       "Scotland_E               seas.har3_B    \n",
       "Scotland_W               seas.har2      \n",
       "England_E_and_NE         seas.har2      \n",
       "England_NW_and_N_Wales   seas.har2      \n",
       "Midlands                 seas.har2      \n",
       "East_Anglia              seas.har2      \n",
       "England_SW_and_S_Wales   seas.har3_C    \n",
       "England_SE_and_Central_S seas.har2      "
      ]
     },
     "metadata": {},
     "output_type": "display_data"
    }
   ],
   "source": [
    "do.call(c,\n",
    "        list(\n",
    "          significant_Tmin_dual,\n",
    "          significant_Tmin_trio1,\n",
    "          significant_Tmin_trio2\n",
    "        )) -> Tmin_harm_final\n",
    "lapply(districts, get_min_AIC, y = Tmin_harm_final, z = Tmin_seas_est) %>% set_names(districts) -> best_model_TMIN\n",
    "best_model_TMIN %>% as.data.frame() %>%  t() %>%  as.data.frame() ->Tmin.best\n",
    "names(Tmin.best)[1] <- \"Best Model Tmin\"\n",
    "Tmin.best\n"
   ]
  },
  {
   "cell_type": "markdown",
   "metadata": {},
   "source": [
    "##### ALl TMEAN\n",
    "We used the do.call function to re-combine our different configurations for TMEAN parameter into one list for each parameter. The get_min_AIC method was then applied on each time series to return the model with the lowest AIC and we observe that seasonal average was not the best for any of the time series in this group.\n"
   ]
  },
  {
   "cell_type": "code",
   "execution_count": 118,
   "metadata": {},
   "outputs": [
    {
     "data": {
      "text/html": [
       "<table>\n",
       "<thead><tr><th></th><th scope=col>Best Models Tmean</th></tr></thead>\n",
       "<tbody>\n",
       "\t<tr><th scope=row>Northern_Ireland</th><td>seas.har2  </td></tr>\n",
       "\t<tr><th scope=row>Scotland_N</th><td>seas.har2  </td></tr>\n",
       "\t<tr><th scope=row>Scotland_E</th><td>seas.har2  </td></tr>\n",
       "\t<tr><th scope=row>Scotland_W</th><td>seas.har3_A</td></tr>\n",
       "\t<tr><th scope=row>England_E_and_NE</th><td>seas.har2  </td></tr>\n",
       "\t<tr><th scope=row>England_NW_and_N_Wales</th><td>seas.har2  </td></tr>\n",
       "\t<tr><th scope=row>Midlands</th><td>seas.har2  </td></tr>\n",
       "\t<tr><th scope=row>East_Anglia</th><td>seas.har2  </td></tr>\n",
       "\t<tr><th scope=row>England_SW_and_S_Wales</th><td>seas.har2  </td></tr>\n",
       "\t<tr><th scope=row>England_SE_and_Central_S</th><td>seas.har2  </td></tr>\n",
       "</tbody>\n",
       "</table>\n"
      ],
      "text/latex": [
       "\\begin{tabular}{r|l}\n",
       "  & Best Models Tmean\\\\\n",
       "\\hline\n",
       "\tNorthern\\_Ireland & seas.har2  \\\\\n",
       "\tScotland\\_N & seas.har2  \\\\\n",
       "\tScotland\\_E & seas.har2  \\\\\n",
       "\tScotland\\_W & seas.har3\\_A\\\\\n",
       "\tEngland\\_E\\_and\\_NE & seas.har2  \\\\\n",
       "\tEngland\\_NW\\_and\\_N\\_Wales & seas.har2  \\\\\n",
       "\tMidlands & seas.har2  \\\\\n",
       "\tEast\\_Anglia & seas.har2  \\\\\n",
       "\tEngland\\_SW\\_and\\_S\\_Wales & seas.har2  \\\\\n",
       "\tEngland\\_SE\\_and\\_Central\\_S & seas.har2  \\\\\n",
       "\\end{tabular}\n"
      ],
      "text/markdown": [
       "\n",
       "| <!--/--> | Best Models Tmean |\n",
       "|---|---|\n",
       "| Northern_Ireland | seas.har2   |\n",
       "| Scotland_N | seas.har2   |\n",
       "| Scotland_E | seas.har2   |\n",
       "| Scotland_W | seas.har3_A |\n",
       "| England_E_and_NE | seas.har2   |\n",
       "| England_NW_and_N_Wales | seas.har2   |\n",
       "| Midlands | seas.har2   |\n",
       "| East_Anglia | seas.har2   |\n",
       "| England_SW_and_S_Wales | seas.har2   |\n",
       "| England_SE_and_Central_S | seas.har2   |\n",
       "\n"
      ],
      "text/plain": [
       "                         Best Models Tmean\n",
       "Northern_Ireland         seas.har2        \n",
       "Scotland_N               seas.har2        \n",
       "Scotland_E               seas.har2        \n",
       "Scotland_W               seas.har3_A      \n",
       "England_E_and_NE         seas.har2        \n",
       "England_NW_and_N_Wales   seas.har2        \n",
       "Midlands                 seas.har2        \n",
       "East_Anglia              seas.har2        \n",
       "England_SW_and_S_Wales   seas.har2        \n",
       "England_SE_and_Central_S seas.har2        "
      ]
     },
     "metadata": {},
     "output_type": "display_data"
    }
   ],
   "source": [
    "do.call(c,\n",
    "        list(\n",
    "          significant_Tmean_dual,\n",
    "          significant_Tmean_trio1,\n",
    "          significant_Tmean_trio2\n",
    "        )) -> Tmean_harm_final\n",
    "lapply(districts, get_min_AIC, y = Tmean_harm_final, z = Tmean_seas_est) %>% set_names(districts) -> best_model_TMean\n",
    "best_model_TMean %>% as.data.frame() %>%  t() %>%  as.data.frame() -> Tmean.best\n",
    "names(Tmean.best)[1] <- \"Best Models Tmean\"\n",
    "Tmean.best\n"
   ]
  },
  {
   "cell_type": "markdown",
   "metadata": {},
   "source": [
    "##### ALL Tmax\n",
    "We combined the time series with a linear trend into a single list and applied the get_min_AIC and the same was done for time series with a cubic trend.\n"
   ]
  },
  {
   "cell_type": "code",
   "execution_count": 119,
   "metadata": {},
   "outputs": [
    {
     "data": {
      "text/html": [
       "<table>\n",
       "<thead><tr><th></th><th scope=col>Best Models Tmax</th></tr></thead>\n",
       "<tbody>\n",
       "\t<tr><th scope=row>Northern_Ireland</th><td>seas.har3_A</td></tr>\n",
       "\t<tr><th scope=row>Scotland_N</th><td>seas.har3_A</td></tr>\n",
       "\t<tr><th scope=row>Scotland_E</th><td>seas.har3_A</td></tr>\n",
       "\t<tr><th scope=row>Scotland_W</th><td>seas.har3_A</td></tr>\n",
       "\t<tr><th scope=row>England_NW_and_N_Wales</th><td>seas.har3_A</td></tr>\n",
       "\t<tr><th scope=row>Midlands</th><td>seas.har2  </td></tr>\n",
       "\t<tr><th scope=row>England_SW_and_S_Wales</th><td>seas.har4  </td></tr>\n",
       "\t<tr><th scope=row>England_SE_and_Central_S</th><td>seas.har2  </td></tr>\n",
       "\t<tr><th scope=row>England_E_and_NE</th><td>seas.har2  </td></tr>\n",
       "\t<tr><th scope=row>East_Anglia</th><td>seas.har2  </td></tr>\n",
       "</tbody>\n",
       "</table>\n"
      ],
      "text/latex": [
       "\\begin{tabular}{r|l}\n",
       "  & Best Models Tmax\\\\\n",
       "\\hline\n",
       "\tNorthern\\_Ireland & seas.har3\\_A\\\\\n",
       "\tScotland\\_N & seas.har3\\_A\\\\\n",
       "\tScotland\\_E & seas.har3\\_A\\\\\n",
       "\tScotland\\_W & seas.har3\\_A\\\\\n",
       "\tEngland\\_NW\\_and\\_N\\_Wales & seas.har3\\_A\\\\\n",
       "\tMidlands & seas.har2  \\\\\n",
       "\tEngland\\_SW\\_and\\_S\\_Wales & seas.har4  \\\\\n",
       "\tEngland\\_SE\\_and\\_Central\\_S & seas.har2  \\\\\n",
       "\tEngland\\_E\\_and\\_NE & seas.har2  \\\\\n",
       "\tEast\\_Anglia & seas.har2  \\\\\n",
       "\\end{tabular}\n"
      ],
      "text/markdown": [
       "\n",
       "| <!--/--> | Best Models Tmax |\n",
       "|---|---|\n",
       "| Northern_Ireland | seas.har3_A |\n",
       "| Scotland_N | seas.har3_A |\n",
       "| Scotland_E | seas.har3_A |\n",
       "| Scotland_W | seas.har3_A |\n",
       "| England_NW_and_N_Wales | seas.har3_A |\n",
       "| Midlands | seas.har2   |\n",
       "| England_SW_and_S_Wales | seas.har4   |\n",
       "| England_SE_and_Central_S | seas.har2   |\n",
       "| England_E_and_NE | seas.har2   |\n",
       "| East_Anglia | seas.har2   |\n",
       "\n"
      ],
      "text/plain": [
       "                         Best Models Tmax\n",
       "Northern_Ireland         seas.har3_A     \n",
       "Scotland_N               seas.har3_A     \n",
       "Scotland_E               seas.har3_A     \n",
       "Scotland_W               seas.har3_A     \n",
       "England_NW_and_N_Wales   seas.har3_A     \n",
       "Midlands                 seas.har2       \n",
       "England_SW_and_S_Wales   seas.har4       \n",
       "England_SE_and_Central_S seas.har2       \n",
       "England_E_and_NE         seas.har2       \n",
       "East_Anglia              seas.har2       "
      ]
     },
     "metadata": {},
     "output_type": "display_data"
    }
   ],
   "source": [
    "do.call(\n",
    "  c,\n",
    "  list(\n",
    "    significant_Tmax.ln_dual,\n",
    "    significant_Tmax.ln_trio1,\n",
    "    significant_Tmax.ln_trio2\n",
    "  )\n",
    ") -> Tmax_harm_final_ln\n",
    "\n",
    "significant_Tmax.cub_trio2 -> Tmax_harm_final_cubic\n",
    "\n",
    "linear_districts <- names(Tmax_2019)[-c(5, 8)]\n",
    "lapply(linear_districts, get_min_AIC, y = Tmax_harm_final_ln, z = Tmax_seas_est_ln) %>% set_names(linear_districts) -> best_model_TMax_ln\n",
    "best_model_TMax_ln %>% as.data.frame() %>%  t() %>% as.data.frame() -> Tmax.ln.best\n",
    "names(Tmax.ln.best)[1] <- \"Best Models Tmax\"\n",
    "\n",
    "cubic_district <- names(Tmax_2019)[c(5, 8)]\n",
    "lapply(cubic_district, get_min_AIC, y = Tmax_harm_final_cubic, z = Tmax_seas_est_cubic) %>% set_names(cubic_district) -> best_model_TMax_cubic\n",
    "best_model_TMax_cubic %>% as.data.frame() %>%  t() %>% as.data.frame() -> Tmax.cb.best\n",
    "names(Tmax.cb.best)[1] <- \"Best Models Tmax\"\n",
    "\n",
    "rbind.data.frame(Tmax.ln.best,Tmax.cb.best)\n"
   ]
  },
  {
   "cell_type": "markdown",
   "metadata": {},
   "source": [
    "We used the unique function to check the unique best models for each group of our time series and we can see we have 5 different best models distributed among the different time series data. Similar to the approach used above, we will create 5 functions that models our combined trend model and seasonal models for each time series data.\n",
    "**Unique Models**\n"
   ]
  },
  {
   "cell_type": "code",
   "execution_count": 120,
   "metadata": {},
   "outputs": [
    {
     "data": {
      "text/html": [
       "<ol class=list-inline>\n",
       "\t<li>'seas.har2'</li>\n",
       "\t<li>'seas.har3_B'</li>\n",
       "\t<li>'seas.har3_C'</li>\n",
       "\t<li>'seas.har3_A'</li>\n",
       "\t<li>'seas.har4'</li>\n",
       "</ol>\n"
      ],
      "text/latex": [
       "\\begin{enumerate*}\n",
       "\\item 'seas.har2'\n",
       "\\item 'seas.har3\\_B'\n",
       "\\item 'seas.har3\\_C'\n",
       "\\item 'seas.har3\\_A'\n",
       "\\item 'seas.har4'\n",
       "\\end{enumerate*}\n"
      ],
      "text/markdown": [
       "1. 'seas.har2'\n",
       "2. 'seas.har3_B'\n",
       "3. 'seas.har3_C'\n",
       "4. 'seas.har3_A'\n",
       "5. 'seas.har4'\n",
       "\n",
       "\n"
      ],
      "text/plain": [
       "[1] \"seas.har2\"   \"seas.har3_B\" \"seas.har3_C\" \"seas.har3_A\" \"seas.har4\"  "
      ]
     },
     "metadata": {},
     "output_type": "display_data"
    }
   ],
   "source": [
    "list(\n",
    "  unique(best_model_TMIN),\n",
    "  unique(best_model_TMean),\n",
    "  unique(best_model_TMax_ln),\n",
    "  unique(best_model_TMax_cubic)\n",
    ") %>%  unlist() %>% unique()\n"
   ]
  },
  {
   "cell_type": "markdown",
   "metadata": {},
   "source": [
    "\n"
   ]
  },
  {
   "cell_type": "code",
   "execution_count": 121,
   "metadata": {},
   "outputs": [
    {
     "data": {
      "text/html": [
       "5"
      ],
      "text/latex": [
       "5"
      ],
      "text/markdown": [
       "5"
      ],
      "text/plain": [
       "[1] 5"
      ]
     },
     "metadata": {},
     "output_type": "display_data"
    }
   ],
   "source": [
    "list(\n",
    "  unique(best_model_TMIN),\n",
    "  unique(best_model_TMean),\n",
    "  unique(best_model_TMax_ln),\n",
    "  unique(best_model_TMax_cubic)\n",
    ") %>%  unlist() %>% unique() %>%  length()\n"
   ]
  },
  {
   "cell_type": "markdown",
   "metadata": {},
   "source": [
    "# 4.5 Building combined model for trend and seasonality \n",
    "We have 5 different best model distributed among the different groups of time series, we will create 5 functions to implement the combine models based on the groups each time series data belongs to, we will subset the time series into their respective groups and apply these functions across the respective groups. Finally, We combined all the different models for the time series into a variable called \"final\".\n"
   ]
  },
  {
   "cell_type": "code",
   "execution_count": 122,
   "metadata": {},
   "outputs": [],
   "source": [
    "# function for model with Seasonal harmonic 2 as the best model\n",
    "combined_mod_har2 <- function(data, poly_order) {\n",
    "  SIN <- COS <- matrix(nrow = length(time.all), ncol = 6)\n",
    "  for (i in 1:6) {\n",
    "    SIN[, i] <- sin(2 * pi * i * time.all)\n",
    "    COS[, i] <- cos(2 * pi * i * time.all)\n",
    "  }\n",
    "  \n",
    "  seas.har2 <- lm(data ~ .,\n",
    "                  data = data.frame(\n",
    "                    TIME = poly(time.all, poly_order, raw = TRUE),\n",
    "                    SIN = SIN[, c(1, 2)],\n",
    "                    COS = COS[, c(1, 2)]\n",
    "                  ))\n",
    "  \n",
    "  \n",
    "  #print(summary(get(paste(c(\"seasonal.har\",order), collapse = \"\"))))\n",
    "  \n",
    "  return(seas.har2)\n",
    "  \n",
    "}\n"
   ]
  },
  {
   "cell_type": "markdown",
   "metadata": {},
   "source": [
    "\n",
    "\n"
   ]
  },
  {
   "cell_type": "code",
   "execution_count": 123,
   "metadata": {},
   "outputs": [],
   "source": [
    "# function for model with Seasonal harmonic 3 A as the best model\n",
    "combined_mod_har3_A <- function(data, poly_order) {\n",
    "  SIN <- COS <- matrix(nrow = length(time.all), ncol = 6)\n",
    "  for (i in 1:6) {\n",
    "    SIN[, i] <- sin(2 * pi * i * time.all)\n",
    "    COS[, i] <- cos(2 * pi * i * time.all)\n",
    "  }\n",
    "  \n",
    "  seas.har3_A <- lm(data ~ .,\n",
    "                    data = data.frame(\n",
    "                      TIME = poly(time.all, poly_order, raw = TRUE),\n",
    "                      SIN = SIN[, c(1, 2)],\n",
    "                      COS = COS[, c(1, 2, 3)]\n",
    "                    ))\n",
    "  \n",
    "  \n",
    "  #print(summary(get(paste(c(\"seasonal.har\",order), collapse = \"\"))))\n",
    "  \n",
    "  return(seas.har3_A)\n",
    "  \n",
    "}\n"
   ]
  },
  {
   "cell_type": "markdown",
   "metadata": {},
   "source": [
    "\n",
    "\n"
   ]
  },
  {
   "cell_type": "code",
   "execution_count": 124,
   "metadata": {},
   "outputs": [],
   "source": [
    "# function for model with Seasonal harmonic 3 B as the best model\n",
    "combined_mod_har3_B <- function(data, poly_order) {\n",
    "  SIN <- COS <- matrix(nrow = length(time.all), ncol = 6)\n",
    "  for (i in 1:6) {\n",
    "    SIN[, i] <- sin(2 * pi * i * time.all)\n",
    "    COS[, i] <- cos(2 * pi * i * time.all)\n",
    "  }\n",
    "  \n",
    "  seas.har3_B <- lm(data ~ .,\n",
    "                    data = data.frame(\n",
    "                      TIME = poly(time.all, poly_order, raw = TRUE),\n",
    "                      SIN = SIN[, c(1, 2)],\n",
    "                      COS = COS[, c(1, 2, 4)]\n",
    "                    ))\n",
    "  \n",
    "  \n",
    "  \n",
    "  \n",
    "  #print(summary(get(paste(c(\"seasonal.har\",order), collapse = \"\"))))\n",
    "  \n",
    "  return(seas.har3_B)\n",
    "  \n",
    "}\n"
   ]
  },
  {
   "cell_type": "markdown",
   "metadata": {},
   "source": [
    "\n",
    "\n"
   ]
  },
  {
   "cell_type": "code",
   "execution_count": 125,
   "metadata": {},
   "outputs": [],
   "source": [
    "# function for model with Seasonal harmonic 3 C as the best model\n",
    "combined_mod_har3_C <- function(data, poly_order) {\n",
    "  SIN <- COS <- matrix(nrow = length(time.all), ncol = 6)\n",
    "  for (i in 1:6) {\n",
    "    SIN[, i] <- sin(2 * pi * i * time.all)\n",
    "    COS[, i] <- cos(2 * pi * i * time.all)\n",
    "  }\n",
    "  \n",
    "  seas.har3_C <- lm(data ~ .,\n",
    "                    data = data.frame(\n",
    "                      TIME = poly(time.all, poly_order, raw = TRUE),\n",
    "                      SIN = SIN[, c(1, 2, 5)],\n",
    "                      COS = COS[, c(1, 2)]\n",
    "                    ))\n",
    "  \n",
    "  \n",
    "  #print(summary(get(paste(c(\"seasonal.har\",order), collapse = \"\"))))\n",
    "  \n",
    "  return(seas.har3_C)\n",
    "  \n",
    "  \n",
    "}\n"
   ]
  },
  {
   "cell_type": "markdown",
   "metadata": {},
   "source": [
    "\n",
    "\n"
   ]
  },
  {
   "cell_type": "code",
   "execution_count": 126,
   "metadata": {},
   "outputs": [],
   "source": [
    "# function for model with Seasonal harmonic 4 as the best model\n",
    "combined_mod_har4 <- function(data, poly_order) {\n",
    "  SIN <- COS <- matrix(nrow = length(time.all), ncol = 6)\n",
    "  for (i in 1:6) {\n",
    "    SIN[, i] <- sin(2 * pi * i * time.all)\n",
    "    COS[, i] <- cos(2 * pi * i * time.all)\n",
    "  }\n",
    "  \n",
    "  seas.har4 <- lm(data ~ .,\n",
    "                  data = data.frame(\n",
    "                    TIME = poly(time.all, poly_order, raw = TRUE),\n",
    "                    SIN = SIN[, c(1, 2, 4)],\n",
    "                    COS = COS[, c(1, 2, 3)]\n",
    "                  ))\n",
    "  \n",
    "  \n",
    "  \n",
    "  \n",
    "  #print(summary(get(paste(c(\"seasonal.har\",order), collapse = \"\"))))\n",
    "  \n",
    "  return(seas.har4)\n",
    "  \n",
    "  \n",
    "}\n"
   ]
  },
  {
   "cell_type": "markdown",
   "metadata": {},
   "source": [
    "\n",
    "\n"
   ]
  },
  {
   "cell_type": "code",
   "execution_count": 127,
   "metadata": {},
   "outputs": [],
   "source": [
    "#subset for each model that belog to specific hars\n",
    "Tmin_har2_district <- Tmin_2019[names(best_model_TMIN[-c(3, 9)])]\n",
    "lapply(Tmin_har2_district, combined_mod_har2, poly_order = 1) -> final_model_Tmin_har2\n",
    "#####################################################################\n",
    "\n",
    "Tmin_har3_B_district <- Tmin_2019[names(best_model_TMIN[c(3)])]\n",
    "lapply(Tmin_har3_B_district, combined_mod_har3_B, poly_order = 1) -> final_model_Tmin_har3_B\n",
    "#####################################################################\n",
    "\n",
    "Tmin_har3_C_district <- Tmin_2019[names(best_model_TMIN[c(9)])]\n",
    "lapply(Tmin_har3_C_district, combined_mod_har3_C, poly_order = 1) -> final_model_Tmin_har3_C\n",
    "#####################################################################\n",
    "\n",
    "\n",
    "#######################COMBINE ALL TMIN##############################################\n",
    "\n",
    "do.call(c,\n",
    "        list(\n",
    "          final_model_Tmin_har2,\n",
    "          final_model_Tmin_har3_B,\n",
    "          final_model_Tmin_har3_C\n",
    "        )) -> Tmin_final_model  \n"
   ]
  },
  {
   "cell_type": "markdown",
   "metadata": {},
   "source": [
    "\n"
   ]
  },
  {
   "cell_type": "code",
   "execution_count": 128,
   "metadata": {},
   "outputs": [
    {
     "data": {
      "text/html": [
       "10"
      ],
      "text/latex": [
       "10"
      ],
      "text/markdown": [
       "10"
      ],
      "text/plain": [
       "[1] 10"
      ]
     },
     "metadata": {},
     "output_type": "display_data"
    }
   ],
   "source": [
    "# time series count validation check\n",
    "length(names(Tmin_final_model))\n"
   ]
  },
  {
   "cell_type": "markdown",
   "metadata": {},
   "source": [
    "\n"
   ]
  },
  {
   "cell_type": "code",
   "execution_count": 129,
   "metadata": {},
   "outputs": [],
   "source": [
    "Tmean_har2_district <- Tmean_2019[names(best_model_TMean[-c(4)])]\n",
    "lapply(Tmean_har2_district, combined_mod_har2, poly_order = 1) -> final_model_Tmean_har2\n",
    "#####################################################################\n",
    "\n",
    "\n",
    "Tmean_har3_A_district <- Tmean_2019[names(best_model_TMean[c(4)])]\n",
    "lapply(Tmean_har3_A_district, combined_mod_har3_A, poly_order = 1) -> final_model_Tmean_har3_A\n",
    "#####################################################################\n",
    "\n",
    "#######################COMBINE ALL TMEAN##############################################\n",
    "\n",
    "do.call(c, list(final_model_Tmean_har2, final_model_Tmean_har3_A)) -> Tmean_final_model  \n"
   ]
  },
  {
   "cell_type": "markdown",
   "metadata": {},
   "source": [
    "\n"
   ]
  },
  {
   "cell_type": "code",
   "execution_count": 130,
   "metadata": {},
   "outputs": [
    {
     "data": {
      "text/html": [
       "10"
      ],
      "text/latex": [
       "10"
      ],
      "text/markdown": [
       "10"
      ],
      "text/plain": [
       "[1] 10"
      ]
     },
     "metadata": {},
     "output_type": "display_data"
    }
   ],
   "source": [
    "# time series count validation check\n",
    "length(names(Tmean_final_model))\n"
   ]
  },
  {
   "cell_type": "markdown",
   "metadata": {},
   "source": [
    "\n",
    "\n"
   ]
  },
  {
   "cell_type": "code",
   "execution_count": 131,
   "metadata": {},
   "outputs": [],
   "source": [
    "Tmax_har3_A_district_ln <- Tmax_2019[names(best_model_TMax_ln[1:5])]\n",
    "lapply(Tmax_har3_A_district_ln, combined_mod_har3_A, poly_order = 1) %>% set_names(names(Tmax_har3_A_district_ln)) -> final_model_Tmax_har3_A\n",
    "#####################################################################\n",
    "\n",
    "\n",
    "Tmax_har2_district_ln <- Tmax_2019[names(best_model_TMax_ln[c(6, 8)])]\n",
    "lapply(Tmax_har2_district_ln, combined_mod_har2, poly_order = 1) %>% set_names(names(Tmax_har2_district_ln)) -> final_model_Tmax_ln_har2\n",
    "#####################################################################\n",
    "\n",
    "Tmax_har4_district_ln <- Tmax_2019[names(best_model_TMax_ln[c(7)])]\n",
    "lapply(Tmax_har4_district_ln, combined_mod_har4, poly_order = 1) %>% set_names(names(Tmax_har4_district_ln)) -> final_model_Tmax_ln_har4\n",
    "#####################################################################\n",
    "\n",
    "Tmax_har2_district_cb <- Tmax_2019[names(best_model_TMax_cubic)]\n",
    "lapply(Tmax_har2_district_cb, combined_mod_har2, poly_order = 3) %>% set_names(names(Tmax_har2_district_cb)) -> final_model_Tmax_cb_har2\n",
    "#####################################################################\n",
    "#######################COMBINE ALL TMAX##############################################\n",
    "\n",
    "do.call(\n",
    "  c,\n",
    "  list(\n",
    "    final_model_Tmax_har3_A,\n",
    "    final_model_Tmax_ln_har2,\n",
    "    final_model_Tmax_ln_har4,\n",
    "    final_model_Tmax_cb_har2\n",
    "  )\n",
    ") -> Tmax_final_model  \n"
   ]
  },
  {
   "cell_type": "markdown",
   "metadata": {},
   "source": [
    "\n"
   ]
  },
  {
   "cell_type": "code",
   "execution_count": 132,
   "metadata": {},
   "outputs": [
    {
     "data": {
      "text/html": [
       "10"
      ],
      "text/latex": [
       "10"
      ],
      "text/markdown": [
       "10"
      ],
      "text/plain": [
       "[1] 10"
      ]
     },
     "metadata": {},
     "output_type": "display_data"
    }
   ],
   "source": [
    "# time series count validation check\n",
    "length(names(Tmax_final_model))\n"
   ]
  },
  {
   "cell_type": "markdown",
   "metadata": {},
   "source": [
    "\n",
    "\n"
   ]
  },
  {
   "cell_type": "code",
   "execution_count": 133,
   "metadata": {},
   "outputs": [],
   "source": [
    "#---FINAL MODEL\n",
    "list(Tmin_final_model=Tmin_final_model, Tmean_final_model=Tmean_final_model,Tmax_final_model=Tmax_final_model) -> final\n"
   ]
  },
  {
   "cell_type": "markdown",
   "metadata": {},
   "source": [
    "# 4.6 Creating test set using a combined quadratic and sin-cosine (of order 2) models.\n",
    "A function return_quad_sin_cos was created to Estimate trend and seasonality using a combined quadratic and sin-cosine (of order 2) models. We created a function to apply the return_quad_sin_cos on a nested list called def_temp. The final outputs were joined into a list and called test.\n"
   ]
  },
  {
   "cell_type": "code",
   "execution_count": 134,
   "metadata": {},
   "outputs": [],
   "source": [
    "# Function to return the harmonic mean of a time series data\n",
    "return_quad_sin_cos <- function(takes_data) {\n",
    "  # Apply the run_model function to the data to get the specified model\n",
    "  run_model(takes_data, time.all) -> model.result\n",
    "  \n",
    "  # Get the residuals from the data which does not have the trend\n",
    "  data.notrend <- takes_data - fitted(model.result$q_model)\n",
    "  \n",
    "  # Create a matrix of SINE and COSINE values\n",
    "  SIN <- COS <- matrix(nrow = length(time.all), ncol = 6)\n",
    "  for (i in 1:6) {\n",
    "    SIN[, i] <- sin(2 * pi * i * time.all)\n",
    "    COS[, i] <- cos(2 * pi * i * time.all)\n",
    "  }\n",
    "  \n",
    "  # Function to return harmonic of specified order\n",
    "  seasonal.har <- function(order) {\n",
    "    assign(paste(c(\"seasonal.har\", order), collapse = \"\"),\n",
    "           lm(data.notrend ~ . - 1,\n",
    "              data.frame(SIN = SIN[, 1:order], COS = COS[, 1:order])))\n",
    "    \n",
    "    return(get(paste(c(\n",
    "      \"seasonal.har\", order\n",
    "    ), collapse = \"\")))\n",
    "    \n",
    "  }\n",
    "  \n",
    "  \n",
    "  # order 2\n",
    "  seas.har2 <- seasonal.har(2)\n",
    "  \n",
    "  \n",
    "  \n",
    "  return(seas.har2)\n",
    "}\n"
   ]
  },
  {
   "cell_type": "markdown",
   "metadata": {},
   "source": [
    "\n",
    "\n"
   ]
  },
  {
   "cell_type": "code",
   "execution_count": 135,
   "metadata": {},
   "outputs": [],
   "source": [
    "#function that applies lapply\n",
    "def_temp <- function(takes_list) {\n",
    "  lapply(takes_list, return_quad_sin_cos) %>% set_names(names(takes_list))  -> res\n",
    "  return(res)\n",
    "}\n",
    "\n",
    "list_param <-\n",
    "  list(\n",
    "    \"Tmin_2019\" = Tmin_2019,\n",
    "    \"Tmean_2019\" = Tmean_2019,\n",
    "    \"Tmax_2019\" = Tmax_2019\n",
    "  )\n",
    "\n",
    "lapply(list_param, def_temp)  -> test\n"
   ]
  },
  {
   "cell_type": "markdown",
   "metadata": {},
   "source": [
    "# 5 ARMA and Forecasting \n",
    "\n",
    "### 5.1 Retrieving the residuals for test and final models\n",
    "We subsetted the final and test model into subsets of the component parameters (Tmax,Tmean and Tmin), a function was created to derive the residuals for both final and test models. The mapply function was used to dervive the residuals by subtracting the combined model(final and test) from the original time series data. We removed trend and\n",
    "seasonality from each of the 30 time series for both the final and test model and hence we now have 60 residuals time series.\n"
   ]
  },
  {
   "cell_type": "code",
   "execution_count": 136,
   "metadata": {},
   "outputs": [],
   "source": [
    "final$Tmin_final_model -> Tmin_final_model\n",
    "final$Tmean_final_model -> Tmean_final_model\n",
    "final$Tmax_final_model -> Tmax_final_model\n"
   ]
  },
  {
   "cell_type": "markdown",
   "metadata": {},
   "source": [
    "\n",
    "\n"
   ]
  },
  {
   "cell_type": "code",
   "execution_count": 137,
   "metadata": {},
   "outputs": [],
   "source": [
    "test$Tmin_2019 -> Tmin_test_model\n",
    "test$Tmean_2019 -> Tmean_test_model\n",
    "test$Tmax_2019 -> Tmax_test_model\n"
   ]
  },
  {
   "cell_type": "markdown",
   "metadata": {},
   "source": [
    "\n"
   ]
  },
  {
   "cell_type": "code",
   "execution_count": 138,
   "metadata": {},
   "outputs": [],
   "source": [
    "residuals_func <- function(ts_data,final_model){\n",
    "residuals <- ts_data - final_model %>% fitted()\n",
    "return(residuals)\n",
    "}\n"
   ]
  },
  {
   "cell_type": "markdown",
   "metadata": {},
   "source": [
    "\n"
   ]
  },
  {
   "cell_type": "code",
   "execution_count": 139,
   "metadata": {},
   "outputs": [],
   "source": [
    "#to apply mapply create a variable sorted names\n",
    "sorted_district <- sort(names(Tmin_2019))\n"
   ]
  },
  {
   "cell_type": "markdown",
   "metadata": {},
   "source": [
    "\n",
    "\n"
   ]
  },
  {
   "cell_type": "code",
   "execution_count": 140,
   "metadata": {},
   "outputs": [],
   "source": [
    "#we had to sort cause mapply works only on sorted\n",
    "mapply(residuals_func, Tmin_2019[sorted_district], Tmin_final_model[sorted_district], SIMPLIFY = FALSE) -> residual_tmin\n",
    "mapply(residuals_func, Tmean_2019[sorted_district], Tmean_final_model[sorted_district], SIMPLIFY = FALSE) -> residual_tmean\n",
    "mapply(residuals_func, Tmax_2019[sorted_district], Tmax_final_model[sorted_district], SIMPLIFY = FALSE) -> residual_tmax\n"
   ]
  },
  {
   "cell_type": "markdown",
   "metadata": {},
   "source": [
    "\n",
    "\n"
   ]
  },
  {
   "cell_type": "code",
   "execution_count": 141,
   "metadata": {},
   "outputs": [],
   "source": [
    "#we had to sort cause mapply works only on sorted\n",
    "mapply(residuals_func, Tmin_2019[sorted_district], Tmin_test_model[sorted_district], SIMPLIFY = FALSE) -> test_residual_tmin\n",
    "mapply(residuals_func, Tmean_2019[sorted_district], Tmean_test_model[sorted_district], SIMPLIFY = FALSE) -> test_residual_tmean\n",
    "mapply(residuals_func, Tmax_2019[sorted_district], Tmax_test_model[sorted_district], SIMPLIFY = FALSE) -> test_residual_tmax\n"
   ]
  },
  {
   "cell_type": "markdown",
   "metadata": {},
   "source": [
    "### 5.2 Fit the residuals with an appropriate ARMA model.\n",
    "To fit a arma model to all our time series we created a function \"fit_fun\" which takes a residual as an argument and returns a model for our residuals. This was used to create forecasts for our time series later in this study. The lapply function was used to apply the fit_func function across our nested time series in both final and test set. We assigned the outcome into 6 different lists which reperesents Tmax, Tmean and Tmin for final and test model.\n"
   ]
  },
  {
   "cell_type": "code",
   "execution_count": 142,
   "metadata": {},
   "outputs": [],
   "source": [
    "fit_func <- function(residuals) {\n",
    "  ## Order selection -- AIC\n",
    "  n <- length(residuals)\n",
    "  norder <- 4\n",
    "  \n",
    "  p <- c(1:norder) - 1\n",
    "  q <- c(1:norder) - 1\n",
    "  \n",
    "  aic <- matrix(0, norder, norder)\n",
    "  \n",
    "  for (i in 1:norder) {\n",
    "    for (j in 1:norder) {\n",
    "      modij <- arima(residuals,\n",
    "                     order = c(p[i], 0, q[j]),\n",
    "                     method = 'ML')\n",
    "      \n",
    "      aic[i, j] <-\n",
    "        modij$aic - 2 * (p[i] + q[j] + 1) + 2 * (p[i] + q[j] + 1) * n / (n - p[i] -\n",
    "                                                                           q[j] - 2)\n",
    "    }\n",
    "  }\n",
    "  \n",
    "  #aicv <- as.vector(aic)\n",
    "  \n",
    "  #plot(aicv, ylab=\"AIC values\")\n",
    "  \n",
    "  indexaic <- which(aic == min(aic), arr.ind = TRUE)\n",
    "  \n",
    "  porder <- indexaic[1, 1] - 1\n",
    "  qorder <- indexaic[1, 2] - 1\n",
    "  # Final residuals model\n",
    "  residuals.model <-\n",
    "    arima(residuals,\n",
    "          order = c(porder, 0, qorder),\n",
    "          method = \"ML\")\n",
    "  return(residuals.model)\n",
    "}\n"
   ]
  },
  {
   "cell_type": "markdown",
   "metadata": {},
   "source": [
    "\n",
    "\n"
   ]
  },
  {
   "cell_type": "code",
   "execution_count": 143,
   "metadata": {},
   "outputs": [
    {
     "name": "stderr",
     "output_type": "stream",
     "text": [
      "Warning message in arima(residuals, order = c(p[i], 0, q[j]), method = \"ML\"):\n",
      "“possible convergence problem: optim gave code = 1”Warning message in arima(residuals, order = c(p[i], 0, q[j]), method = \"ML\"):\n",
      "“possible convergence problem: optim gave code = 1”Warning message in arima(residuals, order = c(p[i], 0, q[j]), method = \"ML\"):\n",
      "“possible convergence problem: optim gave code = 1”Warning message in arima(residuals, order = c(p[i], 0, q[j]), method = \"ML\"):\n",
      "“possible convergence problem: optim gave code = 1”Warning message in arima(residuals, order = c(porder, 0, qorder), method = \"ML\"):\n",
      "“possible convergence problem: optim gave code = 1”Warning message in arima(residuals, order = c(p[i], 0, q[j]), method = \"ML\"):\n",
      "“possible convergence problem: optim gave code = 1”Warning message in arima(residuals, order = c(p[i], 0, q[j]), method = \"ML\"):\n",
      "“possible convergence problem: optim gave code = 1”Warning message in arima(residuals, order = c(p[i], 0, q[j]), method = \"ML\"):\n",
      "“possible convergence problem: optim gave code = 1”Warning message in arima(residuals, order = c(p[i], 0, q[j]), method = \"ML\"):\n",
      "“possible convergence problem: optim gave code = 1”Warning message in arima(residuals, order = c(p[i], 0, q[j]), method = \"ML\"):\n",
      "“possible convergence problem: optim gave code = 1”Warning message in arima(residuals, order = c(p[i], 0, q[j]), method = \"ML\"):\n",
      "“possible convergence problem: optim gave code = 1”Warning message in arima(residuals, order = c(p[i], 0, q[j]), method = \"ML\"):\n",
      "“possible convergence problem: optim gave code = 1”Warning message in arima(residuals, order = c(porder, 0, qorder), method = \"ML\"):\n",
      "“possible convergence problem: optim gave code = 1”Warning message in arima(residuals, order = c(p[i], 0, q[j]), method = \"ML\"):\n",
      "“possible convergence problem: optim gave code = 1”Warning message in arima(residuals, order = c(p[i], 0, q[j]), method = \"ML\"):\n",
      "“possible convergence problem: optim gave code = 1”Warning message in arima(residuals, order = c(p[i], 0, q[j]), method = \"ML\"):\n",
      "“possible convergence problem: optim gave code = 1”Warning message in arima(residuals, order = c(p[i], 0, q[j]), method = \"ML\"):\n",
      "“possible convergence problem: optim gave code = 1”Warning message in arima(residuals, order = c(p[i], 0, q[j]), method = \"ML\"):\n",
      "“possible convergence problem: optim gave code = 1”Warning message in arima(residuals, order = c(p[i], 0, q[j]), method = \"ML\"):\n",
      "“possible convergence problem: optim gave code = 1”Warning message in arima(residuals, order = c(p[i], 0, q[j]), method = \"ML\"):\n",
      "“possible convergence problem: optim gave code = 1”Warning message in arima(residuals, order = c(p[i], 0, q[j]), method = \"ML\"):\n",
      "“possible convergence problem: optim gave code = 1”Warning message in arima(residuals, order = c(p[i], 0, q[j]), method = \"ML\"):\n",
      "“possible convergence problem: optim gave code = 1”Warning message in arima(residuals, order = c(p[i], 0, q[j]), method = \"ML\"):\n",
      "“possible convergence problem: optim gave code = 1”Warning message in arima(residuals, order = c(p[i], 0, q[j]), method = \"ML\"):\n",
      "“possible convergence problem: optim gave code = 1”Warning message in arima(residuals, order = c(p[i], 0, q[j]), method = \"ML\"):\n",
      "“possible convergence problem: optim gave code = 1”Warning message in arima(residuals, order = c(p[i], 0, q[j]), method = \"ML\"):\n",
      "“possible convergence problem: optim gave code = 1”Warning message in arima(residuals, order = c(p[i], 0, q[j]), method = \"ML\"):\n",
      "“possible convergence problem: optim gave code = 1”Warning message in arima(residuals, order = c(p[i], 0, q[j]), method = \"ML\"):\n",
      "“possible convergence problem: optim gave code = 1”Warning message in arima(residuals, order = c(p[i], 0, q[j]), method = \"ML\"):\n",
      "“possible convergence problem: optim gave code = 1”Warning message in arima(residuals, order = c(p[i], 0, q[j]), method = \"ML\"):\n",
      "“possible convergence problem: optim gave code = 1”Warning message in arima(residuals, order = c(p[i], 0, q[j]), method = \"ML\"):\n",
      "“possible convergence problem: optim gave code = 1”Warning message in arima(residuals, order = c(p[i], 0, q[j]), method = \"ML\"):\n",
      "“possible convergence problem: optim gave code = 1”Warning message in arima(residuals, order = c(p[i], 0, q[j]), method = \"ML\"):\n",
      "“possible convergence problem: optim gave code = 1”Warning message in arima(residuals, order = c(p[i], 0, q[j]), method = \"ML\"):\n",
      "“possible convergence problem: optim gave code = 1”Warning message in arima(residuals, order = c(porder, 0, qorder), method = \"ML\"):\n",
      "“possible convergence problem: optim gave code = 1”Warning message in arima(residuals, order = c(p[i], 0, q[j]), method = \"ML\"):\n",
      "“possible convergence problem: optim gave code = 1”Warning message in arima(residuals, order = c(p[i], 0, q[j]), method = \"ML\"):\n",
      "“possible convergence problem: optim gave code = 1”Warning message in arima(residuals, order = c(p[i], 0, q[j]), method = \"ML\"):\n",
      "“possible convergence problem: optim gave code = 1”Warning message in arima(residuals, order = c(p[i], 0, q[j]), method = \"ML\"):\n",
      "“possible convergence problem: optim gave code = 1”Warning message in arima(residuals, order = c(p[i], 0, q[j]), method = \"ML\"):\n",
      "“possible convergence problem: optim gave code = 1”Warning message in arima(residuals, order = c(p[i], 0, q[j]), method = \"ML\"):\n",
      "“possible convergence problem: optim gave code = 1”Warning message in arima(residuals, order = c(p[i], 0, q[j]), method = \"ML\"):\n",
      "“possible convergence problem: optim gave code = 1”Warning message in arima(residuals, order = c(p[i], 0, q[j]), method = \"ML\"):\n",
      "“possible convergence problem: optim gave code = 1”Warning message in arima(residuals, order = c(p[i], 0, q[j]), method = \"ML\"):\n",
      "“possible convergence problem: optim gave code = 1”Warning message in arima(residuals, order = c(p[i], 0, q[j]), method = \"ML\"):\n",
      "“possible convergence problem: optim gave code = 1”Warning message in arima(residuals, order = c(p[i], 0, q[j]), method = \"ML\"):\n",
      "“possible convergence problem: optim gave code = 1”Warning message in arima(residuals, order = c(p[i], 0, q[j]), method = \"ML\"):\n",
      "“possible convergence problem: optim gave code = 1”Warning message in arima(residuals, order = c(p[i], 0, q[j]), method = \"ML\"):\n",
      "“possible convergence problem: optim gave code = 1”Warning message in arima(residuals, order = c(porder, 0, qorder), method = \"ML\"):\n",
      "“possible convergence problem: optim gave code = 1”Warning message in arima(residuals, order = c(p[i], 0, q[j]), method = \"ML\"):\n",
      "“possible convergence problem: optim gave code = 1”Warning message in arima(residuals, order = c(p[i], 0, q[j]), method = \"ML\"):\n",
      "“possible convergence problem: optim gave code = 1”Warning message in arima(residuals, order = c(p[i], 0, q[j]), method = \"ML\"):\n",
      "“possible convergence problem: optim gave code = 1”Warning message in arima(residuals, order = c(p[i], 0, q[j]), method = \"ML\"):\n",
      "“possible convergence problem: optim gave code = 1”Warning message in arima(residuals, order = c(p[i], 0, q[j]), method = \"ML\"):\n",
      "“possible convergence problem: optim gave code = 1”Warning message in arima(residuals, order = c(p[i], 0, q[j]), method = \"ML\"):\n",
      "“possible convergence problem: optim gave code = 1”Warning message in arima(residuals, order = c(p[i], 0, q[j]), method = \"ML\"):\n",
      "“possible convergence problem: optim gave code = 1”Warning message in arima(residuals, order = c(p[i], 0, q[j]), method = \"ML\"):\n",
      "“possible convergence problem: optim gave code = 1”Warning message in arima(residuals, order = c(p[i], 0, q[j]), method = \"ML\"):\n",
      "“possible convergence problem: optim gave code = 1”Warning message in arima(residuals, order = c(p[i], 0, q[j]), method = \"ML\"):\n",
      "“possible convergence problem: optim gave code = 1”Warning message in arima(residuals, order = c(p[i], 0, q[j]), method = \"ML\"):\n",
      "“possible convergence problem: optim gave code = 1”Warning message in arima(residuals, order = c(p[i], 0, q[j]), method = \"ML\"):\n",
      "“possible convergence problem: optim gave code = 1”Warning message in arima(residuals, order = c(p[i], 0, q[j]), method = \"ML\"):\n",
      "“possible convergence problem: optim gave code = 1”Warning message in arima(residuals, order = c(p[i], 0, q[j]), method = \"ML\"):\n",
      "“possible convergence problem: optim gave code = 1”Warning message in arima(residuals, order = c(porder, 0, qorder), method = \"ML\"):\n"
     ]
    },
    {
     "name": "stderr",
     "output_type": "stream",
     "text": [
      "“possible convergence problem: optim gave code = 1”Warning message in arima(residuals, order = c(p[i], 0, q[j]), method = \"ML\"):\n",
      "“possible convergence problem: optim gave code = 1”Warning message in arima(residuals, order = c(p[i], 0, q[j]), method = \"ML\"):\n",
      "“possible convergence problem: optim gave code = 1”Warning message in arima(residuals, order = c(p[i], 0, q[j]), method = \"ML\"):\n",
      "“possible convergence problem: optim gave code = 1”Warning message in arima(residuals, order = c(p[i], 0, q[j]), method = \"ML\"):\n",
      "“possible convergence problem: optim gave code = 1”Warning message in arima(residuals, order = c(p[i], 0, q[j]), method = \"ML\"):\n",
      "“possible convergence problem: optim gave code = 1”Warning message in arima(residuals, order = c(p[i], 0, q[j]), method = \"ML\"):\n",
      "“possible convergence problem: optim gave code = 1”Warning message in arima(residuals, order = c(porder, 0, qorder), method = \"ML\"):\n",
      "“possible convergence problem: optim gave code = 1”Warning message in arima(residuals, order = c(p[i], 0, q[j]), method = \"ML\"):\n",
      "“possible convergence problem: optim gave code = 1”Warning message in arima(residuals, order = c(p[i], 0, q[j]), method = \"ML\"):\n",
      "“possible convergence problem: optim gave code = 1”Warning message in arima(residuals, order = c(p[i], 0, q[j]), method = \"ML\"):\n",
      "“possible convergence problem: optim gave code = 1”Warning message in arima(residuals, order = c(p[i], 0, q[j]), method = \"ML\"):\n",
      "“possible convergence problem: optim gave code = 1”Warning message in arima(residuals, order = c(p[i], 0, q[j]), method = \"ML\"):\n",
      "“possible convergence problem: optim gave code = 1”Warning message in arima(residuals, order = c(porder, 0, qorder), method = \"ML\"):\n",
      "“possible convergence problem: optim gave code = 1”Warning message in arima(residuals, order = c(p[i], 0, q[j]), method = \"ML\"):\n",
      "“possible convergence problem: optim gave code = 1”Warning message in arima(residuals, order = c(p[i], 0, q[j]), method = \"ML\"):\n",
      "“possible convergence problem: optim gave code = 1”Warning message in arima(residuals, order = c(p[i], 0, q[j]), method = \"ML\"):\n",
      "“possible convergence problem: optim gave code = 1”Warning message in arima(residuals, order = c(p[i], 0, q[j]), method = \"ML\"):\n",
      "“possible convergence problem: optim gave code = 1”Warning message in arima(residuals, order = c(porder, 0, qorder), method = \"ML\"):\n",
      "“possible convergence problem: optim gave code = 1”Warning message in arima(residuals, order = c(p[i], 0, q[j]), method = \"ML\"):\n",
      "“possible convergence problem: optim gave code = 1”Warning message in arima(residuals, order = c(p[i], 0, q[j]), method = \"ML\"):\n",
      "“possible convergence problem: optim gave code = 1”Warning message in arima(residuals, order = c(p[i], 0, q[j]), method = \"ML\"):\n",
      "“possible convergence problem: optim gave code = 1”Warning message in arima(residuals, order = c(p[i], 0, q[j]), method = \"ML\"):\n",
      "“possible convergence problem: optim gave code = 1”Warning message in arima(residuals, order = c(p[i], 0, q[j]), method = \"ML\"):\n",
      "“possible convergence problem: optim gave code = 1”Warning message in arima(residuals, order = c(porder, 0, qorder), method = \"ML\"):\n",
      "“possible convergence problem: optim gave code = 1”Warning message in arima(residuals, order = c(p[i], 0, q[j]), method = \"ML\"):\n",
      "“possible convergence problem: optim gave code = 1”Warning message in arima(residuals, order = c(p[i], 0, q[j]), method = \"ML\"):\n",
      "“possible convergence problem: optim gave code = 1”Warning message in arima(residuals, order = c(p[i], 0, q[j]), method = \"ML\"):\n",
      "“possible convergence problem: optim gave code = 1”Warning message in arima(residuals, order = c(p[i], 0, q[j]), method = \"ML\"):\n",
      "“possible convergence problem: optim gave code = 1”Warning message in arima(residuals, order = c(porder, 0, qorder), method = \"ML\"):\n",
      "“possible convergence problem: optim gave code = 1”Warning message in arima(residuals, order = c(p[i], 0, q[j]), method = \"ML\"):\n",
      "“possible convergence problem: optim gave code = 1”Warning message in arima(residuals, order = c(p[i], 0, q[j]), method = \"ML\"):\n",
      "“possible convergence problem: optim gave code = 1”Warning message in arima(residuals, order = c(p[i], 0, q[j]), method = \"ML\"):\n",
      "“possible convergence problem: optim gave code = 1”Warning message in arima(residuals, order = c(p[i], 0, q[j]), method = \"ML\"):\n",
      "“possible convergence problem: optim gave code = 1”Warning message in arima(residuals, order = c(p[i], 0, q[j]), method = \"ML\"):\n",
      "“possible convergence problem: optim gave code = 1”Warning message in arima(residuals, order = c(p[i], 0, q[j]), method = \"ML\"):\n",
      "“possible convergence problem: optim gave code = 1”Warning message in arima(residuals, order = c(porder, 0, qorder), method = \"ML\"):\n",
      "“possible convergence problem: optim gave code = 1”Warning message in arima(residuals, order = c(p[i], 0, q[j]), method = \"ML\"):\n",
      "“possible convergence problem: optim gave code = 1”Warning message in arima(residuals, order = c(p[i], 0, q[j]), method = \"ML\"):\n",
      "“possible convergence problem: optim gave code = 1”Warning message in arima(residuals, order = c(p[i], 0, q[j]), method = \"ML\"):\n",
      "“possible convergence problem: optim gave code = 1”Warning message in arima(residuals, order = c(p[i], 0, q[j]), method = \"ML\"):\n",
      "“possible convergence problem: optim gave code = 1”Warning message in arima(residuals, order = c(p[i], 0, q[j]), method = \"ML\"):\n",
      "“possible convergence problem: optim gave code = 1”Warning message in arima(residuals, order = c(porder, 0, qorder), method = \"ML\"):\n",
      "“possible convergence problem: optim gave code = 1”Warning message in arima(residuals, order = c(p[i], 0, q[j]), method = \"ML\"):\n",
      "“possible convergence problem: optim gave code = 1”Warning message in arima(residuals, order = c(p[i], 0, q[j]), method = \"ML\"):\n",
      "“possible convergence problem: optim gave code = 1”Warning message in arima(residuals, order = c(p[i], 0, q[j]), method = \"ML\"):\n",
      "“possible convergence problem: optim gave code = 1”Warning message in arima(residuals, order = c(p[i], 0, q[j]), method = \"ML\"):\n",
      "“possible convergence problem: optim gave code = 1”Warning message in arima(residuals, order = c(p[i], 0, q[j]), method = \"ML\"):\n",
      "“possible convergence problem: optim gave code = 1”Warning message in arima(residuals, order = c(p[i], 0, q[j]), method = \"ML\"):\n",
      "“possible convergence problem: optim gave code = 1”Warning message in arima(residuals, order = c(p[i], 0, q[j]), method = \"ML\"):\n",
      "“possible convergence problem: optim gave code = 1”Warning message in arima(residuals, order = c(p[i], 0, q[j]), method = \"ML\"):\n",
      "“possible convergence problem: optim gave code = 1”Warning message in arima(residuals, order = c(porder, 0, qorder), method = \"ML\"):\n",
      "“possible convergence problem: optim gave code = 1”Warning message in arima(residuals, order = c(p[i], 0, q[j]), method = \"ML\"):\n",
      "“possible convergence problem: optim gave code = 1”Warning message in arima(residuals, order = c(p[i], 0, q[j]), method = \"ML\"):\n",
      "“possible convergence problem: optim gave code = 1”Warning message in arima(residuals, order = c(p[i], 0, q[j]), method = \"ML\"):\n",
      "“possible convergence problem: optim gave code = 1”Warning message in arima(residuals, order = c(p[i], 0, q[j]), method = \"ML\"):\n",
      "“possible convergence problem: optim gave code = 1”Warning message in arima(residuals, order = c(p[i], 0, q[j]), method = \"ML\"):\n",
      "“possible convergence problem: optim gave code = 1”Warning message in arima(residuals, order = c(p[i], 0, q[j]), method = \"ML\"):\n",
      "“possible convergence problem: optim gave code = 1”Warning message in arima(residuals, order = c(p[i], 0, q[j]), method = \"ML\"):\n",
      "“possible convergence problem: optim gave code = 1”Warning message in arima(residuals, order = c(p[i], 0, q[j]), method = \"ML\"):\n",
      "“possible convergence problem: optim gave code = 1”Warning message in arima(residuals, order = c(p[i], 0, q[j]), method = \"ML\"):\n",
      "“possible convergence problem: optim gave code = 1”Warning message in arima(residuals, order = c(p[i], 0, q[j]), method = \"ML\"):\n",
      "“possible convergence problem: optim gave code = 1”Warning message in arima(residuals, order = c(p[i], 0, q[j]), method = \"ML\"):\n",
      "“possible convergence problem: optim gave code = 1”Warning message in arima(residuals, order = c(p[i], 0, q[j]), method = \"ML\"):\n"
     ]
    },
    {
     "name": "stderr",
     "output_type": "stream",
     "text": [
      "“possible convergence problem: optim gave code = 1”Warning message in arima(residuals, order = c(p[i], 0, q[j]), method = \"ML\"):\n",
      "“possible convergence problem: optim gave code = 1”Warning message in arima(residuals, order = c(p[i], 0, q[j]), method = \"ML\"):\n",
      "“possible convergence problem: optim gave code = 1”Warning message in arima(residuals, order = c(p[i], 0, q[j]), method = \"ML\"):\n",
      "“possible convergence problem: optim gave code = 1”Warning message in arima(residuals, order = c(p[i], 0, q[j]), method = \"ML\"):\n",
      "“possible convergence problem: optim gave code = 1”Warning message in arima(residuals, order = c(p[i], 0, q[j]), method = \"ML\"):\n",
      "“possible convergence problem: optim gave code = 1”Warning message in arima(residuals, order = c(porder, 0, qorder), method = \"ML\"):\n",
      "“possible convergence problem: optim gave code = 1”Warning message in arima(residuals, order = c(p[i], 0, q[j]), method = \"ML\"):\n",
      "“possible convergence problem: optim gave code = 1”Warning message in arima(residuals, order = c(p[i], 0, q[j]), method = \"ML\"):\n",
      "“possible convergence problem: optim gave code = 1”Warning message in arima(residuals, order = c(p[i], 0, q[j]), method = \"ML\"):\n",
      "“possible convergence problem: optim gave code = 1”Warning message in arima(residuals, order = c(p[i], 0, q[j]), method = \"ML\"):\n",
      "“possible convergence problem: optim gave code = 1”Warning message in arima(residuals, order = c(p[i], 0, q[j]), method = \"ML\"):\n",
      "“possible convergence problem: optim gave code = 1”Warning message in arima(residuals, order = c(porder, 0, qorder), method = \"ML\"):\n",
      "“possible convergence problem: optim gave code = 1”Warning message in arima(residuals, order = c(p[i], 0, q[j]), method = \"ML\"):\n",
      "“possible convergence problem: optim gave code = 1”Warning message in arima(residuals, order = c(p[i], 0, q[j]), method = \"ML\"):\n",
      "“possible convergence problem: optim gave code = 1”Warning message in arima(residuals, order = c(p[i], 0, q[j]), method = \"ML\"):\n",
      "“possible convergence problem: optim gave code = 1”Warning message in arima(residuals, order = c(p[i], 0, q[j]), method = \"ML\"):\n",
      "“possible convergence problem: optim gave code = 1”Warning message in arima(residuals, order = c(p[i], 0, q[j]), method = \"ML\"):\n",
      "“possible convergence problem: optim gave code = 1”Warning message in arima(residuals, order = c(p[i], 0, q[j]), method = \"ML\"):\n",
      "“possible convergence problem: optim gave code = 1”Warning message in arima(residuals, order = c(p[i], 0, q[j]), method = \"ML\"):\n",
      "“possible convergence problem: optim gave code = 1”Warning message in arima(residuals, order = c(porder, 0, qorder), method = \"ML\"):\n",
      "“possible convergence problem: optim gave code = 1”Warning message in arima(residuals, order = c(p[i], 0, q[j]), method = \"ML\"):\n",
      "“possible convergence problem: optim gave code = 1”Warning message in arima(residuals, order = c(porder, 0, qorder), method = \"ML\"):\n",
      "“possible convergence problem: optim gave code = 1”Warning message in arima(residuals, order = c(p[i], 0, q[j]), method = \"ML\"):\n",
      "“possible convergence problem: optim gave code = 1”Warning message in arima(residuals, order = c(p[i], 0, q[j]), method = \"ML\"):\n",
      "“possible convergence problem: optim gave code = 1”Warning message in arima(residuals, order = c(p[i], 0, q[j]), method = \"ML\"):\n",
      "“possible convergence problem: optim gave code = 1”Warning message in arima(residuals, order = c(p[i], 0, q[j]), method = \"ML\"):\n",
      "“possible convergence problem: optim gave code = 1”Warning message in arima(residuals, order = c(porder, 0, qorder), method = \"ML\"):\n",
      "“possible convergence problem: optim gave code = 1”Warning message in arima(residuals, order = c(p[i], 0, q[j]), method = \"ML\"):\n",
      "“possible convergence problem: optim gave code = 1”Warning message in arima(residuals, order = c(p[i], 0, q[j]), method = \"ML\"):\n",
      "“possible convergence problem: optim gave code = 1”Warning message in arima(residuals, order = c(p[i], 0, q[j]), method = \"ML\"):\n",
      "“possible convergence problem: optim gave code = 1”Warning message in arima(residuals, order = c(p[i], 0, q[j]), method = \"ML\"):\n",
      "“possible convergence problem: optim gave code = 1”Warning message in arima(residuals, order = c(p[i], 0, q[j]), method = \"ML\"):\n",
      "“possible convergence problem: optim gave code = 1”Warning message in arima(residuals, order = c(porder, 0, qorder), method = \"ML\"):\n",
      "“possible convergence problem: optim gave code = 1”Warning message in arima(residuals, order = c(p[i], 0, q[j]), method = \"ML\"):\n",
      "“possible convergence problem: optim gave code = 1”Warning message in arima(residuals, order = c(p[i], 0, q[j]), method = \"ML\"):\n",
      "“possible convergence problem: optim gave code = 1”Warning message in arima(residuals, order = c(p[i], 0, q[j]), method = \"ML\"):\n",
      "“possible convergence problem: optim gave code = 1”Warning message in arima(residuals, order = c(porder, 0, qorder), method = \"ML\"):\n",
      "“possible convergence problem: optim gave code = 1”"
     ]
    }
   ],
   "source": [
    "lapply(residual_tmin, fit_func) %>% set_names(names(residual_tmin)) -> Tmin_residual_models\n",
    "lapply(residual_tmean, fit_func) %>% set_names(names(residual_tmean)) -> Tmean_residual_models\n",
    "lapply(residual_tmax, fit_func) %>% set_names(names(residual_tmean)) -> Tmax_residual_models\n"
   ]
  },
  {
   "cell_type": "markdown",
   "metadata": {},
   "source": [
    "\n",
    "\n"
   ]
  },
  {
   "cell_type": "code",
   "execution_count": 144,
   "metadata": {},
   "outputs": [
    {
     "name": "stderr",
     "output_type": "stream",
     "text": [
      "Warning message in arima(residuals, order = c(p[i], 0, q[j]), method = \"ML\"):\n",
      "“possible convergence problem: optim gave code = 1”Warning message in arima(residuals, order = c(p[i], 0, q[j]), method = \"ML\"):\n",
      "“possible convergence problem: optim gave code = 1”Warning message in arima(residuals, order = c(p[i], 0, q[j]), method = \"ML\"):\n",
      "“possible convergence problem: optim gave code = 1”Warning message in arima(residuals, order = c(p[i], 0, q[j]), method = \"ML\"):\n",
      "“possible convergence problem: optim gave code = 1”Warning message in log(s2):\n",
      "“NaNs produced”Warning message in log(s2):\n",
      "“NaNs produced”Warning message in log(s2):\n",
      "“NaNs produced”Warning message in log(s2):\n",
      "“NaNs produced”Warning message in log(s2):\n",
      "“NaNs produced”Warning message in arima(residuals, order = c(p[i], 0, q[j]), method = \"ML\"):\n",
      "“possible convergence problem: optim gave code = 1”Warning message in log(s2):\n",
      "“NaNs produced”Warning message in log(s2):\n",
      "“NaNs produced”Warning message in log(s2):\n",
      "“NaNs produced”Warning message in log(s2):\n",
      "“NaNs produced”Warning message in log(s2):\n",
      "“NaNs produced”Warning message in arima(residuals, order = c(p[i], 0, q[j]), method = \"ML\"):\n",
      "“possible convergence problem: optim gave code = 1”Warning message in arima(residuals, order = c(p[i], 0, q[j]), method = \"ML\"):\n",
      "“possible convergence problem: optim gave code = 1”Warning message in arima(residuals, order = c(p[i], 0, q[j]), method = \"ML\"):\n",
      "“possible convergence problem: optim gave code = 1”Warning message in arima(residuals, order = c(p[i], 0, q[j]), method = \"ML\"):\n",
      "“possible convergence problem: optim gave code = 1”Warning message in arima(residuals, order = c(p[i], 0, q[j]), method = \"ML\"):\n",
      "“possible convergence problem: optim gave code = 1”Warning message in arima(residuals, order = c(p[i], 0, q[j]), method = \"ML\"):\n",
      "“possible convergence problem: optim gave code = 1”Warning message in arima(residuals, order = c(p[i], 0, q[j]), method = \"ML\"):\n",
      "“possible convergence problem: optim gave code = 1”Warning message in arima(residuals, order = c(p[i], 0, q[j]), method = \"ML\"):\n",
      "“possible convergence problem: optim gave code = 1”Warning message in arima(residuals, order = c(p[i], 0, q[j]), method = \"ML\"):\n",
      "“possible convergence problem: optim gave code = 1”Warning message in arima(residuals, order = c(p[i], 0, q[j]), method = \"ML\"):\n",
      "“possible convergence problem: optim gave code = 1”Warning message in arima(residuals, order = c(p[i], 0, q[j]), method = \"ML\"):\n",
      "“possible convergence problem: optim gave code = 1”Warning message in arima(residuals, order = c(p[i], 0, q[j]), method = \"ML\"):\n",
      "“possible convergence problem: optim gave code = 1”Warning message in arima(residuals, order = c(p[i], 0, q[j]), method = \"ML\"):\n",
      "“possible convergence problem: optim gave code = 1”Warning message in arima(residuals, order = c(p[i], 0, q[j]), method = \"ML\"):\n",
      "“possible convergence problem: optim gave code = 1”Warning message in log(s2):\n",
      "“NaNs produced”Warning message in arima(residuals, order = c(p[i], 0, q[j]), method = \"ML\"):\n",
      "“possible convergence problem: optim gave code = 1”Warning message in arima(residuals, order = c(p[i], 0, q[j]), method = \"ML\"):\n",
      "“possible convergence problem: optim gave code = 1”Warning message in arima(residuals, order = c(p[i], 0, q[j]), method = \"ML\"):\n",
      "“possible convergence problem: optim gave code = 1”Warning message in arima(residuals, order = c(p[i], 0, q[j]), method = \"ML\"):\n",
      "“possible convergence problem: optim gave code = 1”Warning message in arima(residuals, order = c(p[i], 0, q[j]), method = \"ML\"):\n",
      "“possible convergence problem: optim gave code = 1”Warning message in arima(residuals, order = c(p[i], 0, q[j]), method = \"ML\"):\n",
      "“possible convergence problem: optim gave code = 1”Warning message in arima(residuals, order = c(p[i], 0, q[j]), method = \"ML\"):\n",
      "“possible convergence problem: optim gave code = 1”Warning message in arima(residuals, order = c(p[i], 0, q[j]), method = \"ML\"):\n",
      "“possible convergence problem: optim gave code = 1”Warning message in arima(residuals, order = c(p[i], 0, q[j]), method = \"ML\"):\n",
      "“possible convergence problem: optim gave code = 1”Warning message in arima(residuals, order = c(p[i], 0, q[j]), method = \"ML\"):\n",
      "“possible convergence problem: optim gave code = 1”Warning message in arima(residuals, order = c(p[i], 0, q[j]), method = \"ML\"):\n",
      "“possible convergence problem: optim gave code = 1”Warning message in arima(residuals, order = c(p[i], 0, q[j]), method = \"ML\"):\n",
      "“possible convergence problem: optim gave code = 1”Warning message in arima(residuals, order = c(p[i], 0, q[j]), method = \"ML\"):\n",
      "“possible convergence problem: optim gave code = 1”Warning message in arima(residuals, order = c(p[i], 0, q[j]), method = \"ML\"):\n",
      "“possible convergence problem: optim gave code = 1”Warning message in arima(residuals, order = c(p[i], 0, q[j]), method = \"ML\"):\n",
      "“possible convergence problem: optim gave code = 1”Warning message in arima(residuals, order = c(p[i], 0, q[j]), method = \"ML\"):\n",
      "“possible convergence problem: optim gave code = 1”Warning message in arima(residuals, order = c(p[i], 0, q[j]), method = \"ML\"):\n",
      "“possible convergence problem: optim gave code = 1”Warning message in arima(residuals, order = c(p[i], 0, q[j]), method = \"ML\"):\n",
      "“possible convergence problem: optim gave code = 1”Warning message in arima(residuals, order = c(p[i], 0, q[j]), method = \"ML\"):\n",
      "“possible convergence problem: optim gave code = 1”Warning message in arima(residuals, order = c(p[i], 0, q[j]), method = \"ML\"):\n",
      "“possible convergence problem: optim gave code = 1”Warning message in log(s2):\n",
      "“NaNs produced”Warning message in log(s2):\n",
      "“NaNs produced”Warning message in arima(residuals, order = c(p[i], 0, q[j]), method = \"ML\"):\n",
      "“possible convergence problem: optim gave code = 1”Warning message in arima(residuals, order = c(p[i], 0, q[j]), method = \"ML\"):\n",
      "“possible convergence problem: optim gave code = 1”"
     ]
    }
   ],
   "source": [
    "lapply(test_residual_tmin, fit_func) %>% set_names(names(test_residual_tmin)) -> Tmin_test_residuals\n",
    "lapply(test_residual_tmean, fit_func) %>% set_names(names(test_residual_tmean)) -> Tmean_test_residuals\n",
    "lapply(test_residual_tmax, fit_func) %>% set_names(names(test_residual_tmax)) -> Tmax_test_residuals\n"
   ]
  },
  {
   "cell_type": "markdown",
   "metadata": {},
   "source": [
    "### 5.3 Forecasting\n",
    "We will Forecast the average max, min and mean temperature for each month of 2020.\n",
    "We  have to forecast the trend, seasonal components and rthe residuals which would then be combined to give our actual forecasts. Earlier in this analysis we observed that our best model for harmonics were splitted into 5 different configurations, we will implement similar solution here creating 5 different functions based on the 5 configurations. The functions were applied to their respective group of time series data and this gave us the final predictions for our models.\n"
   ]
  },
  {
   "cell_type": "code",
   "execution_count": 145,
   "metadata": {},
   "outputs": [],
   "source": [
    "predict_har2 <- function(residuals.model, final_model, poly_order) {\n",
    "  ahead <- 12\n",
    "  \n",
    "  pred.res <- predict(residuals.model, n.ahead = ahead)$pred\n",
    "  \n",
    "  \n",
    "  TIME.NEW <- seq(from = 2020,\n",
    "                  by = 1 / 12,\n",
    "                  length = ahead)\n",
    "  SIN.NEW <- COS.NEW <- matrix(nrow = length(TIME.NEW), ncol = 6)\n",
    "  \n",
    "  for (i in 1:6) {\n",
    "    SIN.NEW[, i] <- sin(2 * pi * i * TIME.NEW)\n",
    "    COS.NEW[, i] <- cos(2 * pi * i * TIME.NEW)\n",
    "  }\n",
    "  pred_combined <-\n",
    "    predict(final_model,\n",
    "            newdata = data.frame(\n",
    "              TIME = poly(TIME.NEW, degree = poly_order, raw = TRUE),\n",
    "              SIN = SIN.NEW[, c(1, 2)],\n",
    "              COS = COS.NEW[, c(1, 2)]\n",
    "            ))\n",
    "  \n",
    "  \n",
    "  love <- pred.res +pred_combined\n",
    "  return(love)\n",
    "}\n"
   ]
  },
  {
   "cell_type": "markdown",
   "metadata": {},
   "source": [
    "\n",
    "\n"
   ]
  },
  {
   "cell_type": "code",
   "execution_count": 146,
   "metadata": {},
   "outputs": [],
   "source": [
    "predict_har3_A <-\n",
    "  function(residuals.model, final_model, poly_order) {\n",
    "    ahead <- 12\n",
    "    \n",
    "    pred.res <- predict(residuals.model, n.ahead = ahead)$pred\n",
    "    \n",
    "    \n",
    "    TIME.NEW <- seq(from = 2020,\n",
    "                    by = 1 / 12,\n",
    "                    length = ahead)\n",
    "    SIN.NEW <- COS.NEW <- matrix(nrow = length(TIME.NEW), ncol = 6)\n",
    "    \n",
    "    for (i in 1:6) {\n",
    "      SIN.NEW[, i] <- sin(2 * pi * i * TIME.NEW)\n",
    "      COS.NEW[, i] <- cos(2 * pi * i * TIME.NEW)\n",
    "    }\n",
    "    pred_combined <-\n",
    "      predict(final_model,\n",
    "              newdata = data.frame(\n",
    "                TIME = poly(TIME.NEW, degree = poly_order, raw = TRUE),\n",
    "                #This is timeseries and param specific\n",
    "                SIN = SIN.NEW[, c(1, 2)],\n",
    "                COS = COS.NEW[, c(1, 2, 3)]\n",
    "              ))\n",
    "    love <- pred.res +pred_combined\n",
    "    return(love)\n",
    "  }\n"
   ]
  },
  {
   "cell_type": "markdown",
   "metadata": {},
   "source": [
    "\n"
   ]
  },
  {
   "cell_type": "code",
   "execution_count": 147,
   "metadata": {},
   "outputs": [],
   "source": [
    "predict_har3_B <- function(residuals.model, final_model, poly_order) {\n",
    "  ahead <- 12\n",
    "  \n",
    "  pred.res <- predict(residuals.model, n.ahead = ahead)$pred\n",
    "  \n",
    "  \n",
    "  TIME.NEW <- seq(from = 2020,\n",
    "                  by = 1 / 12,\n",
    "                  length = ahead)\n",
    "  SIN.NEW <- COS.NEW <- matrix(nrow = length(TIME.NEW), ncol = 6)\n",
    "  \n",
    "  for (i in 1:6) {\n",
    "    SIN.NEW[, i] <- sin(2 * pi * i * TIME.NEW)\n",
    "    COS.NEW[, i] <- cos(2 * pi * i * TIME.NEW)\n",
    "  }\n",
    "  pred_combined <-\n",
    "    predict(final_model,\n",
    "            newdata = data.frame(\n",
    "              TIME = poly(TIME.NEW, degree = poly_order, raw = TRUE),\n",
    "              #This is timeseries and param specific\n",
    "              SIN = SIN.NEW[, c(1, 2)],\n",
    "              COS = COS.NEW[, c(1, 2, 4)]\n",
    "            ))\n",
    "   love <- pred_combined +pred.res\n",
    "  return(love)\n",
    "}\n"
   ]
  },
  {
   "cell_type": "markdown",
   "metadata": {},
   "source": [
    "\n",
    "\n"
   ]
  },
  {
   "cell_type": "code",
   "execution_count": 148,
   "metadata": {},
   "outputs": [],
   "source": [
    "predict_har3_C <- function(residuals.model, final_model, poly_order) {\n",
    "  ahead <- 12\n",
    "  \n",
    "  pred.res <- predict(residuals.model, n.ahead = ahead)$pred\n",
    "  \n",
    "  \n",
    "  TIME.NEW <- seq(from = 2020,\n",
    "                  by = 1 / 12,\n",
    "                  length = ahead)\n",
    "  SIN.NEW <- COS.NEW <- matrix(nrow = length(TIME.NEW), ncol = 6)\n",
    "  \n",
    "  for (i in 1:6) {\n",
    "    SIN.NEW[, i] <- sin(2 * pi * i * TIME.NEW)\n",
    "    COS.NEW[, i] <- cos(2 * pi * i * TIME.NEW)\n",
    "  }\n",
    "  pred_combined <-\n",
    "    predict(final_model,\n",
    "            newdata = data.frame(\n",
    "              TIME = poly(TIME.NEW, degree = poly_order, raw = TRUE),\n",
    "              #This is timeseries and param specific\n",
    "              SIN = SIN.NEW[, c(1, 2, 5)],\n",
    "              COS = COS.NEW[, c(1, 2)]\n",
    "            ))\n",
    "      love <- pred_combined +pred.res\n",
    "  \n",
    "  return(love)\n",
    "}\n"
   ]
  },
  {
   "cell_type": "markdown",
   "metadata": {},
   "source": [
    "\n",
    "\n"
   ]
  },
  {
   "cell_type": "code",
   "execution_count": 149,
   "metadata": {},
   "outputs": [],
   "source": [
    "predict_har4 <- function(residuals.model, final_model, poly_order) {\n",
    "  ahead <- 12\n",
    "  \n",
    "  pred.res <- predict(residuals.model, n.ahead = ahead)$pred\n",
    "  \n",
    "  \n",
    "  TIME.NEW <- seq(from = 2020,\n",
    "                  by = 1 / 12,\n",
    "                  length = ahead)\n",
    "  SIN.NEW <- COS.NEW <- matrix(nrow = length(TIME.NEW), ncol = 6)\n",
    "  \n",
    "  for (i in 1:6) {\n",
    "    SIN.NEW[, i] <- sin(2 * pi * i * TIME.NEW)\n",
    "    COS.NEW[, i] <- cos(2 * pi * i * TIME.NEW)\n",
    "  }\n",
    "  pred_combined <-\n",
    "    predict(final_model,\n",
    "            newdata = data.frame(\n",
    "              TIME = poly(TIME.NEW, degree = poly_order, raw = TRUE),\n",
    "              #This is timeseries and param specific\n",
    "              SIN = SIN.NEW[, c(1, 2, 4)],\n",
    "              COS = COS.NEW[, c(1, 2, 3)]\n",
    "            ))\n",
    "  \n",
    "    love <- pred_combined +pred.res\n",
    "  return(love)\n",
    "  \n",
    "  #plot(time.all,Tmin_2019$Northern_Ireland,type = 'l',xlim = c(2000, 2021))\n",
    "  #lines(TIME.NEW,pred + pred.res,col = 'red',lwd = 2)\n",
    "}\n"
   ]
  },
  {
   "cell_type": "markdown",
   "metadata": {},
   "source": [
    "\n",
    "\n"
   ]
  },
  {
   "cell_type": "code",
   "execution_count": 150,
   "metadata": {},
   "outputs": [],
   "source": [
    "predict_test <- function(residuals.model, final_model) {\n",
    "  ahead <- 12\n",
    "  \n",
    "  pred.res <- predict(residuals.model, n.ahead = ahead)$pred\n",
    "  \n",
    "  \n",
    "  TIME.NEW <- seq(from = 2020,\n",
    "                  by = 1 / 12,\n",
    "                  length = ahead)\n",
    "  SIN.NEW <- COS.NEW <- matrix(nrow = length(TIME.NEW), ncol = 6)\n",
    "  \n",
    "  for (i in 1:6) {\n",
    "    SIN.NEW[, i] <- sin(2 * pi * i * TIME.NEW)\n",
    "    COS.NEW[, i] <- cos(2 * pi * i * TIME.NEW)\n",
    "  }\n",
    "  pred_combined <-\n",
    "    predict(final_model,\n",
    "            newdata = data.frame(\n",
    "              TIME = poly(TIME.NEW, degree = 2, raw = TRUE),\n",
    "              #This is timeseries and param specific\n",
    "              SIN = SIN.NEW[, c(1, 2)],\n",
    "              COS = COS.NEW[, c(1, 2)]\n",
    "            ))\n",
    "  \n",
    "  love <- pred_combined +pred.res\n",
    "  return(love)\n",
    "  \n",
    "  #plot(time.all,Tmin_2019$Northern_Ireland,type = 'l',xlim = c(2000, 2021))\n",
    "  #lines(TIME.NEW,pred + pred.res,col = 'red',lwd = 2)\n",
    "}\n"
   ]
  },
  {
   "cell_type": "markdown",
   "metadata": {},
   "source": [
    "\n",
    "-TMIN MODELS\n"
   ]
  },
  {
   "cell_type": "code",
   "execution_count": 151,
   "metadata": {},
   "outputs": [
    {
     "data": {
      "text/html": [
       "10"
      ],
      "text/latex": [
       "10"
      ],
      "text/markdown": [
       "10"
      ],
      "text/plain": [
       "[1] 10"
      ]
     },
     "metadata": {},
     "output_type": "display_data"
    }
   ],
   "source": [
    "Tmin_har2_residuals <-\n",
    "  Tmin_residual_models[names(best_model_TMIN[-c(3, 9)])]\n",
    "Tmin_har2_model <- Tmin_final_model[names(best_model_TMIN[-c(3, 9)])]\n",
    "mapply(predict_har2,\n",
    "       Tmin_har2_residuals,\n",
    "       Tmin_har2_model,\n",
    "       1,\n",
    "       SIMPLIFY = FALSE) -> final_predict_Tmin_har2\n",
    "\n",
    "\n",
    "#####################################################################\n",
    "Tmin_har3_B_residuals <-\n",
    "  Tmin_residual_models[names(best_model_TMIN[c(3)])]\n",
    "Tmin_har3_B_model <- Tmin_final_model[names(best_model_TMIN[c(3)])]\n",
    "mapply(predict_har3_B,\n",
    "       Tmin_har3_B_residuals,\n",
    "       Tmin_har3_B_model,\n",
    "       1,\n",
    "       SIMPLIFY = FALSE) -> final_predict_Tmin_har3_B\n",
    "\n",
    "\n",
    "#####################################################################\n",
    "Tmin_har3_C_residuals <-\n",
    "  Tmin_residual_models[names(best_model_TMIN[c(9)])]\n",
    "Tmin_har3_C_model <- Tmin_final_model[names(best_model_TMIN[c(9)])]\n",
    "mapply(predict_har3_C,\n",
    "       Tmin_har3_C_residuals,\n",
    "       Tmin_har3_C_model,\n",
    "       1,\n",
    "       SIMPLIFY = FALSE) -> final_predict_Tmin_har3_C\n",
    "\n",
    "\n",
    "#######################COMBINE ALL TMIN##############################################\n",
    "\n",
    "do.call(\n",
    "  c,\n",
    "  list(\n",
    "    final_predict_Tmin_har2,\n",
    "    final_predict_Tmin_har3_B,\n",
    "    final_predict_Tmin_har3_C\n",
    "  )\n",
    ") -> Tmin_final_predictions\n",
    "# prediction validation check\n",
    "length(names(Tmin_final_predictions))\n"
   ]
  },
  {
   "cell_type": "markdown",
   "metadata": {},
   "source": [
    "\n",
    "-TMEAN MODELS\n"
   ]
  },
  {
   "cell_type": "code",
   "execution_count": 152,
   "metadata": {},
   "outputs": [
    {
     "data": {
      "text/html": [
       "10"
      ],
      "text/latex": [
       "10"
      ],
      "text/markdown": [
       "10"
      ],
      "text/plain": [
       "[1] 10"
      ]
     },
     "metadata": {},
     "output_type": "display_data"
    }
   ],
   "source": [
    "Tmean_har2_residuals <-\n",
    "  Tmean_residual_models[names(best_model_TMean[-c(4)])]\n",
    "Tmean_har2_model <-\n",
    "  Tmean_final_model[names(best_model_TMean[-c(4)])]\n",
    "mapply(predict_har2,\n",
    "       Tmean_har2_residuals,\n",
    "       Tmean_har2_model,\n",
    "       1,\n",
    "       SIMPLIFY = FALSE) -> final_predict_Tmean_har2\n",
    "#####################################################################\n",
    "Tmean_har3_A_residuals <-\n",
    "  Tmean_residual_models[names(best_model_TMIN[c(4)])]\n",
    "Tmean_har3_A_model <-\n",
    "  Tmean_final_model[names(best_model_TMIN[c(4)])]\n",
    "mapply(predict_har3_A,\n",
    "       Tmean_har3_A_residuals,\n",
    "       Tmean_har3_A_model,\n",
    "       1,\n",
    "       SIMPLIFY = FALSE) -> final_predict_Tmean_har3_A\n",
    "#######################COMBINE ALL TMEAN##############################################\n",
    "\n",
    "do.call(c,\n",
    "        list(final_predict_Tmean_har2, final_predict_Tmean_har3_A)) -> Tmean_final_predictions\n",
    "# prediction validation check\n",
    "length(names(Tmean_final_predictions))\n"
   ]
  },
  {
   "cell_type": "markdown",
   "metadata": {},
   "source": [
    "\n",
    "-TMAX MODELS\n"
   ]
  },
  {
   "cell_type": "code",
   "execution_count": 153,
   "metadata": {},
   "outputs": [
    {
     "data": {
      "text/html": [
       "10"
      ],
      "text/latex": [
       "10"
      ],
      "text/markdown": [
       "10"
      ],
      "text/plain": [
       "[1] 10"
      ]
     },
     "metadata": {},
     "output_type": "display_data"
    }
   ],
   "source": [
    "Tmax_har3_A_residuals_ln <-\n",
    "  Tmax_residual_models[names(best_model_TMax_ln[1:5])]\n",
    "Tmax_har3_A_model_ln <-\n",
    "  Tmax_final_model[names(best_model_TMax_ln[1:5])]\n",
    "mapply(predict_har3_A,\n",
    "       Tmax_har3_A_residuals_ln,\n",
    "       Tmax_har3_A_model_ln,\n",
    "       1,\n",
    "       SIMPLIFY = FALSE) -> final_predict_Tmax_ln_har3_A\n",
    "#####################################################################\n",
    "Tmax_har2_residuals_ln <-\n",
    "  Tmax_residual_models[names(best_model_TMax_ln[c(6, 8)])]\n",
    "Tmax_har2_model_ln <-\n",
    "  Tmax_final_model[names(best_model_TMax_ln[c(6, 8)])]\n",
    "mapply(predict_har2,\n",
    "       Tmax_har2_residuals_ln,\n",
    "       Tmax_har2_model_ln,\n",
    "       1,\n",
    "       SIMPLIFY = FALSE) -> final_predict_Tmax_ln_har2\n",
    "#####################################################################\n",
    "\n",
    "Tmax_har4_residuals_ln <-\n",
    "  Tmax_residual_models[names(best_model_TMax_ln[c(7)])]\n",
    "Tmax_har4_model_ln <-\n",
    "  Tmax_final_model[names(best_model_TMax_ln[c(7)])]\n",
    "mapply(predict_har4,\n",
    "       Tmax_har4_residuals_ln,\n",
    "       Tmax_har4_model_ln,\n",
    "       1,\n",
    "       SIMPLIFY = FALSE) -> final_predict_Tmax_ln_har4\n",
    "#####################################################################\n",
    "\n",
    "Tmax_har2_residuals_cb <-\n",
    "  Tmax_residual_models[names(best_model_TMax_cubic)]\n",
    "Tmax_har2_model_cb <- Tmax_final_model[names(best_model_TMax_cubic)]\n",
    "\n",
    "mapply(predict_har2,\n",
    "       Tmax_har2_residuals_cb,\n",
    "       Tmax_har2_model_cb,\n",
    "       3,\n",
    "       SIMPLIFY = FALSE) -> final_predict_Tmax_cb_har2\n",
    "\n",
    "#######################COMBINE ALL TMAX##############################################\n",
    "\n",
    "do.call(\n",
    "  c,\n",
    "  list(\n",
    "    final_predict_Tmax_ln_har3_A,\n",
    "    final_predict_Tmax_ln_har2,\n",
    "    final_predict_Tmax_ln_har4,\n",
    "    final_predict_Tmax_cb_har2\n",
    "  )\n",
    ") -> Tmax_final_predictions\n",
    "# prediction validation check\n",
    "length(names(Tmax_final_predictions))\n"
   ]
  },
  {
   "cell_type": "markdown",
   "metadata": {},
   "source": [
    "\n",
    "\n"
   ]
  },
  {
   "cell_type": "code",
   "execution_count": 154,
   "metadata": {},
   "outputs": [],
   "source": [
    "mapply(predict_test,\n",
    "       Tmin_test_residuals,\n",
    "       Tmin_test_model[sorted_district],\n",
    "       SIMPLIFY = FALSE) -> Tmin_test_pred\n",
    "mapply(predict_test,\n",
    "       Tmean_test_residuals,\n",
    "       Tmean_test_model[sorted_district],\n",
    "       SIMPLIFY = FALSE) -> Tmean_test_pred\n",
    "mapply(predict_test,\n",
    "       Tmax_test_residuals,\n",
    "       Tmax_test_model[sorted_district],\n",
    "       SIMPLIFY = FALSE) -> Tmax_test_pred\n"
   ]
  },
  {
   "cell_type": "markdown",
   "metadata": {},
   "source": [
    "### 5.4 Model Comparison\n",
    "We will be evaluating the accuracy of our predictions using the accuracy function of the forecast library, we used the subsetted time series of 2020 data for all our time series as the actual while outcome of our predictions for 2020 as the predicted. We are going to observe our models performance with unseen data not used when fitting the model. The mapply function was used to apply the model_accuracy function across all our different time series predictions for best test and final. \n"
   ]
  },
  {
   "cell_type": "code",
   "execution_count": 155,
   "metadata": {},
   "outputs": [],
   "source": [
    "model_accuracy <- function(y.pred, y.ts) {\n",
    "  y.actual <- window(y.ts, start = 2020)\n",
    "  accuracy(y.pred, y.actual)\n",
    "}\n"
   ]
  },
  {
   "cell_type": "markdown",
   "metadata": {},
   "source": [
    "\n",
    "\n"
   ]
  },
  {
   "cell_type": "code",
   "execution_count": 156,
   "metadata": {},
   "outputs": [],
   "source": [
    "mapply(model_accuracy, Tmin_final_predictions[sorted_district], Tmin[sorted_district], SIMPLIFY = FALSE) -> Tmin_accuracy\n",
    "mapply(model_accuracy, Tmean_final_predictions[sorted_district], Tmean[sorted_district], SIMPLIFY = FALSE) -> Tmean_accuracy\n",
    "mapply(model_accuracy, Tmax_final_predictions[sorted_district], Tmax[sorted_district], SIMPLIFY = FALSE) -> Tmax_accuracy\n"
   ]
  },
  {
   "cell_type": "markdown",
   "metadata": {},
   "source": [
    "\n",
    "\n"
   ]
  },
  {
   "cell_type": "code",
   "execution_count": 157,
   "metadata": {},
   "outputs": [],
   "source": [
    "mapply(model_accuracy, Tmin_test_pred[sorted_district], Tmin[sorted_district], SIMPLIFY = FALSE) -> Tmin_accuracy_test\n",
    "mapply(model_accuracy, Tmean_test_pred[sorted_district], Tmean[sorted_district], SIMPLIFY = FALSE) -> Tmean_accuracy_test\n",
    "mapply(model_accuracy, Tmax_test_pred[sorted_district], Tmax[sorted_district], SIMPLIFY = FALSE) -> Tmax_accuracy_test\n"
   ]
  },
  {
   "cell_type": "markdown",
   "metadata": {},
   "source": [
    "\n",
    "\n"
   ]
  },
  {
   "cell_type": "code",
   "execution_count": 158,
   "metadata": {},
   "outputs": [],
   "source": [
    "get_rmse<-function(x,y){\n",
    "  y[[x]][2]-> a\n",
    "  \n",
    "  return(a)\n",
    "}\n"
   ]
  },
  {
   "cell_type": "markdown",
   "metadata": {},
   "source": [
    "\n",
    "\n"
   ]
  },
  {
   "cell_type": "code",
   "execution_count": 159,
   "metadata": {},
   "outputs": [],
   "source": [
    "#function to get rmse of all time series \n",
    "get_all_rmse <- function(Tmin,Tmean,Tmax){\n",
    "  \n",
    "  lapply(names(Tmin), get_rmse,y=Tmin) %>%  set_names(names(Tmin)) %>% as.data.frame() %>% t() %>% as.data.frame() %>% set_names(\"Tmin_rmse\") -> Tmin_rmse\n",
    "lapply(names(Tmean), get_rmse,y=Tmean) %>%  set_names(names(Tmean)) %>% as.data.frame() %>% t() %>% as.data.frame() %>% set_names(\"Tmean_rmse\") -> Tmean_rmse\n",
    "lapply(names(Tmax), get_rmse,y=Tmax) %>%  set_names(names(Tmax)) %>% as.data.frame() %>% t() %>% as.data.frame() %>% set_names(\"Tmax_rmse\") -> Tmax_rmse\n",
    "\n",
    "return(cbind(Tmin_rmse,Tmean_rmse,Tmax_rmse))\n",
    "  \n",
    "}\n"
   ]
  },
  {
   "cell_type": "markdown",
   "metadata": {},
   "source": [
    "\n",
    "We observe the rmse for our models below, we can see the rmse for both the test model and final model, we observed that for some regions the test model performed better than the final model according to the rmse figures in the tables below.\n"
   ]
  },
  {
   "cell_type": "code",
   "execution_count": 160,
   "metadata": {},
   "outputs": [
    {
     "data": {
      "text/html": [
       "<table>\n",
       "<thead><tr><th></th><th scope=col>Tmin_rmse</th><th scope=col>Tmean_rmse</th><th scope=col>Tmax_rmse</th></tr></thead>\n",
       "<tbody>\n",
       "\t<tr><th scope=row>East_Anglia</th><td>1.0002034</td><td>1.0363898</td><td>1.1488440</td></tr>\n",
       "\t<tr><th scope=row>England_E_and_NE</th><td>0.7964327</td><td>0.8998470</td><td>1.1427031</td></tr>\n",
       "\t<tr><th scope=row>England_NW_and_N_Wales</th><td>0.8562763</td><td>0.9591703</td><td>1.2955365</td></tr>\n",
       "\t<tr><th scope=row>England_SE_and_Central_S</th><td>1.0749475</td><td>1.0605548</td><td>1.3229770</td></tr>\n",
       "\t<tr><th scope=row>England_SW_and_S_Wales</th><td>0.9053221</td><td>1.0208573</td><td>1.4465960</td></tr>\n",
       "\t<tr><th scope=row>Midlands</th><td>0.9262321</td><td>1.0160080</td><td>1.3491253</td></tr>\n",
       "\t<tr><th scope=row>Northern_Ireland</th><td>0.5033385</td><td>0.6870428</td><td>0.9499840</td></tr>\n",
       "\t<tr><th scope=row>Scotland_E</th><td>0.7988049</td><td>0.8474015</td><td>1.0900396</td></tr>\n",
       "\t<tr><th scope=row>Scotland_N</th><td>0.7745983</td><td>0.8468401</td><td>0.9261461</td></tr>\n",
       "\t<tr><th scope=row>Scotland_W</th><td>0.8350950</td><td>0.8447642</td><td>0.9737640</td></tr>\n",
       "</tbody>\n",
       "</table>\n"
      ],
      "text/latex": [
       "\\begin{tabular}{r|lll}\n",
       "  & Tmin\\_rmse & Tmean\\_rmse & Tmax\\_rmse\\\\\n",
       "\\hline\n",
       "\tEast\\_Anglia & 1.0002034 & 1.0363898 & 1.1488440\\\\\n",
       "\tEngland\\_E\\_and\\_NE & 0.7964327 & 0.8998470 & 1.1427031\\\\\n",
       "\tEngland\\_NW\\_and\\_N\\_Wales & 0.8562763 & 0.9591703 & 1.2955365\\\\\n",
       "\tEngland\\_SE\\_and\\_Central\\_S & 1.0749475 & 1.0605548 & 1.3229770\\\\\n",
       "\tEngland\\_SW\\_and\\_S\\_Wales & 0.9053221 & 1.0208573 & 1.4465960\\\\\n",
       "\tMidlands & 0.9262321 & 1.0160080 & 1.3491253\\\\\n",
       "\tNorthern\\_Ireland & 0.5033385 & 0.6870428 & 0.9499840\\\\\n",
       "\tScotland\\_E & 0.7988049 & 0.8474015 & 1.0900396\\\\\n",
       "\tScotland\\_N & 0.7745983 & 0.8468401 & 0.9261461\\\\\n",
       "\tScotland\\_W & 0.8350950 & 0.8447642 & 0.9737640\\\\\n",
       "\\end{tabular}\n"
      ],
      "text/markdown": [
       "\n",
       "| <!--/--> | Tmin_rmse | Tmean_rmse | Tmax_rmse |\n",
       "|---|---|---|---|\n",
       "| East_Anglia | 1.0002034 | 1.0363898 | 1.1488440 |\n",
       "| England_E_and_NE | 0.7964327 | 0.8998470 | 1.1427031 |\n",
       "| England_NW_and_N_Wales | 0.8562763 | 0.9591703 | 1.2955365 |\n",
       "| England_SE_and_Central_S | 1.0749475 | 1.0605548 | 1.3229770 |\n",
       "| England_SW_and_S_Wales | 0.9053221 | 1.0208573 | 1.4465960 |\n",
       "| Midlands | 0.9262321 | 1.0160080 | 1.3491253 |\n",
       "| Northern_Ireland | 0.5033385 | 0.6870428 | 0.9499840 |\n",
       "| Scotland_E | 0.7988049 | 0.8474015 | 1.0900396 |\n",
       "| Scotland_N | 0.7745983 | 0.8468401 | 0.9261461 |\n",
       "| Scotland_W | 0.8350950 | 0.8447642 | 0.9737640 |\n",
       "\n"
      ],
      "text/plain": [
       "                         Tmin_rmse Tmean_rmse Tmax_rmse\n",
       "East_Anglia              1.0002034 1.0363898  1.1488440\n",
       "England_E_and_NE         0.7964327 0.8998470  1.1427031\n",
       "England_NW_and_N_Wales   0.8562763 0.9591703  1.2955365\n",
       "England_SE_and_Central_S 1.0749475 1.0605548  1.3229770\n",
       "England_SW_and_S_Wales   0.9053221 1.0208573  1.4465960\n",
       "Midlands                 0.9262321 1.0160080  1.3491253\n",
       "Northern_Ireland         0.5033385 0.6870428  0.9499840\n",
       "Scotland_E               0.7988049 0.8474015  1.0900396\n",
       "Scotland_N               0.7745983 0.8468401  0.9261461\n",
       "Scotland_W               0.8350950 0.8447642  0.9737640"
      ]
     },
     "metadata": {},
     "output_type": "display_data"
    }
   ],
   "source": [
    "get_all_rmse(Tmin_accuracy,Tmean_accuracy,Tmax_accuracy) \n",
    "\n"
   ]
  },
  {
   "cell_type": "markdown",
   "metadata": {},
   "source": [
    "\n",
    "\n"
   ]
  },
  {
   "cell_type": "code",
   "execution_count": 161,
   "metadata": {},
   "outputs": [
    {
     "data": {
      "text/html": [
       "<table>\n",
       "<thead><tr><th></th><th scope=col>Tmin_rmse</th><th scope=col>Tmean_rmse</th><th scope=col>Tmax_rmse</th></tr></thead>\n",
       "<tbody>\n",
       "\t<tr><th scope=row>East_Anglia</th><td>0.9944548</td><td>1.0069552</td><td>1.2934512</td></tr>\n",
       "\t<tr><th scope=row>England_E_and_NE</th><td>0.7829253</td><td>0.8847524</td><td>1.1661412</td></tr>\n",
       "\t<tr><th scope=row>England_NW_and_N_Wales</th><td>0.8374879</td><td>0.9263122</td><td>1.2712764</td></tr>\n",
       "\t<tr><th scope=row>England_SE_and_Central_S</th><td>1.0241301</td><td>1.0038297</td><td>1.2998486</td></tr>\n",
       "\t<tr><th scope=row>England_SW_and_S_Wales</th><td>0.8220529</td><td>0.9289865</td><td>1.3193158</td></tr>\n",
       "\t<tr><th scope=row>Midlands</th><td>0.8844946</td><td>0.9672133</td><td>1.3483719</td></tr>\n",
       "\t<tr><th scope=row>Northern_Ireland</th><td>0.5079942</td><td>0.6624259</td><td>0.9705949</td></tr>\n",
       "\t<tr><th scope=row>Scotland_E</th><td>0.7824960</td><td>0.8116740</td><td>1.0640878</td></tr>\n",
       "\t<tr><th scope=row>Scotland_N</th><td>0.7825346</td><td>0.8551066</td><td>0.9820439</td></tr>\n",
       "\t<tr><th scope=row>Scotland_W</th><td>0.8014876</td><td>0.8230416</td><td>1.0195296</td></tr>\n",
       "</tbody>\n",
       "</table>\n"
      ],
      "text/latex": [
       "\\begin{tabular}{r|lll}\n",
       "  & Tmin\\_rmse & Tmean\\_rmse & Tmax\\_rmse\\\\\n",
       "\\hline\n",
       "\tEast\\_Anglia & 0.9944548 & 1.0069552 & 1.2934512\\\\\n",
       "\tEngland\\_E\\_and\\_NE & 0.7829253 & 0.8847524 & 1.1661412\\\\\n",
       "\tEngland\\_NW\\_and\\_N\\_Wales & 0.8374879 & 0.9263122 & 1.2712764\\\\\n",
       "\tEngland\\_SE\\_and\\_Central\\_S & 1.0241301 & 1.0038297 & 1.2998486\\\\\n",
       "\tEngland\\_SW\\_and\\_S\\_Wales & 0.8220529 & 0.9289865 & 1.3193158\\\\\n",
       "\tMidlands & 0.8844946 & 0.9672133 & 1.3483719\\\\\n",
       "\tNorthern\\_Ireland & 0.5079942 & 0.6624259 & 0.9705949\\\\\n",
       "\tScotland\\_E & 0.7824960 & 0.8116740 & 1.0640878\\\\\n",
       "\tScotland\\_N & 0.7825346 & 0.8551066 & 0.9820439\\\\\n",
       "\tScotland\\_W & 0.8014876 & 0.8230416 & 1.0195296\\\\\n",
       "\\end{tabular}\n"
      ],
      "text/markdown": [
       "\n",
       "| <!--/--> | Tmin_rmse | Tmean_rmse | Tmax_rmse |\n",
       "|---|---|---|---|\n",
       "| East_Anglia | 0.9944548 | 1.0069552 | 1.2934512 |\n",
       "| England_E_and_NE | 0.7829253 | 0.8847524 | 1.1661412 |\n",
       "| England_NW_and_N_Wales | 0.8374879 | 0.9263122 | 1.2712764 |\n",
       "| England_SE_and_Central_S | 1.0241301 | 1.0038297 | 1.2998486 |\n",
       "| England_SW_and_S_Wales | 0.8220529 | 0.9289865 | 1.3193158 |\n",
       "| Midlands | 0.8844946 | 0.9672133 | 1.3483719 |\n",
       "| Northern_Ireland | 0.5079942 | 0.6624259 | 0.9705949 |\n",
       "| Scotland_E | 0.7824960 | 0.8116740 | 1.0640878 |\n",
       "| Scotland_N | 0.7825346 | 0.8551066 | 0.9820439 |\n",
       "| Scotland_W | 0.8014876 | 0.8230416 | 1.0195296 |\n",
       "\n"
      ],
      "text/plain": [
       "                         Tmin_rmse Tmean_rmse Tmax_rmse\n",
       "East_Anglia              0.9944548 1.0069552  1.2934512\n",
       "England_E_and_NE         0.7829253 0.8847524  1.1661412\n",
       "England_NW_and_N_Wales   0.8374879 0.9263122  1.2712764\n",
       "England_SE_and_Central_S 1.0241301 1.0038297  1.2998486\n",
       "England_SW_and_S_Wales   0.8220529 0.9289865  1.3193158\n",
       "Midlands                 0.8844946 0.9672133  1.3483719\n",
       "Northern_Ireland         0.5079942 0.6624259  0.9705949\n",
       "Scotland_E               0.7824960 0.8116740  1.0640878\n",
       "Scotland_N               0.7825346 0.8551066  0.9820439\n",
       "Scotland_W               0.8014876 0.8230416  1.0195296"
      ]
     },
     "metadata": {},
     "output_type": "display_data"
    }
   ],
   "source": [
    "get_all_rmse(Tmin_accuracy_test,Tmean_accuracy_test,Tmax_accuracy_test) \n",
    "\n"
   ]
  },
  {
   "cell_type": "markdown",
   "metadata": {},
   "source": [
    "We focused our analysis on the values from the test model predictions, final model predictions and the actual predictions for the South wales and North wales region, a plot was implemented and we observe that the plots are similar for the three different variables for north and south wales.\n",
    "\n"
   ]
  },
  {
   "cell_type": "code",
   "execution_count": 162,
   "metadata": {},
   "outputs": [
    {
     "data": {
      "text/html": [
       "<table>\n",
       "<thead><tr><th scope=col>test_predictions</th><th scope=col>final_predictions</th><th scope=col>Actual</th></tr></thead>\n",
       "<tbody>\n",
       "\t<tr><td> 1.546022</td><td> 1.498202</td><td> 3.2     </td></tr>\n",
       "\t<tr><td> 1.482831</td><td> 1.421041</td><td> 2.6     </td></tr>\n",
       "\t<tr><td> 2.253287</td><td> 2.188632</td><td> 2.0     </td></tr>\n",
       "\t<tr><td> 3.989125</td><td> 3.924796</td><td> 4.4     </td></tr>\n",
       "\t<tr><td> 6.618600</td><td> 6.555436</td><td> 6.1     </td></tr>\n",
       "\t<tr><td> 9.447580</td><td> 9.385767</td><td>10.2     </td></tr>\n",
       "\t<tr><td>11.325859</td><td>11.265436</td><td>10.8     </td></tr>\n",
       "\t<tr><td>11.345547</td><td>11.286541</td><td>12.2     </td></tr>\n",
       "\t<tr><td> 9.488429</td><td> 9.430868</td><td> 8.5     </td></tr>\n",
       "\t<tr><td> 6.643573</td><td> 6.587458</td><td> 6.5     </td></tr>\n",
       "\t<tr><td> 3.977499</td><td> 3.922791</td><td> 5.1     </td></tr>\n",
       "\t<tr><td> 2.217229</td><td> 2.163872</td><td> 1.9     </td></tr>\n",
       "</tbody>\n",
       "</table>\n"
      ],
      "text/latex": [
       "\\begin{tabular}{r|lll}\n",
       " test\\_predictions & final\\_predictions & Actual\\\\\n",
       "\\hline\n",
       "\t  1.546022 &  1.498202 &  3.2     \\\\\n",
       "\t  1.482831 &  1.421041 &  2.6     \\\\\n",
       "\t  2.253287 &  2.188632 &  2.0     \\\\\n",
       "\t  3.989125 &  3.924796 &  4.4     \\\\\n",
       "\t  6.618600 &  6.555436 &  6.1     \\\\\n",
       "\t  9.447580 &  9.385767 & 10.2     \\\\\n",
       "\t 11.325859 & 11.265436 & 10.8     \\\\\n",
       "\t 11.345547 & 11.286541 & 12.2     \\\\\n",
       "\t  9.488429 &  9.430868 &  8.5     \\\\\n",
       "\t  6.643573 &  6.587458 &  6.5     \\\\\n",
       "\t  3.977499 &  3.922791 &  5.1     \\\\\n",
       "\t  2.217229 &  2.163872 &  1.9     \\\\\n",
       "\\end{tabular}\n"
      ],
      "text/markdown": [
       "\n",
       "| test_predictions | final_predictions | Actual |\n",
       "|---|---|---|\n",
       "|  1.546022 |  1.498202 |  3.2      |\n",
       "|  1.482831 |  1.421041 |  2.6      |\n",
       "|  2.253287 |  2.188632 |  2.0      |\n",
       "|  3.989125 |  3.924796 |  4.4      |\n",
       "|  6.618600 |  6.555436 |  6.1      |\n",
       "|  9.447580 |  9.385767 | 10.2      |\n",
       "| 11.325859 | 11.265436 | 10.8      |\n",
       "| 11.345547 | 11.286541 | 12.2      |\n",
       "|  9.488429 |  9.430868 |  8.5      |\n",
       "|  6.643573 |  6.587458 |  6.5      |\n",
       "|  3.977499 |  3.922791 |  5.1      |\n",
       "|  2.217229 |  2.163872 |  1.9      |\n",
       "\n"
      ],
      "text/plain": [
       "   test_predictions final_predictions Actual\n",
       "1   1.546022         1.498202          3.2  \n",
       "2   1.482831         1.421041          2.6  \n",
       "3   2.253287         2.188632          2.0  \n",
       "4   3.989125         3.924796          4.4  \n",
       "5   6.618600         6.555436          6.1  \n",
       "6   9.447580         9.385767         10.2  \n",
       "7  11.325859        11.265436         10.8  \n",
       "8  11.345547        11.286541         12.2  \n",
       "9   9.488429         9.430868          8.5  \n",
       "10  6.643573         6.587458          6.5  \n",
       "11  3.977499         3.922791          5.1  \n",
       "12  2.217229         2.163872          1.9  "
      ]
     },
     "metadata": {},
     "output_type": "display_data"
    }
   ],
   "source": [
    "Tmin_test_pred$England_NW_and_N_Wales %>%  as.data.frame()  %>% set_names(\"test_predictions\")-> test_N_wales\n",
    "Tmin_final_predictions$England_NW_and_N_Wales %>%  as.data.frame() %>% set_names(\"final_predictions\") -> final_N_wales\n",
    "Tmin$England_NW_and_N_Wales %>% window(start = 2020) -> England_NW_and_N_Wales_actual\n",
    "England_NW_and_N_Wales_actual %>% as.data.frame()%>%  set_names(\"Actual\") -> actual_N_wales\n",
    "cbind.data.frame(test_N_wales,final_N_wales,actual_N_wales)\n"
   ]
  },
  {
   "cell_type": "markdown",
   "metadata": {},
   "source": [
    "\n",
    "\n"
   ]
  },
  {
   "cell_type": "code",
   "execution_count": 163,
   "metadata": {},
   "outputs": [
    {
     "data": {
      "text/html": [
       "<table>\n",
       "<thead><tr><th scope=col>test_predictions</th><th scope=col>final_predictions</th><th scope=col>Actual</th></tr></thead>\n",
       "<tbody>\n",
       "\t<tr><td> 2.369714</td><td> 2.247397</td><td> 3.7     </td></tr>\n",
       "\t<tr><td> 2.292664</td><td> 2.106081</td><td> 3.9     </td></tr>\n",
       "\t<tr><td> 2.973141</td><td> 2.908926</td><td> 2.9     </td></tr>\n",
       "\t<tr><td> 4.636609</td><td> 4.400516</td><td> 5.4     </td></tr>\n",
       "\t<tr><td> 7.224215</td><td> 7.157505</td><td> 6.8     </td></tr>\n",
       "\t<tr><td>10.031540</td><td> 9.841134</td><td>10.4     </td></tr>\n",
       "\t<tr><td>11.901634</td><td>11.757708</td><td>11.2     </td></tr>\n",
       "\t<tr><td>11.938664</td><td>11.841460</td><td>13.1     </td></tr>\n",
       "\t<tr><td>10.142091</td><td> 9.922029</td><td> 9.5     </td></tr>\n",
       "\t<tr><td> 7.397123</td><td> 7.348201</td><td> 7.5     </td></tr>\n",
       "\t<tr><td> 4.833470</td><td> 4.616245</td><td> 5.6     </td></tr>\n",
       "\t<tr><td> 3.128227</td><td> 3.036602</td><td> 3.1     </td></tr>\n",
       "</tbody>\n",
       "</table>\n"
      ],
      "text/latex": [
       "\\begin{tabular}{r|lll}\n",
       " test\\_predictions & final\\_predictions & Actual\\\\\n",
       "\\hline\n",
       "\t  2.369714 &  2.247397 &  3.7     \\\\\n",
       "\t  2.292664 &  2.106081 &  3.9     \\\\\n",
       "\t  2.973141 &  2.908926 &  2.9     \\\\\n",
       "\t  4.636609 &  4.400516 &  5.4     \\\\\n",
       "\t  7.224215 &  7.157505 &  6.8     \\\\\n",
       "\t 10.031540 &  9.841134 & 10.4     \\\\\n",
       "\t 11.901634 & 11.757708 & 11.2     \\\\\n",
       "\t 11.938664 & 11.841460 & 13.1     \\\\\n",
       "\t 10.142091 &  9.922029 &  9.5     \\\\\n",
       "\t  7.397123 &  7.348201 &  7.5     \\\\\n",
       "\t  4.833470 &  4.616245 &  5.6     \\\\\n",
       "\t  3.128227 &  3.036602 &  3.1     \\\\\n",
       "\\end{tabular}\n"
      ],
      "text/markdown": [
       "\n",
       "| test_predictions | final_predictions | Actual |\n",
       "|---|---|---|\n",
       "|  2.369714 |  2.247397 |  3.7      |\n",
       "|  2.292664 |  2.106081 |  3.9      |\n",
       "|  2.973141 |  2.908926 |  2.9      |\n",
       "|  4.636609 |  4.400516 |  5.4      |\n",
       "|  7.224215 |  7.157505 |  6.8      |\n",
       "| 10.031540 |  9.841134 | 10.4      |\n",
       "| 11.901634 | 11.757708 | 11.2      |\n",
       "| 11.938664 | 11.841460 | 13.1      |\n",
       "| 10.142091 |  9.922029 |  9.5      |\n",
       "|  7.397123 |  7.348201 |  7.5      |\n",
       "|  4.833470 |  4.616245 |  5.6      |\n",
       "|  3.128227 |  3.036602 |  3.1      |\n",
       "\n"
      ],
      "text/plain": [
       "   test_predictions final_predictions Actual\n",
       "1   2.369714         2.247397          3.7  \n",
       "2   2.292664         2.106081          3.9  \n",
       "3   2.973141         2.908926          2.9  \n",
       "4   4.636609         4.400516          5.4  \n",
       "5   7.224215         7.157505          6.8  \n",
       "6  10.031540         9.841134         10.4  \n",
       "7  11.901634        11.757708         11.2  \n",
       "8  11.938664        11.841460         13.1  \n",
       "9  10.142091         9.922029          9.5  \n",
       "10  7.397123         7.348201          7.5  \n",
       "11  4.833470         4.616245          5.6  \n",
       "12  3.128227         3.036602          3.1  "
      ]
     },
     "metadata": {},
     "output_type": "display_data"
    }
   ],
   "source": [
    "Tmin_test_pred$England_SW_and_S_Wales %>%  as.data.frame()  %>% set_names(\"test_predictions\")-> test_S_wales\n",
    "Tmin_final_predictions$England_SW_and_S_Wales %>%  as.data.frame() %>% set_names(\"final_predictions\") -> final_S_wales\n",
    "Tmin$England_SW_and_S_Wales %>% window(start = 2020) -> England_SW_and_S_Wales_actual\n",
    "England_SW_and_S_Wales_actual %>% as.data.frame()%>%  set_names(\"Actual\") -> actual_S_wales\n",
    "cbind.data.frame(test_S_wales,final_S_wales,actual_S_wales)\n"
   ]
  },
  {
   "cell_type": "markdown",
   "metadata": {},
   "source": [
    "\n"
   ]
  },
  {
   "cell_type": "code",
   "execution_count": 164,
   "metadata": {},
   "outputs": [
    {
     "data": {
      "image/png": "[encoded data removed]",
      "text/plain": [
       "Plot with title “Actual predictions South wales”"
      ]
     },
     "metadata": {},
     "output_type": "display_data"
    }
   ],
   "source": [
    "par(mfrow=c(3,3))\n",
    "plot(test_N_wales,main = \"Test predictions North wales\")\n",
    "plot(final_N_wales,main = \"Final predictions North wales\")\n",
    "plot(actual_N_wales,main = \"Actual North wales\")\n",
    "plot(test_S_wales,main = \"Test predictions South wales\")\n",
    "plot(final_S_wales,main = \"Final predictions South wales\")\n",
    "plot(actual_S_wales,main = \"Actual predictions South wales\")\n"
   ]
  },
  {
   "cell_type": "markdown",
   "metadata": {},
   "source": [
    "\n",
    "\n"
   ]
  },
  {
   "cell_type": "code",
   "execution_count": null,
   "metadata": {},
   "outputs": [],
   "source": []
  },
  {
   "cell_type": "code",
   "execution_count": null,
   "metadata": {},
   "outputs": [],
   "source": []
  }
 ],
 "metadata": {
  "anaconda-cloud": "",
  "kernelspec": {
   "display_name": "R",
   "language": "R",
   "name": "ir"
  },
  "language_info": {
   "codemirror_mode": "r",
   "file_extension": ".r",
   "mimetype": "text/x-r-source",
   "name": "R",
   "pygments_lexer": "r",
   "version": "3.6.1"
  }
 },
 "nbformat": 4,
 "nbformat_minor": 1
}
